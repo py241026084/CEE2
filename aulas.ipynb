{
  "nbformat": 4,
  "nbformat_minor": 0,
  "metadata": {
    "colab": {
      "provenance": [],
      "toc_visible": true,
      "include_colab_link": true
    },
    "kernelspec": {
      "name": "python3",
      "display_name": "Python 3"
    },
    "language_info": {
      "name": "python"
    }
  },
  "cells": [
    {
      "cell_type": "markdown",
      "metadata": {
        "id": "view-in-github",
        "colab_type": "text"
      },
      "source": [
        "<a href=\"https://colab.research.google.com/github/py241026084/CEE2/blob/Aula-04%2F12%2F2024/aulas.ipynb\" target=\"_parent\"><img src=\"https://colab.research.google.com/assets/colab-badge.svg\" alt=\"Open In Colab\"/></a>"
      ]
    },
    {
      "cell_type": "markdown",
      "source": [
        "# Introdução ao Python 🐍"
      ],
      "metadata": {
        "id": "SqoOgoNMmA6p"
      }
    },
    {
      "cell_type": "markdown",
      "source": [
        "A linguagem **Python** é uma linguagem (de):\n",
        "\n",
        "\n",
        "*   **alto nível** - a linguagem é independente de plataforma (sistema operacional, processador, etc) e os comandos executam tarefas complexas;\n",
        "* **interpretada** - o código é executado linha a linha por um interpretador (partes do código são compiladas para *bytecode*).\n",
        "* **uso geral** - é uma linguagem útil para desenvolver qualquer tipo de código, não somente para realizar análises de dados.\n",
        "* **dinâmicamente tipada** - não é necessário declarar os tipos das variáveis; os tipos das variáveis podem mudar ao longo do código.\n",
        "* utiliza **coletores de lixo** (*garbage collector*) para gerenciar memória, retirando do programador esta preocupação.\n",
        "* Permite diversos paradigmas de programação, dentre os quais **programação estruturada** e a **programação orientada a objetos**.\n",
        "\n"
      ],
      "metadata": {
        "id": "mfw70Hykk-5l"
      }
    },
    {
      "cell_type": "markdown",
      "source": [
        "## Disponibilidade"
      ],
      "metadata": {
        "id": "yGnrHHjkl8kS"
      }
    },
    {
      "cell_type": "markdown",
      "source": [
        "A linguagem Python está disponível em https://www.python.org/downloads para as principais plataformas:\n",
        "\n",
        "* **Windows**: versões instalável e embarcável para as plataformas i32, i64 e ARM64;\n",
        "\n",
        "* **MacOS**: versão instalável para 64 bits universal.\n",
        "\n",
        "* **Linux**: já instalado nas principais distribuições."
      ],
      "metadata": {
        "id": "HYkI5dIpmt9H"
      }
    },
    {
      "cell_type": "markdown",
      "source": [
        "## Ambientes de desenvolvimento"
      ],
      "metadata": {
        "id": "3zNlrIpYm3_-"
      }
    },
    {
      "cell_type": "markdown",
      "source": [
        "Existe uma grande variedade de plataformas e IDE's (*Integrated Development Environment* - Ambiente Integrado de Desenvolvimento) para trabalhar com Python. Algumas das principais opções são:\n",
        "\n",
        "* **Anaconda**: Plataforma para Python que facilita o gerenciamento de pacotes e ambientes. Inclui ferramentas como Jupyter Notebook e Conda, um gerenciador de pacotes. Ideal para ciência de dados e computação científica. [Saiba mais](https://www.anaconda.com).\n",
        "\n",
        "* **PyCharm**: IDE com recursos avançados como autocompletar código, depuração e integração com controle de versão. É eficiente para desenvolvimento em Python e suporte a frameworks. [Saiba mais](https://www.jetbrains.com/pycharm).\n",
        "\n",
        "* **VSCode**: Editor de código-fonte leve e extensível, desenvolvido pela Microsoft. Suporta múltiplas linguagens e oferece autocompletar código, depuração e uma vasta gama de extensões. [Saiba mais](https://code.visualstudio.com).\n",
        "\n",
        "* **Jupyter Notebook**: Aplicação web para criar e compartilhar documentos com código executável, visualizações e texto. Popular em análise de dados e aprendizado de máquina, oferece uma interface interativa para experimentação e apresentação. [Saiba mais](https://jupyter.org).\n",
        "\n",
        "* **Google Colab**: Plataforma online para criar e executar notebooks Jupyter no navegador, com suporte a GPUs e TPUs. Facilita a colaboração e o compartilhamento em tempo real, sem necessidade de configuração local. [Saiba mais](https://colab.research.google.com).\n",
        "\n",
        "\n",
        "Escolha o que melhor se adapta ao seu estilo e gosto. No curso, vamos utilizar o **Google Colab**."
      ],
      "metadata": {
        "id": "rucVWse-m7dU"
      }
    },
    {
      "cell_type": "markdown",
      "source": [
        "## Para dar sorte"
      ],
      "metadata": {
        "id": "0Kk51CUIsjkZ"
      }
    },
    {
      "cell_type": "markdown",
      "source": [
        "É tradição quando se aprende uma nova linguagem de programação construir o programa que escreve [Hello World](https://en.wikipedia.org/wiki/%22Hello,_World!%22_program) no terminal. Esta tradição foi iniciada em 1974 de um resumo do livro *Programming in C: a tutorial* de [Brian Kernighan](https://en.wikipedia.org/wiki/Brian_Kernighan). Desde então sempre que se aprende uma nova linguagem de programação costuma-se fazer o famoso *Hello World!*. Em Python basta escrever:"
      ],
      "metadata": {
        "id": "r-fA5uCqsnHq"
      }
    },
    {
      "cell_type": "code",
      "source": [
        "print(\"Hello World!\")"
      ],
      "metadata": {
        "id": "DHqFvfldsuWX"
      },
      "execution_count": null,
      "outputs": []
    },
    {
      "cell_type": "markdown",
      "source": [
        "## Sintaxe\n",
        "\n",
        "As estruturas de código são identificadas por identação (geralmente 4 espaços):\n"
      ],
      "metadata": {
        "id": "tL7HTZPRtFdf"
      }
    },
    {
      "cell_type": "markdown",
      "source": [
        "Ao contrário de linguagens como C e Java que utilizam delimitadores (`{}`) e linguagens como o Pascal que utilizam `begin` e `end`.\n",
        "\n",
        "Por um lado isto simplifica a programação (pois não precisa se preocupar com os delimitadores), por outro lado, em códigos muito grandes, pode dificultar a leitura.\n",
        "\n",
        "O código abaixo ilustra este conceito."
      ],
      "metadata": {
        "id": "sVUubVP7t4Al"
      }
    },
    {
      "cell_type": "markdown",
      "source": [],
      "metadata": {
        "id": "4nkt5ZVztJFj"
      }
    },
    {
      "cell_type": "code",
      "source": [
        "# Comentários são iniciados com '#'\n",
        "# Esta linha será ignorada.\n",
        "print(\"Olá, Mundo!\")\n",
        "\n",
        "# As estruturas de código são identificadas por identação:\n",
        "if 5 > 2:\n",
        "  print(\"5 é maior que 2.\")   # Este comando está dentro do IF.\n",
        "\n",
        "# As variáveis são criadas atribuindo-se valores à elas:\n",
        "x = 5\n",
        "nome = \"Python\"\n",
        "\n",
        "print(x)\n",
        "print(nome)"
      ],
      "metadata": {
        "id": "Lms7vTjUtgGv"
      },
      "execution_count": null,
      "outputs": []
    },
    {
      "cell_type": "markdown",
      "source": [
        "## Exercício 1:\n",
        "Crie um código que escreva \"Olá, seu primeiro nome\"."
      ],
      "metadata": {
        "id": "MejS9QFYlstA"
      }
    },
    {
      "cell_type": "markdown",
      "source": [
        "# Tipos de dados"
      ],
      "metadata": {
        "id": "C5PyQeL0uH6U"
      }
    },
    {
      "cell_type": "markdown",
      "source": [
        "## Variáveis numéricas"
      ],
      "metadata": {
        "id": "Cbw1kFoJuL-E"
      }
    },
    {
      "cell_type": "markdown",
      "source": [
        "\n",
        "A linguagem **Python** permite o uso de variáveis numéricas inteiras (*int*), de ponto flutuante (*float*) e complexas (*complex*):"
      ],
      "metadata": {
        "id": "2lYjldsAuSQW"
      }
    },
    {
      "cell_type": "code",
      "source": [
        "# Números inteiros\n",
        "x = 20             # Inteiro com valor 20\n",
        "y = int(1024)      # Inteiro com valor 1024\n",
        "z = int('1234')    # Inteiro com valor 1234\n",
        "\n",
        "print(x)    # Exibe 20\n",
        "print(y)    # Exibe 1024\n",
        "print(z)    # Exibe 1234\n",
        "\n",
        "print(type(x))    # Exibe \"<class 'int'> indicando que é inteiro.\n",
        "print(type(y))    # Exibe \"<class 'int'> indicando que é inteiro.\n",
        "print(type(z))    # Exibe \"<class 'int'> indicando que é inteiro."
      ],
      "metadata": {
        "id": "264OCt1wua_F"
      },
      "execution_count": null,
      "outputs": []
    },
    {
      "cell_type": "code",
      "source": [
        "# Números de ponto flutuante\n",
        "x = 20.5               # Ponto flutuante com valor 20.5\n",
        "y = float(3.1415)      # Ponto flutuante com valor 3.1415\n",
        "z = float('1.2345')    # Ponto flutuante com valor 1.2345\n",
        "\n",
        "print(x)    # Exibe 20.5\n",
        "print(y)    # Exibe 3.1415\n",
        "print(z)    # Exibe 1.2345\n",
        "\n",
        "print(type(x))    # Exibe \"<class 'float'> indicando que é ponto flutuante.\n",
        "print(type(y))    # Exibe \"<class 'float'> indicando que é ponto flutuante.\n",
        "print(type(z))    # Exibe \"<class 'float'> indicando que é ponto flutuante."
      ],
      "metadata": {
        "id": "G2Hg7DaiufDK"
      },
      "execution_count": null,
      "outputs": []
    },
    {
      "cell_type": "code",
      "source": [
        "# Números complexos\n",
        "x = 1j                   # Número complexo 0.0 + 1.0i\n",
        "y = complex(2 + 3j)      # Número complexo 2.0 + 3.0i\n",
        "z = complex('1.2+3.4j')  # Número complexo 1.2 + 3.4i (sem espaços!)\n",
        "\n",
        "print(x)    # Exibe 1j\n",
        "print(y)    # Exibe (2+3j)\n",
        "print(z)    # Exibe (1.2+3.4j)\n",
        "\n",
        "print(type(x))    # Exibe \"<class 'complex'> indicando que é complexo.\n",
        "print(type(y))    # Exibe \"<class 'complex'> indicando que é complexo.\n",
        "print(type(z))    # Exibe \"<class 'complex'> indicando que é complexo."
      ],
      "metadata": {
        "id": "w1DCF9tjuiS4"
      },
      "execution_count": null,
      "outputs": []
    },
    {
      "cell_type": "markdown",
      "source": [
        "## Variáveis do tipo texto (string)"
      ],
      "metadata": {
        "id": "08fm0OpJu_b8"
      }
    },
    {
      "cell_type": "markdown",
      "source": [
        "A linguagem Python também permite o uso de variáveis do tipo texto (string):"
      ],
      "metadata": {
        "id": "L-AnjJWHvGQk"
      }
    },
    {
      "cell_type": "code",
      "source": [
        "x = \"Hello World!\"    # String \"Hello World!\"\n",
        "y = str(20)           # String \"20\"\n",
        "z = str(3.1415)       # String \"3.1415\"\n",
        "\n",
        "print(x)    # Exibe \"Hello World!\"\n",
        "print(y)    # Exibe \"20\"\n",
        "print(z)    # Exibe \"3.1415\"\n",
        "\n",
        "print(type(x))    # Exibe \"<class 'str'> indicando que é string.\n",
        "print(type(y))    # Exibe \"<class 'str'> indicando que é string.\n",
        "print(type(z))    # Exibe \"<class 'str'> indicando que é string."
      ],
      "metadata": {
        "id": "fOk2y7WgvKKp"
      },
      "execution_count": null,
      "outputs": []
    },
    {
      "cell_type": "markdown",
      "source": [
        "## Variáveis do tipo lógico (booleano)"
      ],
      "metadata": {
        "id": "qEt4J_HtvN-6"
      }
    },
    {
      "cell_type": "markdown",
      "source": [
        "A linguagem Python também permite o uso de variáveis do tipo lógica (booleana):"
      ],
      "metadata": {
        "id": "KAVEABWuvTlv"
      }
    },
    {
      "cell_type": "code",
      "source": [
        "x = False      # Booleano com valor False\n",
        "y = bool(1)    # Booleano com valor True\n",
        "z = (3 > 5)    # Booleano com valor False\n",
        "\n",
        "print(x)    # Exibe False\n",
        "print(y)    # Exibe True\n",
        "print(z)    # Exibe False\n",
        "\n",
        "print(type(x))    # Exibe \"<class 'bool'> indicando que é booleano.\n",
        "print(type(y))    # Exibe \"<class 'bool'> indicando que é booleano.\n",
        "print(type(z))    # Exibe \"<class 'bool'> indicando que é booleano."
      ],
      "metadata": {
        "id": "CMLwvEqFvWRy"
      },
      "execution_count": null,
      "outputs": []
    },
    {
      "cell_type": "markdown",
      "source": [
        "## Importante"
      ],
      "metadata": {
        "id": "-Il4DoUkvh1v"
      }
    },
    {
      "cell_type": "markdown",
      "source": [
        "* Textos (*strings*) que representam números não podem ser utilizados em cálculos, a menos que sejam convertidos com `int()` ou `float()`.\n",
        "\n",
        "* Na conversão de números para booleano, o valor númerico `0` é convertido para `False` e todos os demais valores para `True`."
      ],
      "metadata": {
        "id": "GQAm8hWKvkir"
      }
    },
    {
      "cell_type": "markdown",
      "source": [
        "## Exercício 1: Convertendo entre int e float\n",
        "\n",
        "Crie três variáveis: uma do tipo `int`, uma do tipo `float` e uma do tipo `bool`. Exiba os valores de cada uma dessas variáveis e o tipo delas. Em seguida, converta as variáveis de acordo com as instruções abaixo:\n",
        "\n",
        "* Converta o número inteiro para float e exiba o resultado.\n",
        "* Converta o número decimal (float) para int e exiba o resultado.\n",
        "* Tente converter o valor booleano para int e float, e observe os resultados.\n",
        "\n",
        "\n"
      ],
      "metadata": {
        "id": "3L4zf0sbsc5M"
      }
    },
    {
      "cell_type": "markdown",
      "source": [
        "## Exercício 2: Operações básicas com int e float\n",
        "\n",
        "Crie duas variáveis: uma contendo um número inteiro igual a 5 (`num1 = 5`) e outra contendo um número decimal float igual a 2.5 (`num2 = 2.5`). Em seguida, execute as seguintes operações e printe o resultado:\n",
        "\n",
        "* Adição  (`num1 + num2`)\n",
        "* Subtração (`num1 - num2`)\n",
        "* Multiplicação (`num1 * num2`)\n",
        "* Divisão (`num1 / num2`)\n",
        "\n",
        "\n"
      ],
      "metadata": {
        "id": "4-0M8jO3uCRQ"
      }
    },
    {
      "cell_type": "markdown",
      "source": [
        "## Exercício 3: Calculando a área de um círculo\n",
        "\n",
        "Crie um programa que calcule a área de um círculo, dada a fórmula: $A = \\pi * r^2$. Atribua um valor para o raio (como float) e mostre o resultado da área. Utilize π = 3.14159.\n",
        "\n",
        "* O resultado deve ser apresentado como \"A área do círculo é: {area}\"\n",
        "\n",
        "\n"
      ],
      "metadata": {
        "id": "oKJQjbesw9KO"
      }
    },
    {
      "cell_type": "markdown",
      "source": [
        "# Operações Matemáticas\n",
        "\n",
        "\n",
        "Python é uma linguagem muito utilizada para realizar operações matemáticas, seja para cálculos simples ou mais avançados. Neste tutorial, vamos aprender sobre as operações matemáticas básicas em Python, como soma, subtração, multiplicação, divisão, além de algumas funções matemáticas úteis.\n"
      ],
      "metadata": {
        "id": "L5Pt7A9hYqmV"
      }
    },
    {
      "cell_type": "markdown",
      "source": [
        "##  Operadores Matemáticos Básicos\n",
        "\n",
        "| Operador | Descrição                 | Exemplo           |\n",
        "|----------|---------------------------|-------------------|\n",
        "| `+`      | Adição                    | `2 + 3 = 5`       |\n",
        "| `-`      | Subtração                 | `5 - 2 = 3`       |\n",
        "| `*`      | Multiplicação             | `2 * 3 = 6`       |\n",
        "| `/`      | Divisão                   | `6 / 2 = 3.0`     |\n",
        "| `//`     | Divisão inteira           | `7 // 2 = 3`      |\n",
        "| `%`      | Módulo (resto da divisão) | `7 % 2 = 1`       |\n",
        "| `**`     | Exponenciação             | `2 ** 3 = 8`      |\n",
        "\n",
        "\\\\\n",
        "**Exemplo:**"
      ],
      "metadata": {
        "id": "123J8JWwahiN"
      }
    },
    {
      "cell_type": "code",
      "source": [
        "x = 10\n",
        "\n",
        "# Atualizando o valor de x\n",
        "x += 5  # Agora x é 15\n",
        "print(x)\n",
        "\n",
        "x *= 2  # Agora x é 30\n",
        "print(x)\n",
        "\n",
        "x -= 7  # Agora x é 23\n",
        "print(x)\n"
      ],
      "metadata": {
        "id": "YVNNdubYZxN4"
      },
      "execution_count": null,
      "outputs": []
    },
    {
      "cell_type": "markdown",
      "source": [
        "## Funções Matemáticas com math\n",
        "\n",
        "O Python possui um módulo chamado `math` que contém várias funções matemáticas úteis, veja mais detalhes em [doc.math](https://docs.python.org/pt-br/3/library/math.html). Para utilizá-las, é necessário importar o módulo.\n",
        "\n",
        "**Exemplo:**"
      ],
      "metadata": {
        "id": "ZFL0HGGTakD2"
      }
    },
    {
      "cell_type": "code",
      "source": [
        "import math\n",
        "\n",
        "# Raiz quadrada\n",
        "print(math.sqrt(16))  # 4.0\n",
        "\n",
        "# Potência (equivalente a **)\n",
        "print(math.pow(2, 3))  # 8.0\n",
        "\n",
        "# Exponencial (equivalente e^x)\n",
        "print(math.exp(1))\n",
        "\n",
        "# Logaritmo\n",
        "## math.log(x) = logaritmo natural de x\n",
        "print(math.log(10))\n",
        "\n",
        "## ## math.log(x, b) = logaritmo x na base b\n",
        "print(math.log(10, 10))\n",
        "\n",
        "# Fatorial\n",
        "print(math.factorial(5))  # 120\n",
        "\n",
        "# Valor absoluto\n",
        "print(abs(-10))  # 10\n",
        "\n",
        "# Arredondamento para baixo (floor)\n",
        "print(math.floor(2.9))  # 2\n",
        "\n",
        "# Arredondamento para cima (ceil)\n",
        "print(math.ceil(2.1))  # 3"
      ],
      "metadata": {
        "id": "NwzJ-jTNauuw"
      },
      "execution_count": null,
      "outputs": []
    },
    {
      "cell_type": "markdown",
      "source": [
        "## Atualizando Variáveis com Operadores Atribuição\n",
        "\n",
        "Além de usar operadores matemáticos básicos, você pode usar operadores de atribuição para atualizar o valor de uma variável diretamente.\n",
        "\n",
        "| Operador | Exemplo  | Equivalente      |\n",
        "|----------|----------|------------------|\n",
        "| `+=`     | `x += 3` | `x = x + 3`      |\n",
        "| `-=`     | `x -= 3` | `x = x - 3`      |\n",
        "| `*=`     | `x *= 3` | `x = x * 3`      |\n",
        "| `/=`     | `x /= 3` | `x = x / 3`      |\n",
        "| `//=`    | `x //= 3`| `x = x // 3`     |\n",
        "| `%=`     | `x %= 3` | `x = x % 3`      |\n",
        "| `**=`    | `x **= 3`| `x = x ** 3`     |\n",
        "\n",
        "\\\\\n",
        "**Exemplo:**"
      ],
      "metadata": {
        "id": "w1QFB_2qbFZd"
      }
    },
    {
      "cell_type": "code",
      "source": [
        "x = 10\n",
        "\n",
        "# Atualizando o valor de x\n",
        "x += 5  # Agora x é 15\n",
        "print(x)\n",
        "\n",
        "x *= 2  # Agora x é 30\n",
        "print(x)\n",
        "\n",
        "x -= 7  # Agora x é 23\n",
        "print(x)\n"
      ],
      "metadata": {
        "id": "W3iYzxz2bT5z"
      },
      "execution_count": null,
      "outputs": []
    },
    {
      "cell_type": "markdown",
      "source": [
        "## Resumo das funções básicas do Python\n",
        "\n",
        "### 1. **`int()`**\n",
        "   - **Descrição**: Converte um valor para inteiro (removendo a parte decimal se for um número de ponto flutuante).\n",
        "   - **Exemplo**:\n",
        "     ```python\n",
        "     int(5.8)  # Retorna 5\n",
        "     int('123')  # Retorna 123\n",
        "     ```\n",
        "\n",
        "### 2. **`float()`**\n",
        "   - **Descrição**: Converte um valor para um número de ponto flutuante (decimal).\n",
        "   - **Exemplo**:\n",
        "     ```python\n",
        "     float(10)  # Retorna 10.0\n",
        "     float('3.14')  # Retorna 3.14\n",
        "     ```\n",
        "\n",
        "### 3. **`round()`**\n",
        "   - **Descrição**: Arredonda um número de ponto flutuante para o inteiro mais próximo ou para um número de casas decimais especificado.\n",
        "   - **Exemplo**:\n",
        "     ```python\n",
        "     round(3.14159, 2)  # Retorna 3.14\n",
        "     round(5.7)  # Retorna 6\n",
        "     ```\n",
        "\n",
        "### 4. **`abs()`**\n",
        "   - **Descrição**: Retorna o valor absoluto de um número (sem sinal).\n",
        "   - **Exemplo**:\n",
        "     ```python\n",
        "     abs(-10)  # Retorna 10\n",
        "     abs(3.5)  # Retorna 3.5\n",
        "     ```\n",
        "\n",
        "### 5. **`pow()`**\n",
        "   - **Descrição**: Calcula a exponenciação de um número, equivalente a `x ** y`.\n",
        "   - **Exemplo**:\n",
        "     ```python\n",
        "     pow(2, 3)  # Retorna 8 (2^3)\n",
        "     pow(9, 0.5)  # Retorna 3.0 (raiz quadrada de 9)\n",
        "     ```\n",
        "\n",
        "### 6. **`min()`**\n",
        "   - **Descrição**: Retorna o menor valor de uma sequência ou entre os argumentos fornecidos.\n",
        "   - **Exemplo**:\n",
        "     ```python\n",
        "     min(3, 1, 5)  # Retorna 1\n",
        "     min([10, 20, -5, 4])  # Retorna -5\n",
        "     ```\n",
        "\n",
        "### 7. **`max()`**\n",
        "   - **Descrição**: Retorna o maior valor de uma sequência ou entre os argumentos fornecidos.\n",
        "   - **Exemplo**:\n",
        "     ```python\n",
        "     max(3, 1, 5)  # Retorna 5\n",
        "     max([10, 20, -5, 4])  # Retorna 20\n",
        "     ```\n",
        "\n",
        "### 8. **`sum()`**\n",
        "   - **Descrição**: Soma todos os elementos de uma sequência (como uma lista ou tupla).\n",
        "   - **Exemplo**:\n",
        "     ```python\n",
        "     sum([1, 2, 3, 4])  # Retorna 10\n",
        "     sum((5, 10, 15))  # Retorna 30\n",
        "     ```\n",
        "\n",
        "### 9. **`divmod()`**\n",
        "   - **Descrição**: Retorna o quociente e o resto da divisão como uma tupla `(q, r)`.\n",
        "   - **Exemplo**:\n",
        "     ```python\n",
        "     divmod(10, 3)  # Retorna (3, 1)\n",
        "     ```\n",
        "\n",
        "### 10. **`complex()`**\n",
        "   - **Descrição**: Cria um número complexo com a parte real e imaginária.\n",
        "   - **Exemplo**:\n",
        "     ```python\n",
        "     complex(2, 3)  # Retorna (2+3j)\n",
        "     ```\n",
        "\n",
        "### 11. **`bin()`**\n",
        "   - **Descrição**: Converte um número inteiro para sua representação binária.\n",
        "   - **Exemplo**:\n",
        "     ```python\n",
        "     bin(10)  # Retorna '0b1010'\n",
        "     ```\n",
        "\n",
        "### 12. **`bool()`**\n",
        "   - **Descrição**: Converte um valor para `True` ou `False`, baseado na sua \"verdade\". Números zero e valores vazios são `False`, enquanto os demais são `True`.\n",
        "   - **Exemplo**:\n",
        "     ```python\n",
        "     bool(0)  # Retorna False\n",
        "     bool(5)  # Retorna True\n",
        "     bool('')  # Retorna False\n",
        "     ```\n"
      ],
      "metadata": {
        "id": "SmFjxODJc_nZ"
      }
    },
    {
      "cell_type": "markdown",
      "source": [
        "## Exemplo: Cálculo de Área e Perímetro\n",
        "\n",
        "Escreva um programa que receba o raio de um círculo e calcule a área e o perímetro. Lembrando as equações são\n",
        "$$\n",
        "Area = \\pi \\, r^2\n",
        "\\\\\n",
        "Perimetro = 2 \\pi \\, r\n",
        "$$\n",
        "\n",
        "Utilize a constante `math.pi` para o valor de $\\pi$."
      ],
      "metadata": {
        "id": "R4rGVR_7g9er"
      }
    },
    {
      "cell_type": "code",
      "source": [
        "# Solução\n",
        "import math\n",
        "\n",
        "raio = float(input(\"Digite o raio do círculo: \"))\n",
        "\n",
        "area = math.pi * (raio ** 2)\n",
        "perimetro = 2 * math.pi * raio\n",
        "\n",
        "print(f\"Área: {area:.2f}\")\n",
        "print(f\"Perímetro: {perimetro:.2f}\")\n"
      ],
      "metadata": {
        "id": "wapagYs9hHsk"
      },
      "execution_count": null,
      "outputs": []
    },
    {
      "cell_type": "markdown",
      "source": [
        "## Exercício 1: Conversor de Temperatura\n",
        "\n",
        "Crie um programa que converta uma temperatura de graus Celsius para Fahrenheit.\n",
        "\n",
        "A fórmula de conversão é:\n",
        "$$\n",
        "Fahrenheit = Celsius \\times \\frac{9}{5} + 32\n",
        "$$\n",
        "\n",
        "Obs: para receber a temperatura em Celsius do usuário, utilize o comando:\n",
        "\n",
        " * `celsius = float(input(\"Digite a temperatura em Celsius: \"))`"
      ],
      "metadata": {
        "id": "IropyA5xbHDw"
      }
    },
    {
      "cell_type": "markdown",
      "source": [
        "## Exercício 2: Calculadora de IMC\n",
        "\n",
        "Crie um programa que recebe calcula o Índice de Massa Corporal (IMC). Para isto você deve receber do usuário o peso e a altura.\n",
        "\n",
        "A fórmula do IMC é dada por:\n",
        "$$\n",
        "IMC = peso / altura^2,\n",
        "$$\n",
        "em que peso é dado em kg e a altura em metros.\n",
        "\n",
        "Obs: utilize os seguintes comandos para ser o peso e a altura:\n",
        "* `peso = float(input(\"Digite o peso em quilogramas: \"))`\n",
        "* `altura = float(input(\"Digite a altura em metros: \"))`"
      ],
      "metadata": {
        "id": "HiM204Q0dhlQ"
      }
    },
    {
      "cell_type": "markdown",
      "source": [
        "# Coleções"
      ],
      "metadata": {
        "id": "ggyndaXSYDt0"
      }
    },
    {
      "cell_type": "markdown",
      "source": [
        "## Listas"
      ],
      "metadata": {
        "id": "b1gBeTabvwKd"
      }
    },
    {
      "cell_type": "markdown",
      "source": [
        "As listas são usadas quando você precisa de uma estrutura de dados ordenada e mutável. Elas são a estrutura mais flexível, permitindo alterações em seus elementos, como adicionar, remover ou modificar valores.\n",
        "\n",
        "As **listas** (`list`) são coleções:\n",
        "\n",
        "* **ordenadas** -- os elementos mantém a ordem de inclusão.\n",
        "\n",
        "* **elementos podem ser alterados** -- o valor dos elementos podem ter seus valores alterados.\n",
        "\n",
        "* **permite duplicação dos elementos** -- os elementos podem ter valores repetidos."
      ],
      "metadata": {
        "id": "-PYNGIrlvy25"
      }
    },
    {
      "cell_type": "markdown",
      "source": [
        "Os métodos definidos na classe `list` são:\n",
        "\n",
        "* `append()`: Adiciona um elemento no final da lista.\n",
        "* `clear()`: Remove todos os elementos da lista.\n",
        "* `copy()`: Retorna uma cópia da lista.\n",
        "* `count()`: Retorna o número de elementos com o valor especificado.\n",
        "* `extend()`: Adiciona os elementos de um conjunto de dados ao final da lista.\n",
        "* `index()`: Retorna o índice do primeiro elemento com o valor especificado.\n",
        "* `insert()`: Adiciona um elemento na posição especificada.\n",
        "* `pop()`: Remove e retorna o elemento na posição especificada.\n",
        "* `remove():` Remove o primeiro elemento com o valor especificado.\n",
        "* `reverse()`: Inverte a ordem da lista.\n",
        "* `sort()`: Ordena a lista."
      ],
      "metadata": {
        "id": "dkTRT0XF12XC"
      }
    },
    {
      "cell_type": "markdown",
      "source": [
        "As listas são criadas usando `[]` ou `list()`. Veja os exemplos abaixo."
      ],
      "metadata": {
        "id": "nP3l5XZR7aoh"
      }
    },
    {
      "cell_type": "code",
      "source": [
        "v1 = [\"Fortran\", \"Python\", \"R\", \"Python\"]\n",
        "v2 = list((\"Fortran\", \"Python\", \"R\", \"Python\"))\n",
        "\n",
        "print(v1)    # Exibe a lista v1.\n",
        "print(v2)    # Exibe a lista v2.\n",
        "\n",
        "print(type(v1))    # Exibe \"<class 'list'> indicando que é lista.\n",
        "print(type(v2))    # Exibe \"<class 'list'> indicando que é lista."
      ],
      "metadata": {
        "id": "ObjKZskBv2rb"
      },
      "execution_count": null,
      "outputs": []
    },
    {
      "cell_type": "code",
      "source": [
        "v = [\"Fortran\", \"Python\", \"R\", \"Python\"]\n",
        "\n",
        "## acessando posições de um lista\n",
        "print(v[0])    # Exibe 'Fortran'\n",
        "print(v[1])    # Exibe 'Python'\n",
        "print(v[2])    # Exibe 'R'\n",
        "print(v[3])    # Exibe 'Python'\n",
        "\n",
        "## print(v[4])) # gera um erro pois essa posição não existe na lista v"
      ],
      "metadata": {
        "id": "kwbNzr1Xyvq9"
      },
      "execution_count": null,
      "outputs": []
    },
    {
      "cell_type": "code",
      "source": [
        "v = [\"Fortran\", \"Python\", \"R\", \"Python\"]\n",
        "\n",
        "## acessando posições de um lista\n",
        "print(v[-1])    # Exibe 'Python'\n",
        "print(v[-2])    # Exibe 'R'\n",
        "print(v[-3])    # Exibe 'Python'\n",
        "print(v[-4])    # Exibe 'Fortran'\n",
        "\n",
        "## print(v[-5])) # gera um erro pois essa posição não existe na lista"
      ],
      "metadata": {
        "id": "7EavSk1TzCiz"
      },
      "execution_count": null,
      "outputs": []
    },
    {
      "cell_type": "code",
      "source": [
        "v = [\"Fortran\", \"Python\", \"R\", \"Python\"]\n",
        "\n",
        "print(v)     # exibe a lista original\n",
        "\n",
        "v[1] = \"C++\" # altera o segundo elemento da lista\n",
        "\n",
        "print(v)     # exibe a lista alterada"
      ],
      "metadata": {
        "id": "dGWIpR8W0aoK"
      },
      "execution_count": null,
      "outputs": []
    },
    {
      "cell_type": "code",
      "source": [
        "v1 = [\"Cobol\", \"Fortran\", \"Python\"]\n",
        "v2 = [\"A\", \"B\", \"C\", \"D\"]\n",
        "\n",
        "print(v1[0]) # Exibe 'Cobol'\n",
        "print(v2[1]) # Exibe 'B'\n",
        "\n",
        "print(\"------\")\n",
        "\n",
        "v1.append(\"R\")               # v1 = ['Cobol', 'Fortran', 'Python', 'R']\n",
        "v2.clear()                   # v2 = []\n",
        "v3 = v1.copy()               # v3 = ['Cobol', 'Fortran', 'Python', 'R']\n",
        "print( v1.count(\"R\") )       # => 1  ('R' aparece 1 vez)\n",
        "print(\"------\")\n",
        "v1.extend([\"Java\", \"C\"])     # v1 = ['Cobol', 'Fortran', 'Python', 'R', 'Java', 'C']\n",
        "print(v1.index(\"Python\"))    # => 2 ('Python' está na posição 2)\n",
        "print(\"------\")\n",
        "v1.insert(1, \"C#\")           # v1 = ['Cobol', 'C#', 'Fortran', 'Python', 'R', 'Java', 'C']\n",
        "print(v1.pop(1))             # v1 = ['Cobol', 'Fortran', 'Python', 'R', 'Java', 'C'] => 'C#'\n",
        "print(\"------\")\n",
        "v1.remove(\"Fortran\")         # v1 = ['Cobol', 'Python', 'R', 'Java', 'C']\n",
        "v1.reverse()                 # v1 = ['C', 'Java', 'R', 'Python', 'Cobol']\n",
        "v1.sort()                    # v1 = ['C', 'Cobol', 'Java', 'Python', 'R']\n",
        "\n",
        "print(\"v1 = \", v1)           # Exibe v1 = ['C', 'Cobol', 'Java', 'Python', 'R']\n",
        "print(\"v2 = \", v2)           # Exibe v2 = []\n",
        "print(\"v3 = \", v3)           # Exibe v3 = ['Cobol', 'Fortran', 'Python', 'R']"
      ],
      "metadata": {
        "id": "Ldw9kp5312XC"
      },
      "execution_count": null,
      "outputs": []
    },
    {
      "cell_type": "markdown",
      "source": [
        "**Pilhas utilizando `list`**\n",
        "\n",
        "Os métodos de lista tornam muito fácil usar uma lista como uma **pilha**, onde o último elemento adicionado é o primeiro elemento recuperado (“último a entrar, primeiro a sair”). Para adicionar um item ao topo da pilha, use `append()`. Para recuperar um item do topo da pilha, use `pop()` sem um índice explícito. Por exemplo:"
      ],
      "metadata": {
        "id": "R8GIWJI193Ig"
      }
    },
    {
      "cell_type": "code",
      "source": [
        "pilha = []            ## inicializa uma lista vazia\n",
        "pilha.append(3)       ## atualiza para [3]\n",
        "pilha.append(4)       ## atualiza para [3, 4]\n",
        "pilha.append(5)       ## atualiza para [3, 4, 5]\n",
        "pilha.append(6)       ## atualiza para [3, 4, 5, 6]\n",
        "pilha.append(7)       ## atualiza para [3, 4, 5, 6, 7]\n",
        "print( pilha )        ## printa [3, 4, 5, 6, 7]\n",
        "\n",
        "pilha.pop()           ## remove o 7\n",
        "pilha.pop()           ## remove o 6\n",
        "print( pilha )        ## printa [3, 4, 5]\n",
        "\n",
        "pilha.pop()           ## remove o 5\n",
        "pilha.pop()           ## remove o 4\n",
        "pilha.pop()           ## remove o 3\n",
        "print( pilha )        ## printa []\n"
      ],
      "metadata": {
        "id": "0zK0ddpz-W1N"
      },
      "execution_count": null,
      "outputs": []
    },
    {
      "cell_type": "markdown",
      "source": [
        "### Exercício 1: Modificando uma lista\n",
        "\n",
        "Dada a lista `frutas = [\"maçã\", \"banana\", \"laranja\", \"uva\"]`, faça o seguinte:\n",
        "\n",
        "* Substitua a fruta \"banana\" por \"abacaxi\".\n",
        "* Adicione a fruta \"morango\" ao final da lista.\n",
        "* Exiba a lista resultante.\n",
        "* Coloque a lista em ordem alfabética.\n",
        "* Substitua a fruta \"maçã\" por \"pera\".\n",
        "* Exiba a lista e verifique se ainda esta ordenada. Caso não esteja, então ordene e exiba novamente.\n",
        "\n",
        "\n"
      ],
      "metadata": {
        "id": "u1BW2jla3Wuh"
      }
    },
    {
      "cell_type": "markdown",
      "source": [
        "## Tuplas"
      ],
      "metadata": {
        "id": "HWqa_8owwjba"
      }
    },
    {
      "cell_type": "markdown",
      "source": [
        "**Tuplas** (`tuple`) são similares às listas, mas com a diferença de serem imutáveis, ou seja, seus valores não podem ser alterados após a criação. Temos então as seguintes propriedades para a classe `tuble`:\n",
        "\n",
        "* **ordenadas** -- os elementos mantém a ordem de inclusão.\n",
        "\n",
        "* **elementos não podem ser alterados** -- o valor dos elementos não podem ter seus valores alterados.\n",
        "\n",
        "* **permite duplicação dos elementos** -- os elementos podem ter valores repetidos.\n",
        "\n"
      ],
      "metadata": {
        "id": "aFaI2sXAw4Fu"
      }
    },
    {
      "cell_type": "markdown",
      "source": [
        "Os métodos definidos na classe **tupla** são:\n",
        "\n",
        "* `count()`: Retorna o número de elementos com o valor especificado.\n",
        "* `index()`: Retorna o índice do primeiro elemento com o valor especificado.\n"
      ],
      "metadata": {
        "id": "qtwICsiCrgUe"
      }
    },
    {
      "cell_type": "markdown",
      "source": [
        "As **tuplas** são criadas usando apenas virgulas ou `()` ou `tuple()`:"
      ],
      "metadata": {
        "id": "CRxr89p5r1AY"
      }
    },
    {
      "cell_type": "code",
      "source": [
        "v0 = \"Fortran\", \"Python\", \"R\", \"Python\"\n",
        "v1 = (\"Fortran\", \"Python\", \"R\", \"Python\")\n",
        "v2 = tuple((\"Fortran\", \"Python\", \"R\", \"Python\"))\n",
        "\n",
        "print(v0)    # Exibe a tupla v0.\n",
        "print(v1)    # Exibe a tupla v1.\n",
        "print(v2)    # Exibe a tupla v2.\n",
        "\n",
        "print(type(v0))    # Exibe \"<class 'tuple'> indicando que é tupla.\n",
        "print(type(v1))    # Exibe \"<class 'tuple'> indicando que é tupla.\n",
        "print(type(v2))    # Exibe \"<class 'tuple'> indicando que é tupla."
      ],
      "metadata": {
        "id": "xNUzGHMuwwGG"
      },
      "execution_count": null,
      "outputs": []
    },
    {
      "cell_type": "markdown",
      "source": [
        "Os elementos de uma **tupla** podem ser *desempacotados* em um conjunto de variáveis:"
      ],
      "metadata": {
        "id": "e4rKizuhr1AZ"
      }
    },
    {
      "cell_type": "code",
      "source": [
        "frutas = (\"maçã\", \"banana\", \"cereja\")\n",
        "(verde, amarelo, vermelho) = frutas\n",
        "\n",
        "print(verde)       # Exibe 'maçã'\n",
        "print(amarelo)     # Exibe 'banana'\n",
        "print(vermelho)    # Exibe 'cereja'"
      ],
      "metadata": {
        "id": "WnGN4BWpr1AZ"
      },
      "execution_count": null,
      "outputs": []
    },
    {
      "cell_type": "markdown",
      "source": [
        "Se existem múltiplos elementos, os elementos finais da **tupla** podem ser atribuídos à uma lista:"
      ],
      "metadata": {
        "id": "OInib-XEr1AZ"
      }
    },
    {
      "cell_type": "code",
      "source": [
        "frutas = (\"maçã\", \"banana\", \"cereja\", \"morango\", \"framboesa\")\n",
        "(verde, amarelo, *vermelho) = frutas\n",
        "\n",
        "print(verde)\n",
        "print(amarelo)\n",
        "print(vermelho)"
      ],
      "metadata": {
        "id": "arqd7rfvr1AZ"
      },
      "execution_count": null,
      "outputs": []
    },
    {
      "cell_type": "code",
      "source": [
        "v = (\"Cobol\", \"Fortran\", \"Python\", \"Python\", \"Python\")\n",
        "\n",
        "print(v[0])    # Exibe 'Cobol'\n",
        "print(v[1])    # Exibe 'Fortran\n",
        "print(v[-1])   # Exibe 'Python'\n",
        "print(v[1:4])  # Exibe ('Fortran', 'Python', 'Python')\n",
        "\n",
        "print(v.count(\"Python\"))    # Exibe 3 ('Python' ocorre 3 vezes)\n",
        "print(v.index(\"Python\"))    # Exibe 2 (a primeira ocorrência de 'Python' está na posição 2)"
      ],
      "metadata": {
        "id": "iAtfmMhFr1AZ"
      },
      "execution_count": null,
      "outputs": []
    },
    {
      "cell_type": "markdown",
      "source": [
        "### Exercício 2: Buscando um elemento em uma tupla\n",
        "\n",
        "Dada a tupla `frutas = (\"maçã\", \"banana\", \"laranja\", \"uva\")`, encontre e exiba o índice da fruta \"laranja\".\n",
        "\n"
      ],
      "metadata": {
        "id": "--N32RVhwQZ5"
      }
    },
    {
      "cell_type": "markdown",
      "source": [
        "## Conjuntos"
      ],
      "metadata": {
        "id": "3Cc1ByHexKaG"
      }
    },
    {
      "cell_type": "markdown",
      "source": [
        "Os **conjuntos** (`set`) são coleções desordenadas de itens únicos, o que significa que eles não mantêm uma ordem específica e não permitem elementos duplicados. Temos então as seguintes propriedades para a classe `set`:\n",
        "\n",
        "* **não ordenadas** -- os elementos mantém uma ordem aleatória.\n",
        "\n",
        "* **elementos não podem ser alterados** -- o valor dos elementos não podem ter seus valores alterados, embora possam ser incluídos ou excluídos do conjunto.\n",
        "\n",
        "* **não permite duplicação dos elementos** -- os elementos não podem ter valores repetidos; são incluídos uma única vez."
      ],
      "metadata": {
        "id": "Zec9oUtaxRNt"
      }
    },
    {
      "cell_type": "markdown",
      "source": [
        "Os principais métodos definidos na classe `set` são:\n",
        "\n",
        "* `add()`: adiciona um elemento ao conjunto.\n",
        "* `clear()`: remove todos os elementos do conjunto.\n",
        "* `copy()`: retorna uma cópia do conjunto.\n",
        "* `difference()`: retorna um conjunto contendo a diferença entre dois ou mais conjuntos.\n",
        "* `discard()`: Remove um item especificado.\n",
        "* `intersection()`: retorna um conjunto com aintersecção entre dois conjuntos.\n",
        "* `isdisjoint()`: verifica se os conjuntos são disjuntos.\n",
        "* `issubset()`: verifica se o conjunto está contido em outro conjunto.\n",
        "* `issuperset()`: verifica se o conjunto contém outro conjunto.\n",
        "* `remove()`: remove o elemento especificado.\n",
        "* `union()`: Retorna um conjunto com a união entre conjuntos.\n",
        "* `update()`: Atualiza o conjunto acrescentando outros conjuntos."
      ],
      "metadata": {
        "id": "VN_-Ld7zxBAC"
      }
    },
    {
      "cell_type": "markdown",
      "source": [
        "Os **conjuntos** são criados usando `{}` ou `set()`:"
      ],
      "metadata": {
        "id": "0qSLcJ8bwaks"
      }
    },
    {
      "cell_type": "code",
      "source": [
        "v1 = {\"Fortran\", \"Python\", \"R\", \"Python\"}\n",
        "v2 = set((\"Fortran\", \"Python\", \"R\", \"Python\"))\n",
        "\n",
        "print(v1)    # Exibe o conjunto v1.\n",
        "print(v2)    # Exibe o conjunto v2.\n",
        "\n",
        "print(type(v1))    # Exibe \"<class 'set'> indicando que é conjunto.\n",
        "print(type(v2))    # Exibe \"<class 'set'> indicando que é conjunto."
      ],
      "metadata": {
        "id": "HBWinuxuxIqP"
      },
      "execution_count": null,
      "outputs": []
    },
    {
      "cell_type": "markdown",
      "source": [
        "Elementos repetidos em um conjunto são ignorados:"
      ],
      "metadata": {
        "id": "Hrqa9hJZw0Xk"
      }
    },
    {
      "cell_type": "code",
      "source": [
        "v = {1, 2, 3, 3, 4, 5}\n",
        "print(v)"
      ],
      "metadata": {
        "id": "ECymgIMRw35q"
      },
      "execution_count": null,
      "outputs": []
    },
    {
      "cell_type": "code",
      "source": [
        "s1 = {\"A\", \"B\", \"C\", \"D\", \"E\"}\n",
        "s2 = {\"A\", \"B\", \"C\"}\n",
        "s3 = {\"X\", \"Y\", \"Z\"}\n",
        "\n",
        "s3.add(\"W\")                           # s3 = {'X', 'W', 'Y', 'Z'}\n",
        "print(\"s3: \", s3)                     # exibe: s3:  {'W', 'X', 'Y', 'Z'}\n",
        "s3.clear()                            # s3 = {}\n",
        "print(\"s3: \", s3)                     # exibe: s3:  set()\n",
        "\n",
        "s3 = s2.copy()                        # s3 = {'A', 'B', 'C'}\n",
        "print(\"s3: \", s3)                     # exibe: s3:  {'A', 'B', 'C'}\n",
        "\n",
        "s3 = s1.difference(s2)                # s3 = {'D', 'E'}\n",
        "print(\"s3: \", s3)                     # exibe: s3:  {'D', 'E'}\n",
        "\n",
        "s3.discard(\"D\")                       # s3 = {'E'}\n",
        "print(\"s3: \", s3)                     # exibe: s3:  {'E'}\n",
        "\n",
        "print(\"s2 inter s1 :\", s2.intersection(s1))  # exibe:  {\"A\", \"B\", \"C\"}\n",
        "\n",
        "print(s1.isdisjoint(s2))              # s1 disjunto s2? => False\n",
        "\n",
        "print(s1.issubset(s2))                # s1 contido s2? => False\n",
        "\n",
        "print(s2.issubset(s1))                # s2 contido s1? => True\n",
        "\n",
        "print(s1.issuperset(s2))              # s2 contido s1? => True\n",
        "\n",
        "s1.remove(\"C\")                        # s1 = {\"A\", \"B\", \"D\", \"E\"}\n",
        "print(\"s1: \", s1)                     # exibe: s1:  {'A', 'B', 'D', 'E'}\n",
        "\n",
        "s1.update(s2)                         # s1 = {'A', 'B', 'C', 'D', 'E'}\n",
        "print(\"s1 uniao s2:\", s1.union(s2))   # exibe: s1 uniao s2: {'A', 'B', 'C', 'D', 'E'}\n",
        "\n",
        "s1.update(s2)                         # s1 = {'A', 'B', 'C', 'D', 'E'}\n",
        "\n",
        "print(\"s1 = \", s1)    # Exibe o conjunto s1.\n",
        "print(\"s2 = \", s2)    # Exibe o conjunto s2.\n",
        "print(\"s3 = \", s3)    # Exibe o conjunto s3."
      ],
      "metadata": {
        "id": "5ViHQpgcydy2"
      },
      "execution_count": null,
      "outputs": []
    },
    {
      "cell_type": "markdown",
      "source": [
        "### Exercício 3: Operações com `set`.\n",
        "\n",
        "Crie um set chamado `frutas` contendo as frutas `\"maçã\", \"banana\", \"laranja\"` e `\"uva\"` e então:\n",
        "* exiba o conteúdo;\n",
        "* adicione a fruta \"abacaxi\" e exiba o resultado;\n",
        "* remova o elemento \"banana\" e exiba o resultado;\n",
        "* faça a união do set `frutas` com o set `vermelhas = {\"morango\", \"cereja\", \"amora\"}`, guarde em `frutas` e exiba o resultado;\n",
        "* exiba a interseção do conjunto `frutas` com o conjunto `frutas2 = {\"banana\", \"pera\", \"morango\"}`."
      ],
      "metadata": {
        "id": "POy_ymRgzlR3"
      }
    },
    {
      "cell_type": "markdown",
      "source": [
        "## Dicionário"
      ],
      "metadata": {
        "id": "A06PHVNqxeKM"
      }
    },
    {
      "cell_type": "markdown",
      "source": [
        "Os **dicionários** (*dict*) são coleções de (*chave*, *valor*) que são ordenadas e mutáveis. Não permite duplicações de suas chaves. Temos então as seguintes propriedades para a classe `dict`:\n",
        "\n",
        "* **ordenadas** -- os elementos mantém a ordem de inclusão (*a partir da versão 3.7 do Python*).\n",
        "\n",
        "* **elementos podem ser alterados** -- o valor dos elementos podem ter seus valores alterados.\n",
        "\n",
        "* **não permite duplicação das chaves** -- as chaves não podem ser repetidas."
      ],
      "metadata": {
        "id": "XbyqxTOZxh2-"
      }
    },
    {
      "cell_type": "markdown",
      "source": [
        "Os métodos definidos na classe `dict` são:\n",
        "\n",
        "* `clear()`: Remove todos os elementos do dicionário.\n",
        "* `copy()`: Retorna uma cópia do dicionário.\n",
        "* `fromkeys()`: Retorna um dicionário com as chaves especificadas.\n",
        "* `get()`: Retorna o valor de uma chave específica.\n",
        "* `items()`: Retorna uma lista contendo uma tupla para cada par `(chave, valor)`.\n",
        "* `keys()`: Retorna uma lista contendo as chaves do dicionário.\n",
        "* `pop()`: Remove o elemento na chave especificada.\n",
        "* `popitem()`: Remove o último elemento inserido.\n",
        "* `setdefault()`: Retorna o valor da chave especificada. Se a chave não existe insere a chave com o valor especificado.\n",
        "* `update()`: Atualiza o dicionário com os pares `(chave, valor)` especificados.\n",
        "* `values()`: Retorna uma lista de todos os valores no dicionário"
      ],
      "metadata": {
        "id": "8KzC0BzT535a"
      }
    },
    {
      "cell_type": "markdown",
      "source": [
        "Os **dicionários** são criados usando `{}` informando pares do tipo `chave: valor`; também podem ser criados com `dict()`:"
      ],
      "metadata": {
        "id": "65TKIvwgjGp4"
      }
    },
    {
      "cell_type": "code",
      "source": [
        "v1 = {\"name\" : \"R\", \"version\" : 2.7, \"name\" : \"Python\"}\n",
        "v2 = dict(name = \"Python\", version = 2.7)\n",
        "# v2 = dict(name = \"R\", version = 2.7, name = \"Python\")  ## ERRO: chave duplicada !!\n",
        "\n",
        "print(v1)    # Exibe o dicionário v1.\n",
        "print(v2)    # Exibe o dicionário v2.\n",
        "\n",
        "print(type(v1))    # Exibe \"<class 'dict'> indicando que é dicionário.\n",
        "print(type(v2))    # Exibe \"<class 'dict'> indicando que é dicionário."
      ],
      "metadata": {
        "id": "lz57mxFJxvVX"
      },
      "execution_count": null,
      "outputs": []
    },
    {
      "cell_type": "markdown",
      "source": [
        "Os valores em um dicionário são acessíveis através da chave:"
      ],
      "metadata": {
        "id": "5V9C5Rtt5mz0"
      }
    },
    {
      "cell_type": "code",
      "source": [
        "carro_1 = dict(marca = \"Ford\", modelo = \"Mustang\", ano = 1967)\n",
        "carro_2 = dict(marca = \"Toyota\", modelo = \"Corolla\", ano = 2022)\n",
        "\n",
        "print(carro_1[\"marca\"])   # Exibe 'Ford'\n",
        "print(carro_2[\"modelo\"])  # Exibe 'Corolla'"
      ],
      "metadata": {
        "id": "OM84vYxO5rpF"
      },
      "execution_count": null,
      "outputs": []
    },
    {
      "cell_type": "code",
      "source": [
        "car1 = dict(marca = \"Ford\", modelo = \"Mustang\", ano = 1967)\n",
        "car2 = dict(marca = \"Toyota\", modelo = \"Corolla\", ano = 2022)\n",
        "\n",
        "car2.clear()                                # car2 = {}\n",
        "car2 = car1.copy()                          # car2 =  dict(marca = \"Ford\", modelo = \"Mustang\", ano = 1967)\n",
        "x = dict.fromkeys((\"k1\", \"k2\", \"k3\"), 0)    # x = {'k1': 0, 'k2': 0, 'k3': 0}\n",
        "print(car1.get(\"modelo\"))                   # => 'Mustang'\n",
        "print(x.items())                            # => dict_items([('k1', 0), ('k2', 0), ('k3', 0)])\n",
        "print(x.keys())                             # => dict_keys(['k1', 'k2', 'k3'])\n",
        "\n",
        "print(car1.pop(\"modelo\"))                   # car1 = {'marca': 'Ford', 'ano': 1967} => 'Mustang'\n",
        "\n",
        "print(car2.popitem())                       # car2 = {'marca': 'Ford', 'modelo': 'Mustang'} => ('ano', 1967)\n",
        "print(car2.setdefault(\"ano\", 2020))         # car2 = {'marca': 'Ford', 'modelo': 'Mustang', 'ano': 2020} => 2020\n",
        "print(car2.setdefault(\"marca\", \"Fiat\"))     # car2 = {'marca': 'Ford', 'modelo': 'Mustang', 'ano': 2020} => 'Ford'\n",
        "\n",
        "car1.update({\"modelo\": \"Bronco\"})           # car1 = {'marca': 'Ford', 'ano': 1967, 'modelo': 'Bronco'}\n",
        "print(car1.values())                        # => dict_values(['Ford', 1967, 'Bronco'])\n",
        "\n",
        "print(car1)    # Exibe o dicionário car1.\n",
        "print(car2)    # Exibe o dicionário car2."
      ],
      "metadata": {
        "id": "g2ZSugLA6rKd"
      },
      "execution_count": null,
      "outputs": []
    },
    {
      "cell_type": "markdown",
      "source": [
        "### Exercício 4: Operações com dict\n",
        "\n",
        "Crie um dicionário chamado `aluno` com as chaves `\"nome\", \"idade\"` e `\"nota\"`, e os respectivos valores `\"Ana\"`, `20` e `8.5`. Então:\n",
        "\n",
        "* exiba o dicionário completo;\n",
        "* exiba apenas a nota;\n",
        "* adicione uma nova chave `curso` com o valor `matematica` e exiba o dicionário autalizado;\n",
        "* altera a `idade` para `21` e exiba o dicionário atualizado;\n",
        "* remova a chave `nota` e exiba o dicionário atualizado;\n",
        "* inclua a chave `notas` com os valores `[8.5, 9.0]`  e exiba o dicionário autalizado."
      ],
      "metadata": {
        "id": "QZTnQUdUka2B"
      }
    },
    {
      "cell_type": "markdown",
      "source": [
        "## Range"
      ],
      "metadata": {
        "id": "ZeHV1sG0x3LK"
      }
    },
    {
      "cell_type": "markdown",
      "source": [
        "As **sequências** (range) são estruturas utilizadas principalmente para a construção de índices ou loopings. Essas sequências são criadas utilizando a seguinte função:\n",
        "\n",
        "`range(start, stop, step)`.\n",
        "\n",
        "Veja o exemplo:"
      ],
      "metadata": {
        "id": "hdEQQTq8x7tk"
      }
    },
    {
      "cell_type": "code",
      "source": [
        "x = range(6)          # Sequência 0, 1, 2, 3, 4, 5.\n",
        "y = range(2, 6)       # Sequência 2, 3, 4, 5.\n",
        "z = range(2, 20, 3)   # Sequência 2, 5, 8, 11, 14, 17.\n",
        "\n",
        "print(x)              # Exibe:  range(0, 6)\n",
        "for i in x:\n",
        "  print(i)\n",
        "\n",
        "print(y)              # Exibe: range(2, 6)\n",
        "for i in y:\n",
        "  print(i)\n",
        "\n",
        "print(z)              # Exibe: range(2, 20, 3)\n",
        "for i in z:\n",
        "  print(i)\n",
        "\n",
        "print(type(x))    # Exibe \"<class 'range'> indicando que é sequência.\n",
        "print(type(y))    # Exibe \"<class 'range'> indicando que é sequência.\n",
        "print(type(z))    # Exibe \"<class 'range'> indicando que é sequência."
      ],
      "metadata": {
        "id": "xZ4OqBcQyAao"
      },
      "execution_count": null,
      "outputs": []
    },
    {
      "cell_type": "markdown",
      "source": [
        "### Exercício 5: utilizando range\n",
        "\n",
        "1. exiba o resultado do `range(0, 30, 2)`;\n",
        "2. exiba todos os números pares entre 50 e 70;\n",
        "3. exiba todos os números ímpares entre 50 e 70;\n",
        "4. exiba todos os números que são multiplos de 5 entre 17 e 69.\n",
        "\n"
      ],
      "metadata": {
        "id": "qC_1mqjPph-D"
      }
    },
    {
      "cell_type": "markdown",
      "source": [
        "# Estruturas de códigos"
      ],
      "metadata": {
        "id": "9otVkbcbg69h"
      }
    },
    {
      "cell_type": "markdown",
      "source": [
        "## Execução condicional"
      ],
      "metadata": {
        "id": "IogvXsuHhMSl"
      }
    },
    {
      "cell_type": "markdown",
      "source": [
        "Blocos de código podem ser executados **condicionalmente**, em que a **execução condicional** permite que o programa tome decisões com base em determinadas condições.\n",
        "\n",
        "Em Python, as instruções condicionais são escritas usando as palavras-chave `if`, `else` e `elif` (else if). Com isso, podemos executar diferentes blocos de código dependendo de uma condição lógica, que pode ser verdadeira ou falsa.\n",
        "\n",
        "Estrutura Básica de Condicionais:\n",
        "* `if`: Executa o bloco de código se a condição for verdadeira.\n",
        "* `else`: Executa um bloco de código quando todas as condições anteriores são falsas.\n",
        "* `elif`: Executa um bloco de código alternativo se a primeira condição for falsa e a nova condição for verdadeira.\n"
      ],
      "metadata": {
        "id": "x8duFTsgApaN"
      }
    },
    {
      "cell_type": "markdown",
      "source": [
        "**Operadores Condicionais**\n",
        "\n",
        "* Operadores de comparação:\n",
        "  * `==`: Igualdade\n",
        "  * `!=`: Diferença\n",
        "  * `>`: Maior que\n",
        "  * `<`: Menor que\n",
        "  * `>=`: Maior ou igual a\n",
        "  * `<=`: Menor ou igual a\n",
        "\n",
        "* Operadores lógicos:\n",
        "  * `and`: Verdadeiro se ambas as condições forem verdadeiras.\n",
        "  * `or`: Verdadeiro se uma das condições for verdadeira.\n",
        "  * `not`: Inverte o valor lógico (verdadeiro se a condição for falsa, e vice-versa)."
      ],
      "metadata": {
        "id": "qg5AGu1r1zTt"
      }
    },
    {
      "cell_type": "code",
      "source": [
        "idade = 18\n",
        "\n",
        "if idade >= 18:\n",
        "    print(\"Você é maior de idade.\")\n",
        "else:\n",
        "    print(\"Você é menor de idade.\")"
      ],
      "metadata": {
        "id": "asZ2Oh7IAwFw"
      },
      "execution_count": null,
      "outputs": []
    },
    {
      "cell_type": "markdown",
      "source": [
        "No exemplo acima, se a variável idade for maior ou igual a 18, a mensagem \"Você é maior de idade\" será exibida; caso contrário, a mensagem será \"Você é menor de idade\"."
      ],
      "metadata": {
        "id": "VaNytVKFY_jZ"
      }
    },
    {
      "cell_type": "markdown",
      "source": [
        "**Exemplo**: Crie um programa que peça ao usuário um ano e verifique se ele é bissexto. Um ano é bissexto se for divisível por 4, mas não por 100, exceto se for divisível por 400."
      ],
      "metadata": {
        "id": "-2xB2iKe3TbK"
      }
    },
    {
      "cell_type": "code",
      "source": [
        "ano = int(input(\"Digite um ano: \"))\n",
        "\n",
        "if (ano % 4 == 0 and ano % 100 != 0) or (ano % 400 == 0):\n",
        "    print(f\"{ano} é um ano bissexto.\")\n",
        "else:\n",
        "    print(f\"{ano} não é um ano bissexto.\")"
      ],
      "metadata": {
        "id": "Pkj2fijB3aTC"
      },
      "execution_count": null,
      "outputs": []
    },
    {
      "cell_type": "markdown",
      "source": [
        "Blocos condicionais podem ser aninhados."
      ],
      "metadata": {
        "id": "WrV7FKU8BHsN"
      }
    },
    {
      "cell_type": "code",
      "source": [
        "velocidade = 200\n",
        "if velocidade < 20:\n",
        "  print(\"Muito lento!\")\n",
        "else:\n",
        "  if velocidade < 120:\n",
        "    print(\"Velocidade usual.\")\n",
        "  else:\n",
        "    if velocidade >= 120:\n",
        "      print(\"Muito rápido!\")\n",
        "    else:\n",
        "      print(\"Está andando de marcha à ré?\")"
      ],
      "metadata": {
        "id": "oPiYY6n0BK8E"
      },
      "execution_count": null,
      "outputs": []
    },
    {
      "cell_type": "markdown",
      "source": [
        "No entanto, a linguagem define a palavra chave `elif` para combinar um `else` e um `if`"
      ],
      "metadata": {
        "id": "KpGjBZaABlsd"
      }
    },
    {
      "cell_type": "code",
      "source": [
        "velocidade = 120\n",
        "if velocidade < 20:\n",
        "  print(\"Muito lento!\")\n",
        "elif velocidade < 120:\n",
        "  print(\"Velocidade usual.\")\n",
        "elif velocidade >= 120:\n",
        "  print(\"Muito rápido!\")\n",
        "else:\n",
        "  print(\"Está andando de marcha à ré?\")"
      ],
      "metadata": {
        "id": "Y4pFLMi3BwLP"
      },
      "execution_count": null,
      "outputs": []
    },
    {
      "cell_type": "markdown",
      "source": [
        "**Exemplo**: Baseado na idade de um atleta, escreva um programa que classifique-o em uma das seguintes categorias:\n",
        "\n",
        "* Até 12 anos: Infantil\n",
        "* 13 a 17 anos: Juvenil\n",
        "* 18 a 35 anos: Adulto\n",
        "* Acima de 35 anos: Master"
      ],
      "metadata": {
        "id": "8_54WaYu4c2F"
      }
    },
    {
      "cell_type": "code",
      "source": [
        "idade = int(input(\"Digite a idade do atleta: \"))\n",
        "\n",
        "if idade <= 12:\n",
        "    print(\"Categoria: Infantil\")\n",
        "elif idade <= 17:\n",
        "    print(\"Categoria: Juvenil\")\n",
        "elif idade <= 35:\n",
        "    print(\"Categoria: Adulto\")\n",
        "else:\n",
        "    print(\"Categoria: Master\")"
      ],
      "metadata": {
        "id": "NY91pL0n4nrc"
      },
      "execution_count": null,
      "outputs": []
    },
    {
      "cell_type": "markdown",
      "source": [
        "### Exercício 1: Crie um programa que pergunte o preço de um produto e verifique se ele deve aplicar algum desconto:\n",
        "\n",
        "* Se o preço for maior que R$ 1000, aplique um desconto de 10%.\n",
        "* Caso contrário, aplique um desconto de 5%.\n",
        "\n",
        "Exiba o valor final do produto após o desconto."
      ],
      "metadata": {
        "id": "8FcfVHBb5otc"
      }
    },
    {
      "cell_type": "markdown",
      "source": [
        "### Exercício 2: Escreva um programa que pergunte ao usuário a nota de um aluno (de 0 a 100) e exiba a classificação correspondente:\n",
        "\n",
        "* 90 a 100: A\n",
        "* 80 a 89: B\n",
        "* 70 a 79: C\n",
        "* 60 a 69: D\n",
        "* Abaixo de 60: F"
      ],
      "metadata": {
        "id": "Kw4rHdLs3t__"
      }
    },
    {
      "cell_type": "markdown",
      "source": [
        "## Laços de repetição"
      ],
      "metadata": {
        "id": "10YbWVx_hkDf"
      }
    },
    {
      "cell_type": "markdown",
      "source": [
        "**Laços de repetição** permitem executar um bloco de código várias vezes. Eles são fundamentais em programação quando precisamos repetir tarefas de forma automática. Em Python, os principais laços de repetição são `for` e `while`.\n",
        "\n",
        "O **Controle de Fluxo** pode ser feito com `break` e `continue`, em que:\n",
        "* `break`: Interrompe a execução do laço antes que ele termine naturalmente.\n",
        "* `continue`: Pula a iteração atual e continua para a próxima."
      ],
      "metadata": {
        "id": "2s1hcYzfB4Wk"
      }
    },
    {
      "cell_type": "markdown",
      "source": [
        "### `while`\n",
        "\n",
        "O laço `while` executa o bloco de código enquanto uma condição for verdadeira. Ele verifica a condição antes de cada execução do bloco.\n",
        "\n",
        "**Sintaxe:**\n",
        "\n",
        "```python\n",
        "while condição:\n",
        "    # Código a ser executado enquanto a condição for verdadeira\n",
        "```"
      ],
      "metadata": {
        "id": "-cnGWPoJ-xO0"
      }
    },
    {
      "cell_type": "markdown",
      "source": [
        "**Exemplo**"
      ],
      "metadata": {
        "id": "8lUS53Ff_YWD"
      }
    },
    {
      "cell_type": "code",
      "source": [
        "contador = 1         # inicializacao\n",
        "while contador <= 5:\n",
        "    print(contador)\n",
        "    contador += 1    # incremento"
      ],
      "metadata": {
        "id": "Sn03QCKQ_a9J"
      },
      "execution_count": null,
      "outputs": []
    },
    {
      "cell_type": "markdown",
      "source": [
        "**Exemplo**"
      ],
      "metadata": {
        "id": "QOrEzY-VAftM"
      }
    },
    {
      "cell_type": "code",
      "source": [
        "# Exibe os valores 1, 2, ..., 5.\n",
        "i = 1\n",
        "while i < 6:\n",
        "  print(i)\n",
        "  i += 1   # Adiciona 1 ao valor i -- OBRIGATÓRIO!\n",
        "\n",
        "print('---')\n",
        "\n",
        "# Exibe os valores 1, 2, 3\n",
        "i = 1\n",
        "while i < 6:\n",
        "  print(i)\n",
        "  if i == 3:\n",
        "    break    # Quando i = 3 o laço é quebrado.\n",
        "  i += 1\n",
        "\n",
        "print('---')\n",
        "\n",
        "# Exibe os valores 2, 4, 5, 6\n",
        "i = 1\n",
        "while i < 6:\n",
        "  i += 1\n",
        "  if i == 3:\n",
        "    continue    # Quando i = 3 retorna para o início do laço.\n",
        "  print(i)\n",
        "\n",
        "print('---')\n",
        "\n",
        "i = 1\n",
        "while i < 6:\n",
        "  print(i)\n",
        "  i += 1\n",
        "print(\"Executado ao sair do laço!\")"
      ],
      "metadata": {
        "id": "VGy894SgCAo9"
      },
      "execution_count": null,
      "outputs": []
    },
    {
      "cell_type": "markdown",
      "source": [
        "### `for`\n",
        "\n",
        "O laço `for` é usado para iterar sobre uma sequência (como listas, tuplas, strings, ou intervalos com range). Em cada iteração, o valor da sequência é atribuído a uma variável, e o bloco de código dentro do laço é executado.\n",
        "\n",
        "**Sintaxe do** `for`:\n",
        "\n",
        "```python\n",
        "for variável in sequência:\n",
        "    # Código a ser executado a cada iteração\n",
        "```"
      ],
      "metadata": {
        "id": "n38x_rjKDY3G"
      }
    },
    {
      "cell_type": "markdown",
      "source": [
        "**Exemplo**"
      ],
      "metadata": {
        "id": "NIwWatHJBQRN"
      }
    },
    {
      "cell_type": "code",
      "source": [
        "for numero in range(1, 6):\n",
        "    print(numero)"
      ],
      "metadata": {
        "id": "gkr29tBCBSID"
      },
      "execution_count": null,
      "outputs": []
    },
    {
      "cell_type": "markdown",
      "source": [
        "**Exemplos**"
      ],
      "metadata": {
        "id": "3USrX1mNBVf3"
      }
    },
    {
      "cell_type": "code",
      "source": [
        "############################################################\n",
        "print('--- Parte 1:')\n",
        "frutas = ['banana', 'maçã', 'morango']\n",
        "for fruta in frutas:\n",
        "  print('Comprar ', fruta, '.', sep='')\n",
        "\n",
        "print('---')\n",
        "\n",
        "############################################################\n",
        "print('--- Parte 2:')\n",
        "for letra in 'banana':\n",
        "  print(letra)\n",
        "\n",
        "print('---')\n",
        "\n",
        "############################################################\n",
        "print('--- Parte 3:')\n",
        "for k in range(10):\n",
        "  print(k)\n",
        "\n",
        "print('---')\n",
        "\n",
        "############################################################\n",
        "print('--- Parte 4:')\n",
        "for k in range(10):\n",
        "  print(k)\n",
        "  if k == 5:\n",
        "    break    # Quebra o laço.\n",
        "\n",
        "print('---')\n",
        "\n",
        "############################################################\n",
        "print('--- Parte 5:')\n",
        "for k in range(1, 15):\n",
        "  if k % 2  == 0: # se k é par então segue para o\n",
        "    continue      # próximo elemento do laço.\n",
        "  print(k)\n",
        "\n",
        "print('---')\n",
        "\n",
        "############################################################\n",
        "print('--- Parte 6:')\n",
        "for k in range(1, 15, 2):\n",
        "  print(k)\n",
        "\n",
        "print('---')"
      ],
      "metadata": {
        "id": "K6EWhF0xDdEO"
      },
      "execution_count": null,
      "outputs": []
    },
    {
      "cell_type": "markdown",
      "source": [
        "O laço **for** também pode ser usado para inicializar *vetores* e *matrizes*."
      ],
      "metadata": {
        "id": "JH_Gjc0YExyG"
      }
    },
    {
      "cell_type": "code",
      "source": [
        "v1 = [ 0 for _ in range(10)]     # Cria um vetor de 10 posições iguais a 0.\n",
        "v2 = [ i**2 for i in range(10)]  # Cria um vetor de 10 posições com quadrados.\n",
        "\n",
        "print(v1)\n",
        "print(v2)\n",
        "\n",
        "# Cria matrizes 4 x 3.\n",
        "m1 = [[0 for _ in range(3)] for _ in range(4)]\n",
        "m2 = [[i*j for j in range(3)] for i in range(4)]\n",
        "\n",
        "print(m1)\n",
        "print(m2)"
      ],
      "metadata": {
        "id": "S3D4LcUdE5XO"
      },
      "execution_count": null,
      "outputs": []
    },
    {
      "cell_type": "markdown",
      "source": [
        "O laço **for** pode ser usado para iterar sobre *listas*, *tuplas*, *conjuntos* e *chaves* de dicionários."
      ],
      "metadata": {
        "id": "1TMmPG6FFsit"
      }
    },
    {
      "cell_type": "code",
      "source": [
        "lista = list((\"A\",\"B\",\"C\",\"D\"))\n",
        "tupla = tuple((\"A\",\"B\",\"C\",\"D\"))\n",
        "conj  = set((\"A\",\"B\",\"C\",\"D\"))\n",
        "carro = dict(marca = \"Ford\", modelo = \"Mustang\", ano = 1967)\n",
        "\n",
        "for k in lista:\n",
        "  print(k)\n",
        "\n",
        "print('---')\n",
        "\n",
        "for k in tupla:\n",
        "  print(k)\n",
        "\n",
        "print('---')\n",
        "\n",
        "for k in conj:\n",
        "  print(k)\n",
        "\n",
        "print('---')\n",
        "\n",
        "for k in carro:\n",
        "  print('chave = ', k, ', valor = ', carro[k], sep=\"\")\n",
        "\n",
        "print('---')\n",
        "\n",
        "for k, v in carro.items():\n",
        "  print('chave=', k, ', valor=', v, sep=\"\")\n"
      ],
      "metadata": {
        "id": "4AhmeKXhFr_W"
      },
      "execution_count": null,
      "outputs": []
    },
    {
      "cell_type": "markdown",
      "source": [
        "**Exemplo:** Crie um programa que receba um número inteiro do usuário e use um laço for para verificar se o número é primo.\n",
        "* Um número primo é divível apenas por 1 e por ele mesmo;\n",
        "* Qualquer número menor que 2 não é considerado como primo;\n",
        "* Para saber se $n$ é primo, basta que seja testado os divisores pertentes ao intervalo de 2 até $||\\sqrt{n}||+1$, em que $||x||$ denota o maior inteiro menor que $x$."
      ],
      "metadata": {
        "id": "xXYxJkWeCbMV"
      }
    },
    {
      "cell_type": "code",
      "source": [
        "numero = int(input(\"Digite um número: \"))\n",
        "\n",
        "if numero < 2:\n",
        "    print(f\"{numero} não é primo.\")\n",
        "else:\n",
        "    primo = True\n",
        "    for i in range(2, int(numero ** 0.5) + 1):\n",
        "        if numero % i == 0:\n",
        "            primo = False\n",
        "            break\n",
        "\n",
        "    if primo:\n",
        "        print(f\"{numero} é primo.\")\n",
        "    else:\n",
        "        print(f\"{numero} não é primo.\")\n"
      ],
      "metadata": {
        "id": "5JQQv74-CvSL"
      },
      "execution_count": null,
      "outputs": []
    },
    {
      "cell_type": "markdown",
      "source": [
        "**Exemplo**: Escreva um programa onde o computador escolhe um número aleatório de 1 a 10 e o usuário tenta adivinhar. O programa continua pedindo palpites até que o usuário acerte."
      ],
      "metadata": {
        "id": "VEXcxtsYExss"
      }
    },
    {
      "cell_type": "code",
      "source": [
        "####### geração do número aleatório\n",
        "import random\n",
        "numero_secreto = random.randint(1, 10)\n",
        "\n",
        "###### parte principal do programa\n",
        "palpite = 0\n",
        "while palpite != numero_secreto:\n",
        "    palpite = int(input(\"Adivinhe o número entre 1 e 10: \"))\n",
        "\n",
        "    if palpite < numero_secreto:\n",
        "        print(\"Muito baixo!\")\n",
        "    elif palpite > numero_secreto:\n",
        "        print(\"Muito alto!\")\n",
        "\n",
        "print(\"Parabéns! Você acertou!\")\n"
      ],
      "metadata": {
        "id": "0qDzyXHNE4gD"
      },
      "execution_count": null,
      "outputs": []
    },
    {
      "cell_type": "markdown",
      "source": [
        "### Exercício 3: Soma dos primeiros 100 números\n",
        "\n",
        "a) Use um laço `while` para calcular a soma dos primeiros 100 números inteiros (de 1 a 100).\n",
        "\n",
        "b)  Use um laço `for` para calcular a soma dos primeiros 100 números inteiros (de 1 a 100)."
      ],
      "metadata": {
        "id": "vs5RcxBHFJsL"
      }
    },
    {
      "cell_type": "markdown",
      "source": [
        "### Exercício 4: Números ímpares com `continue`\n",
        "\n",
        "Use um laço `for` para exibir todos os números de 1 a 10, exceto os números ímpares (use o `continue`)."
      ],
      "metadata": {
        "id": "yUadjv1FFyg8"
      }
    },
    {
      "cell_type": "markdown",
      "source": [
        "### Exercício 5: Fibonacci até o décimo termo\n",
        "\n",
        "Use um laço `while` para calcular e exibir os primeiros 15 termos da sequência de Fibonacci.\n",
        "\n",
        "A sequência de Fibonacci começa com 0 e 1, e os próximos números são a soma dos dois números anteriores.\n",
        "\n",
        "Sequência: 0, 1, 1, 2, 3, 5, ..."
      ],
      "metadata": {
        "id": "tGxM8LQ9Gtdp"
      }
    },
    {
      "cell_type": "markdown",
      "source": [
        "# Funções"
      ],
      "metadata": {
        "id": "ucToMMLJyE_W"
      }
    },
    {
      "cell_type": "markdown",
      "source": [
        "No desenvolvimento de códigos é comum a necessidade definir sub-rotinas que serão usadas outras vezes ao longo do código. Estas sub-rotinas são chamadas de **funções**. Elas ajudam a organizar o código, tornando-o mais modular, legível e fácil de manter.\n",
        "\n",
        "Para definir uma função em Python, usamos a palavra-chave `def` seguida do nome da função e dos parênteses. Se a função aceitar argumentos (valores que podem ser passados para a função), eles são colocados dentro dos parênteses.\n",
        "\n",
        "Um exemplo básico seria:"
      ],
      "metadata": {
        "id": "kw9ZDVyOyGr-"
      }
    },
    {
      "cell_type": "code",
      "source": [
        "def nome_da_funcao(argumento1, argumento2):\n",
        "    # Bloco de código da função\n",
        "    resultado = argumento1 + argumento2\n",
        "    return resultado  # Retorna o valor final"
      ],
      "metadata": {
        "id": "ZzCoUbVuIXVT"
      },
      "execution_count": null,
      "outputs": []
    },
    {
      "cell_type": "markdown",
      "source": [
        "Aqui está uma explicação básica dos elementos:\n",
        "\n",
        "* `def`: Define a função.\n",
        "* `nome_da_funcao`: Nome que você dá à função (como soma, imprimir_mensagem, etc.).\n",
        "* `Argumentos`: São valores ou variáveis que podem ser passados para a função.\n",
        "* `return`: Devolve o valor final da função para ser usado em outras partes do código. Se não for especificado, a função retorna `None` (nada)."
      ],
      "metadata": {
        "id": "NO2QK6S-IbcI"
      }
    },
    {
      "cell_type": "markdown",
      "source": [
        "Exemplo: função que soma dois números"
      ],
      "metadata": {
        "id": "A7DMIMNKPYvP"
      }
    },
    {
      "cell_type": "code",
      "source": [
        "def soma(a, b):\n",
        "    return a + b\n",
        "\n",
        "# Teste a função\n",
        "resultado = soma(5, 3)\n",
        "print(f\"A soma é: {resultado}\")"
      ],
      "metadata": {
        "id": "kVwpD42WPh2-"
      },
      "execution_count": null,
      "outputs": []
    },
    {
      "cell_type": "markdown",
      "source": [
        "Exemplo: a execução é feita apenas até o return"
      ],
      "metadata": {
        "id": "SPZGwXqTovQc"
      }
    },
    {
      "cell_type": "code",
      "source": [
        "def squared(x):\n",
        "  return x ** 2\n",
        "  print(\"Esta linha não é executada!\")\n",
        "\n",
        "print(squared(3))"
      ],
      "metadata": {
        "id": "RZl7X8jboygu"
      },
      "execution_count": null,
      "outputs": []
    },
    {
      "cell_type": "markdown",
      "source": [
        "Exemplo: A função cumprimentar recebe um argumento (nome) e exibe uma mensagem de boas-vindas."
      ],
      "metadata": {
        "id": "oXfvsGUkKyiZ"
      }
    },
    {
      "cell_type": "code",
      "source": [
        "# Exemplo de uma Função\n",
        "def cumprimentar(nome):\n",
        "    print(f\"Olá, {nome}! Seja bem-vindo.\")\n",
        "\n",
        "# Chamando a função\n",
        "cumprimentar(\"Ana\")\n",
        "cumprimentar(\"Paula\")\n",
        "cumprimentar(\"Jose\")"
      ],
      "metadata": {
        "id": "LZgOn8vnI3OX"
      },
      "execution_count": null,
      "outputs": []
    },
    {
      "cell_type": "markdown",
      "source": [
        "Outro exemplo, agora utilizando dois argumentos."
      ],
      "metadata": {
        "id": "0ACScB3eLFvS"
      }
    },
    {
      "cell_type": "code",
      "source": [
        "def cumprimentar2(cumprimento, nome):\n",
        "    print(cumprimento + \", \" + nome + \"!\")\n",
        "\n",
        "# Chamando a função\n",
        "cumprimentar2(\"Bom dia\",\"Ana\")\n",
        "cumprimentar2(\"Boa tarde\",\"Paula\")\n",
        "cumprimentar2(\"Boa noite\", \"Jose\")"
      ],
      "metadata": {
        "id": "JJb4GlcpyjU9"
      },
      "execution_count": null,
      "outputs": []
    },
    {
      "cell_type": "markdown",
      "source": [
        "Os parâmetros podem ser passados para a função na forma *posicional* como no exemplo anterior, ou na forma *nomeada* como no exemplo abaixo. A vantagem da forma nomeada é que não é obrigatório manter a ordem dos parâmetros definidas na função:"
      ],
      "metadata": {
        "id": "xl0nWo4DMwiE"
      }
    },
    {
      "cell_type": "code",
      "source": [
        "cumprimentar2( cumprimento=\"Bom dia\", nome=\"Ana\")    # Parâmetros nomeados.\n",
        "cumprimentar2(nome=\"Ana\", cumprimento=\"Bom dia\")     # Parâmetros nomeados fora de ordem."
      ],
      "metadata": {
        "id": "7ndgbczuMxHp"
      },
      "execution_count": null,
      "outputs": []
    },
    {
      "cell_type": "markdown",
      "source": [
        "As funções podem admitir uma **quantidade arbitrária de parâmetros**. Isto pode ser realizada passando parâmetros nomeados e posicionais. Para capturar os parâmetros posicionais utiliza-se um parâmetro na forma `*lista` que recebem os parâmetros posicionais em uma *lista* e para capturar os parâmetros nomeados utiliza-se um parâmetro na forma `**dicionario` que recebem os parâmetros nomeados em um *dicionário* (com os nomes dos parâmetros como chaves)."
      ],
      "metadata": {
        "id": "66yFf7binD8j"
      }
    },
    {
      "cell_type": "code",
      "source": [
        "# Esta função captura os dados do usuário, passados como parâmetros nomeados,\n",
        "# em um dicionário.\n",
        "def user(**args):\n",
        "  print(\"Primeiro nome  : \" + args[\"fname\"])\n",
        "  print(\"Último nome    : \" + args[\"lname\"])\n",
        "  print(\"Nome de usuário: \" + args[\"username\"])\n",
        "  print(\"Senha          : \" + args[\"pwd\"])\n",
        "\n",
        "user(fname = \"Peter\", lname = \"Norton\", username = \"pnorton\", pwd = \"12345\")"
      ],
      "metadata": {
        "id": "zp2SeqHjnLMc"
      },
      "execution_count": null,
      "outputs": []
    },
    {
      "cell_type": "code",
      "source": [
        "## Claro que a função anterior também pode ser implementada\n",
        "## utilizando um dicionário\n",
        "def user(args):\n",
        "  print(\"Primeiro nome  : \" + args[\"fname\"])\n",
        "  print(\"Último nome    : \" + args[\"lname\"])\n",
        "  print(\"Nome de usuário: \" + args[\"username\"])\n",
        "  print(\"Senha          : \" + args[\"pwd\"])\n",
        "\n",
        "user( dict(fname = \"Peter\", lname = \"Norton\", username = \"pnorton\", pwd = \"12345\") )"
      ],
      "metadata": {
        "id": "OvTy0oxqUiP4"
      },
      "execution_count": null,
      "outputs": []
    },
    {
      "cell_type": "code",
      "source": [
        "# Esta função captura um sequência de itens em uma lista.\n",
        "def comprar(*lista):\n",
        "  for item in lista:\n",
        "    print(\"Preciso comprar \" + item + \".\")\n",
        "\n",
        "comprar(\"tomate\", \"cebola\", \"alface\")"
      ],
      "metadata": {
        "id": "xIJQAAHxOf0S"
      },
      "execution_count": null,
      "outputs": []
    },
    {
      "cell_type": "code",
      "source": [
        "# Esta função combinam os dois conceitos.\n",
        "def planejar_viagem(destino, *rota, **veiculo):\n",
        "  print(\"Estou viajando para: \" + destino + \".\")\n",
        "\n",
        "  for item in rota:\n",
        "    print(\"Vou visitar: \" + item + \".\")\n",
        "\n",
        "  print(\"Vou utilizar: \" + veiculo[\"carro\"] +\n",
        "        \" de \" + str(veiculo[\"ano_fabricacao\"]) +\n",
        "        \" abastecido com \" + veiculo[\"combustivel\"] + \".\")\n",
        "\n",
        "planejar_viagem(\"Rio de Janeiro\", \"Goiânia\", \"Belo Horizonte\", \"São Paulo\",\n",
        "                carro=\"Corolla\", ano_fabricacao=2020, combustivel=\"gasolina\")"
      ],
      "metadata": {
        "id": "cd5omNczOfkI"
      },
      "execution_count": null,
      "outputs": []
    },
    {
      "cell_type": "code",
      "source": [
        "# No entanto, o forma convencional permite uma melhor organização do código.\n",
        "def planejar_viagem(destino, rota, veiculo):\n",
        "  print(\"Estou viajando para: \" + destino + \".\")\n",
        "\n",
        "  for item in rota:\n",
        "    print(\"Vou visitar: \" + item + \".\")\n",
        "\n",
        "  print(\"Vou utilizar: \" + veiculo[\"carro\"] +\n",
        "        \" de \" + str(veiculo[\"ano_fabricacao\"]) +\n",
        "        \" abastecido com \" + veiculo[\"combustivel\"] + \".\")\n",
        "\n",
        "planejar_viagem(\n",
        "    destino=\"Rio de Janeiro\",\n",
        "    rota = list( (\"Goiânia\", \"Belo Horizonte\", \"São Paulo\") ),\n",
        "    veiculo = dict(carro=\"Corolla\", ano_fabricacao=2020, combustivel=\"gasolina\")\n",
        "     )"
      ],
      "metadata": {
        "id": "CQms2ytgWCVY"
      },
      "execution_count": null,
      "outputs": []
    },
    {
      "cell_type": "markdown",
      "source": [
        "As funções admitem **valores padrão** para seus parâmetros:"
      ],
      "metadata": {
        "id": "KVMzPtnjn8D9"
      }
    },
    {
      "cell_type": "code",
      "source": [
        "def saudacao(nome=\"Visitante\", mensagem=\"Bem-vindo(a) ao nosso sistema!\"):\n",
        "    print(f\"Olá, {nome}! {mensagem}\")\n",
        "\n",
        "# Chamadas da função\n",
        "saudacao()  # Usa os valores padrão\n",
        "saudacao(\"Ana\")  # Usa um valor personalizado para 'nome'\n",
        "saudacao(\"Carlos\", \"Espero que você esteja aproveitando o conteúdo!\")  # Usa valores personalizados para ambos\n"
      ],
      "metadata": {
        "id": "PDuAeR4doGXX"
      },
      "execution_count": null,
      "outputs": []
    },
    {
      "cell_type": "markdown",
      "source": [
        "Explicação:\n",
        "\n",
        "* A função `saudacao` possui dois parâmetros, `nome` e `mensagem`, ambos com valores padrão.\n",
        "\n",
        "* Quando você chama a função sem argumentos, ela usa os valores padrão (\"Visitante\" e \"Bem-vindo(a) ao nosso sistema!\").\n",
        "\n",
        "* Ao fornecer valores, você substitui os valores padrão."
      ],
      "metadata": {
        "id": "FpwFnqM1XyQ7"
      }
    },
    {
      "cell_type": "markdown",
      "source": [
        "### Importante"
      ],
      "metadata": {
        "id": "9lFsxq6rRIvl"
      }
    },
    {
      "cell_type": "markdown",
      "source": [
        "* Os parâmetros sem valores padrão nas funções precisam *sempre* ser fornecidos.\n",
        "\n",
        "* Os parâmetros podem ser fornecidos fora de ordem, desde que sejam nomeados."
      ],
      "metadata": {
        "id": "fCBIvrJGo758"
      }
    },
    {
      "cell_type": "code",
      "source": [
        "def func(a, b, c):\n",
        "  pass    # Use 'pass' quando o bloco não tiver um corpo ainda!!!\n",
        "\n",
        "#func(1, 2)                  # ERRO: falta um dos parâmetros\n",
        "func(c = 2, a = 3, b = 5)    # Parâmetros fora de ordem devem ser nomeados."
      ],
      "metadata": {
        "id": "ojQGTKV4pKic"
      },
      "execution_count": null,
      "outputs": []
    },
    {
      "cell_type": "markdown",
      "source": [
        "### Documentação\n",
        "E interessante que uma função seja documentada descrevendo o que aquele código faz e como deve ser utilizado.\n",
        "\n",
        "\n"
      ],
      "metadata": {
        "id": "B0es4rotoQvf"
      }
    },
    {
      "cell_type": "code",
      "source": [
        "def area_retangulo(largura, altura=1):\n",
        "    \"\"\"\n",
        "    Calcula a área de um retângulo.\n",
        "\n",
        "    Esta função calcula a área de um retângulo multiplicando a largura pela altura.\n",
        "    Se a altura não for especificada, assume o valor padrão de 1, tornando a forma equivalente a uma linha.\n",
        "\n",
        "    Parameters:\n",
        "    largura (float): A largura do retângulo.\n",
        "    altura (float, opcional): A altura do retângulo. Padrão é 1.\n",
        "\n",
        "    Returns:\n",
        "    float: A área do retângulo calculada como largura * altura.\n",
        "\n",
        "    Example:\n",
        "    >>> calcular_area_retangulo(5, 10)\n",
        "    50\n",
        "    >>> calcular_area_retangulo(5)\n",
        "    5\n",
        "    \"\"\"\n",
        "    return largura * altura\n"
      ],
      "metadata": {
        "id": "chiywQcut1Hn"
      },
      "execution_count": null,
      "outputs": []
    },
    {
      "cell_type": "markdown",
      "source": [
        "Explicação da docstring:\n",
        "\n",
        "1. Descrição: A primeira linha explica o que a função faz de forma resumida.\n",
        "1. Detalhamento: Explica o funcionamento da função e descreve o valor padrão do argumento altura.\n",
        "1. Parâmetros: Detalha cada parâmetro, seu tipo e função na operação.\n",
        "1. Retorno: Descreve o que a função retorna e o tipo de dado esperado.\n",
        "1. Exemplos: Fornece exemplos de uso da função, com valores que mostram o comportamento padrão e personalizado.\n",
        "\n",
        "Esse padrão de documentação ajuda outros desenvolvedores a entender o uso e o comportamento da função."
      ],
      "metadata": {
        "id": "q9yqYG7mZ3P5"
      }
    },
    {
      "cell_type": "code",
      "source": [
        "## veja como o usuária pode consultar a documentação de uma função\n",
        "help(area_retangulo)"
      ],
      "metadata": {
        "id": "J3HHsMYLYfyG"
      },
      "execution_count": null,
      "outputs": []
    },
    {
      "cell_type": "code",
      "source": [
        "## ou equivalentemente, podemos consultar o atributo __doc__\n",
        "print( area_retangulo.__doc__ )"
      ],
      "metadata": {
        "id": "ZuYRUhkSZryz"
      },
      "execution_count": null,
      "outputs": []
    },
    {
      "cell_type": "code",
      "source": [
        "## Geralmente o editor de códigos exibem a docstring\n",
        "## automaticamente quando o usuário passa o mouse\n",
        "## sobre a função ou começa a digitá-la.\n",
        "\n",
        "## Como exemplo, passe o mouse sobre a chamada da função ou apague\n",
        "## e comece a digitar novamente o nome da função\n",
        "area_retangulo()"
      ],
      "metadata": {
        "id": "to3B4jpbakFx"
      },
      "execution_count": null,
      "outputs": []
    },
    {
      "cell_type": "markdown",
      "source": [
        "### Exercício 1: Converter Celsius em Fahrenheit\n",
        "\n",
        "Crie uma função chamada `celsius_para_fahrenheit` que recebe uma temperatura em graus Celsius e retorna a temperatura equivalente em Fahrenheit. Faça um print do resultado.\n",
        "\n",
        "A fórmula de conversão é:\n",
        "$ 𝐹 = 𝐶 \\times 9/5 + 32$."
      ],
      "metadata": {
        "id": "sIKsst6rIIU4"
      }
    },
    {
      "cell_type": "markdown",
      "source": [
        "### Exercício 2: Cálcular área de uma sala\n",
        "\n",
        "Construa um função para calcular a área em metros de um sala. Essa função deve conter os seguintes argumentos de entrada e gerar a seguinte saída:\n",
        "\n",
        "*   Entrada:\n",
        "  * comprimento: uma variável numérica indicando o comprimento da sala em metros.\n",
        "  * largura:  uma variável numérica indicando a larguda da sala em metros.\n",
        "*   Saída: a sala possui \"comprimento*larguda\" metros quadrados.\n"
      ],
      "metadata": {
        "id": "ws9NLTwbpfOI"
      }
    },
    {
      "cell_type": "markdown",
      "source": [
        "# Recuperação de falhas"
      ],
      "metadata": {
        "id": "sSvSYtmCw5QB"
      }
    },
    {
      "cell_type": "markdown",
      "source": [
        "No *Python* quando um **erro** ocorre, o interpretador interrompe a execução e exibe uma **mensagem de erro**. Estes erros podem ser tratados com a palavra `try`."
      ],
      "metadata": {
        "id": "33Kf1HGAiha8"
      }
    },
    {
      "cell_type": "code",
      "source": [
        "# Este bloco gera um erro pois 'x' não está definida.\n",
        "try:\n",
        "  print(x)\n",
        "except:\n",
        "  print(\"Ocorreu uma excessão (erro)\")\n"
      ],
      "metadata": {
        "id": "DVNemK-jiwvO"
      },
      "execution_count": null,
      "outputs": []
    },
    {
      "cell_type": "markdown",
      "source": [
        "É possível definir blocos `except` para diferentes tipos de erros."
      ],
      "metadata": {
        "id": "iLTTBmJ8jGpS"
      }
    },
    {
      "cell_type": "code",
      "source": [
        "def dividir_numeros(a, b):\n",
        "    \"\"\"\n",
        "    Divide dois números e trata o erro de divisão por zero.\n",
        "\n",
        "    Parameters:\n",
        "    a (float): O numerador.\n",
        "    b (float): O denominador.\n",
        "\n",
        "    Returns:\n",
        "    float: O resultado da divisão, se bem-sucedida.\n",
        "    \"\"\"\n",
        "    try:\n",
        "        resultado = a / b\n",
        "    except ZeroDivisionError:\n",
        "        print(\"Erro: Não é possível dividir por zero.\")\n",
        "        return None\n",
        "    except TypeError:\n",
        "        print(\"Erro: Ambos os valores devem ser números.\")\n",
        "        return None\n",
        "    else:\n",
        "        return resultado\n",
        "    finally:\n",
        "        print(\"Operação de divisão finalizada.\")\n",
        "\n",
        "# Exemplos de uso\n",
        "print(dividir_numeros(10, 2))  # Saída: 5.0\n",
        "print(dividir_numeros(10, 0))  # Saída: \"Erro: Não é possível dividir por zero.\"\n",
        "print(dividir_numeros(10, 'a'))  # Saída: \"Erro: Ambos os valores devem ser números.\"\n"
      ],
      "metadata": {
        "id": "JWk6yuDBdTD5"
      },
      "execution_count": null,
      "outputs": []
    },
    {
      "cell_type": "markdown",
      "source": [
        "Explicação:\n",
        "\n",
        "* `try`: O bloco try executa o código que pode gerar uma exceção.\n",
        "* `except ZeroDivisionError`: Este bloco captura o erro de divisão por zero, exibindo uma mensagem de erro e retornando None.\n",
        "* `except TypeError`: Este bloco captura erros de tipo (caso um dos argumentos não seja um número), também exibindo uma mensagem e retornando None.\n",
        "* `else`: Executado apenas se o código no bloco try não gerar nenhuma exceção, retornando o resultado da divisão.\n",
        "* `finally`: Este bloco é sempre executado, independentemente de ocorrer uma exceção, e pode ser útil para limpar recursos ou informar o usuário sobre o fim da operação."
      ],
      "metadata": {
        "id": "5UOTCbeRdXuS"
      }
    },
    {
      "cell_type": "markdown",
      "source": [
        " A palavra `finally` pode ser utilizada para encerrar acessos e liberar recursos.\n",
        "\n",
        " No exemplo abaixo, o programa abre um arquivo e tenta escrever, mas caso seja gerado algum erro na escrita, então o `finally`é utilizado para fechar o arquivo."
      ],
      "metadata": {
        "id": "7brYJLpzkCZj"
      }
    },
    {
      "cell_type": "code",
      "source": [
        "try:\n",
        "  f = open(\"demofile.txt\")\n",
        "  try:\n",
        "    f.write(\"Lorem ipsum\")\n",
        "  except:\n",
        "    print(\"Não foi possível escrever no arquivo.\")\n",
        "  finally:\n",
        "    f.close()\n",
        "except:\n",
        "  print(\"Houve um erro na abertura do arquivo.\")"
      ],
      "metadata": {
        "id": "JUr3JaczkKGj"
      },
      "execution_count": null,
      "outputs": []
    },
    {
      "cell_type": "markdown",
      "source": [
        "Os diferentes tipos de erros definidos no *Python* estão descritos em https://docs.python.org/3/library/exceptions.html#bltin-exceptions"
      ],
      "metadata": {
        "id": "QEoSdD8VldYD"
      }
    },
    {
      "cell_type": "markdown",
      "source": [
        "# Modularização de códigos (bibliotecas)\n"
      ],
      "metadata": {
        "id": "nWvtlNk6rZjh"
      }
    },
    {
      "cell_type": "markdown",
      "source": [
        "Um **módulo** é o conceito usado pelo *Python* semelhante às bibliotecas no R ou no C: um arquivo contendo funções e classes que pode ser utilizado em outro arquivo de código.\n",
        "\n",
        "Para criar um **módulo** apenas grave o código com as funções e classes que deseja reaproveitar em um arquivo com extensão `.py`.\n",
        "\n",
        "**Exemplo**: Crie um arquivo chamado `meumodulo.py`:\n",
        "\n",
        "```python\n",
        "# No arquivo meumodulo.py\n",
        "def saudacao(nome):\n",
        "  print(\"Olá,\", nome)\n",
        "```\n",
        "\n",
        "Para utilizar um **módulo** basta importar o módulo com a palavra `import`.\n",
        "\n",
        "```python\n",
        "import meumodulo\n",
        "meumodulo.saudacao(\"Maria\")\n",
        "```\n",
        "\n",
        "Ao importar um módulo usando `import modulo`, o *Python* cria um novo **namespace** (espaço de nomes) chamado `modulo` com o conteúdo deste módulo. Para usar uma função definida no módulo use a sintaxe `modulo.funcao()` para informar que a `funcao()` está definida no *namespace* `modulo`.\n",
        "\n",
        "Os módulos podem conter funções e também podem conter vetores, dicionários, objetos, etc.\n",
        "\n",
        "```python\n",
        "# No arquivo meumodulo.py\n",
        "pessoa1 = {\n",
        "  \"nome\": \"João\",\n",
        "  \"idade\": 36,\n",
        "  \"país\": \"Noruega\"\n",
        "}\n",
        "```\n",
        "\n",
        "Importe o módulo chamado `meumodulo` e acesse o dicionário:\n",
        "```python\n",
        "import meumodulo\n",
        "print(meumodulo.pessoa1[\"idade\"])\n",
        "```\n",
        "\n",
        "É possível definir um **apelido** alterando o nome do *namespace* com o uso da palavra `as`:\n",
        "```python\n",
        "import meumodulo as mx\n",
        "print(mx.pessoa1[\"idade\"])\n",
        "```"
      ],
      "metadata": {
        "id": "ythSyQdrrwPK"
      }
    },
    {
      "cell_type": "markdown",
      "source": [
        "## Módulos do Python"
      ],
      "metadata": {
        "id": "SGfUXqaYteYp"
      }
    },
    {
      "cell_type": "markdown",
      "source": [
        "Existem diversos módulos pré-definidos no *Python* que podem ser importados com `import`:"
      ],
      "metadata": {
        "id": "XlfGEiSog2fD"
      }
    },
    {
      "cell_type": "code",
      "source": [
        "import platform\n",
        "print(platform.system())"
      ],
      "metadata": {
        "id": "3501ocqXhBkD"
      },
      "execution_count": null,
      "outputs": []
    },
    {
      "cell_type": "markdown",
      "source": [
        "A função `dir()` lista todos os elementos de um módulo."
      ],
      "metadata": {
        "id": "JIUDU_W2hKCl"
      }
    },
    {
      "cell_type": "code",
      "source": [
        "import math\n",
        "\n",
        "for item in dir(math):\n",
        "  print(item)"
      ],
      "metadata": {
        "id": "OQhiMCfhhOCV"
      },
      "execution_count": null,
      "outputs": []
    },
    {
      "cell_type": "markdown",
      "source": [
        "É possível importar apenas partes de um módulo usando a palavra `from`. Veja o exemplo:\n"
      ],
      "metadata": {
        "id": "r1rESk6VhWhT"
      }
    },
    {
      "cell_type": "code",
      "source": [
        "from math import pi, sqrt\n",
        "\n",
        "print(pi)\n",
        "\n",
        "print(sqrt(25))"
      ],
      "metadata": {
        "id": "yM7O2lMMcMXl"
      },
      "execution_count": null,
      "outputs": []
    },
    {
      "cell_type": "markdown",
      "source": [
        "**Nota:** elementos importados com `from` não usam o nome do módulo. Note que no exemplo, usamos:\n",
        "* `pi` ao invés de `math.pi`;\n",
        "* `sqrt` ao invés de `math.sqrt`."
      ],
      "metadata": {
        "id": "hNeUuTYVcVp0"
      }
    },
    {
      "cell_type": "markdown",
      "source": [
        "## Instalando novos módulos"
      ],
      "metadata": {
        "id": "Vg5gyfQewfes"
      }
    },
    {
      "cell_type": "markdown",
      "source": [
        "No *Python* é possível instalar novos módulos com o comando `pip install modulo`."
      ],
      "metadata": {
        "id": "Xm4cJ1dgiJYC"
      }
    },
    {
      "cell_type": "markdown",
      "source": [
        "## Biblioteca Padrão do Python\n",
        "\n",
        "A **Biblioteca Padrão do Python** é um conjunto extenso de módulos e pacotes integrados que fornecem soluções para uma ampla gama de tarefas comuns, sem a necessidade de instalar bibliotecas adicionais. Ela inclui ferramentas para manipulação de arquivos, expressões regulares, cálculos matemáticos, comunicação de rede, criptografia, manipulação de dados e muito mais.\n",
        "\n",
        "Aqui estão alguns dos módulos mais utilizados da **Biblioteca Padrão**:\n",
        "\n",
        "1. **`math`**: Fornece funções matemáticas, como funções trigonométricas, exponenciais, fatoriais e arredondamento.\n",
        "1. **`statistics`**: Funções para cálculos básicos de estatísticas, como média, mediana, desvio padrão, correlação, etc.\n",
        "1. **`datetime`**: Manipula datas e horas, permitindo a criação, formatação e cálculo de intervalos de tempo.\n",
        "1. **`os`**: Oferece funções para interação com o sistema operacional, como manipulação de arquivos, diretórios e variáveis de ambiente.\n",
        "1. **`re`**: Oferece suporte a expressões regulares, permitindo a busca e manipulação de padrões em strings.\n",
        "1. **`http`**: Suporta funcionalidades de comunicação HTTP, como criação de servidores web e envio de requisições.\n",
        "\n",
        "A biblioteca padrão do Python é vasta, cobrindo uma ampla variedade de funcionalidades essenciais. Para mais detalhes, você pode consultar a [documentação oficial](https://docs.python.org/pt-br/3/library).\n"
      ],
      "metadata": {
        "id": "y6gpUNfkeqXK"
      }
    },
    {
      "cell_type": "markdown",
      "source": [
        "## Principais Bibliotecas do Python\n",
        "\n",
        "### 1. **NumPy**\n",
        "   - **Descrição**: Biblioteca fundamental para computação científica. Fornece suporte para arrays multidimensionais e funções matemáticas de alto nível.\n",
        "   - **Uso principal**: Operações numéricas, álgebra linear, transformadas de Fourier, geração de números aleatórios, manipulação de grandes volumes de dados.\n",
        "   - **Instalação**: `pip install numpy`\n",
        "\n",
        "### 2. **Pandas**\n",
        "   - **Descrição**: Ferramenta poderosa para análise e manipulação de dados em grandes volumes, com estrutura de DataFrames (tabela de dados) e Series (colunas individuais) para organizar, limpar e transformar dados de forma prática.\n",
        "   - **Uso principal**: Manipulação de dados tabulares, leitura/escrita de arquivos CSV, Excel, etc.\n",
        "   - **Instalação**: `pip install pandas`\n",
        "\n",
        "### 3. **Matplotlib**\n",
        "   - **Descrição**: Biblioteca para criação de gráficos 2D, como gráficos de linha, barras e dispersão.\n",
        "   - **Uso principal**: Visualização de dados através de gráficos.\n",
        "   - **Instalação**: `pip install matplotlib`\n",
        "\n",
        "### 4. **Seaborn**\n",
        "   - **Descrição**: Biblioteca de visualização de dados baseada no Matplotlib, com gráficos estatísticos.\n",
        "   - **Uso principal**: Criação de gráficos estatísticos simples como gráficos de densidade e correlação.\n",
        "   - **Instalação**: `pip install seaborn`\n",
        "\n",
        "### 5. **Scikit-learn**\n",
        "   - **Descrição**: Biblioteca para aprendizado de máquina, contendo ferramentas simples e eficientes para mineração de dados e análise preditiva.\n",
        "   - **Uso principal**: Regressão, classificação, clustering e pré-processamento de dados.\n",
        "   - **Instalação**: `pip install scikit-learn`\n",
        "\n",
        "### 6. **TensorFlow**\n",
        "   - **Descrição**: Biblioteca de aprendizado profundo e machine learning desenvolvida pelo Google.\n",
        "   - **Uso principal**: Treinamento de redes neurais, deep learning, reconhecimento de padrões.\n",
        "   - **Instalação**: `pip install tensorflow`\n",
        "\n",
        "### 7. **Keras**\n",
        "   - **Descrição**: Biblioteca de alto nível para construção e treinamento de redes neurais, que pode ser usada com TensorFlow.\n",
        "   - **Uso principal**: Simplificação do desenvolvimento de redes neurais.\n",
        "   - **Instalação**: `pip install keras`\n",
        "\n",
        "### 8. **Requests**\n",
        "   - **Descrição**: Biblioteca simples para fazer requisições HTTP de maneira fácil e eficiente.\n",
        "   - **Uso principal**: Comunicação com APIs e envio de requisições HTTP (GET, POST, etc.).\n",
        "   - **Instalação**: `pip install requests`\n",
        "\n",
        "### 9. **Flask**\n",
        "   - **Descrição**: Micro framework para o desenvolvimento de aplicações web e APIs.\n",
        "   - **Uso principal**: Criação rápida de APIs RESTful e pequenos sites.\n",
        "   - **Instalação**: `pip install flask`\n",
        "\n",
        "### 10. **BeautifulSoup**\n",
        "   - **Descrição**: Biblioteca para web scraping, usada para extrair dados de páginas HTML e XML.\n",
        "   - **Uso principal**: Extração de dados de sites.\n",
        "   - **Instalação**: `pip install beautifulsoup4`\n"
      ],
      "metadata": {
        "id": "Kp1EMOpRbnht"
      }
    },
    {
      "cell_type": "markdown",
      "source": [
        "# **Strings**\n",
        "\n",
        "Strings são um dos tipos de dados mais fundamentais, representando sequências de caracteres que permitem manipulações textuais variadas, como concatenação, fatiamento, busca e substituição de trechos.\n",
        "\n",
        "Para operações mais avançadas de processamento de texto, como a extração de padrões complexos ou a validação de formatos específicos (e-mails, números de telefone, etc.), Python oferece suporte a expressões regulares por meio do módulo `re`.\n",
        "\n",
        "Expressões regulares são ferramentas para definir padrões de busca que capturam, substituem ou transformam partes específicas de uma string, tornando-as essenciais para o processamento de grandes volumes de dados textuais e para a automação de tarefas que dependem de correspondências de padrões.\n"
      ],
      "metadata": {
        "id": "Efqoc768wU4j"
      }
    },
    {
      "cell_type": "markdown",
      "source": [
        "## Funções básicas\n",
        "\n",
        "Funções úteis para manipulação de strings:\n",
        "\n",
        "* `split()`: Divide uma string em uma lista de substrings com base em um delimitador (por padrão, divide por espaços). É útil para separar palavras ou partes de uma string.\n",
        "* `join()`: Concatena uma lista de strings usando um delimitador especificado. Útil para unir elementos em uma única string.\n",
        "* `replace()`: Substitui todas as ocorrências de uma substring por outra dentro de uma string. É usada para modificações localizadas de texto.\n",
        "* `upper()`, `lower()`: Convertem a string para letras maiúsculas ou minúsculas, respectivamente.\n",
        "* `title()`: Converte a primeira letra de cada palavra para maiúscula.\n",
        "* `strip()`: Remove espaços em branco (ou outros caracteres especificados) do início e do fim da string. Útil para limpar dados de entrada.\n",
        "* `count()`: Conta o número de ocorrências de uma substring na string.\n",
        "* `find()`: Retorna o índice da primeira ocorrência de uma substring dentro da string. Se a substring não for encontrada, retorna -1."
      ],
      "metadata": {
        "id": "p9OrJGdSp06H"
      }
    },
    {
      "cell_type": "code",
      "source": [
        "##Exemplo: Operações Básicas com Strings\n",
        "\n",
        "# Declaração de uma string\n",
        "texto = \"Olá, Mundo!\"\n",
        "\n",
        "# Acessando caracteres\n",
        "print(texto[0])   # Saída:  O\n",
        "print(texto[-1])  # Saída:  !\n",
        "\n",
        "# Fatiamento\n",
        "print(texto[0:5])  # Saída:  Olá,\n",
        "\n",
        "# Exemplo de lower()\n",
        "print(texto.lower())  # Saída:  olá, mundo!\n",
        "\n",
        "# Exemplo de upper()\n",
        "print(texto.upper())  # Saída:  OLÁ, MUNDO!\n",
        "\n",
        "# Exemplo de title()\n",
        "frase = \"python é incrível\"\n",
        "print(frase.title())  # Saída: \"Python É Incrível\""
      ],
      "metadata": {
        "id": "OCDEP208wuWU"
      },
      "execution_count": null,
      "outputs": []
    },
    {
      "cell_type": "code",
      "source": [
        "# Exemplo de replace()\n",
        "texto = \"Olá, Mundo!\"\n",
        "print(texto.replace(\"Mundo\", \"Python\"))  # Saída: Olá, Python!\n",
        "\n",
        "# Exemplo de strip()\n",
        "texto_com_espacos = \"   Olá, mundo!   \"\n",
        "print(texto_com_espacos.strip(\" \"))      # Saída: \"Olá, mundo!\"\n",
        "\n",
        "email = \" maria@unb.br \"\n",
        "print(email.strip(\" \"))                  # saida: \"maria@unb.br\"\n",
        "\n",
        "# Exemplo de find()\n",
        "frase = \"Python é incrível\"\n",
        "print(frase.find(\"é\"))                   # Saída: 7\n",
        "print(frase.find(\"Java\"))                # Saída: -1"
      ],
      "metadata": {
        "id": "11ziUBKQ0d9e"
      },
      "execution_count": null,
      "outputs": []
    },
    {
      "cell_type": "code",
      "source": [
        "# Exemplos de split() e joing()\n",
        "mensagem = \"Python é uma linguagem poderosa\"\n",
        "\n",
        "exemplo_split = mensagem.split( )\n",
        "print(exemplo_split)  # Saída: ['Python', 'é', 'uma', 'linguagem', 'poderosa']\n",
        "\n",
        "exemplo_join = \" \".join( exemplo_split)\n",
        "print(exemplo_join)  # Saída: Python é uma linguagem poderosa\n",
        "\n",
        "exemplo_join2 = '_'.join( exemplo_split)\n",
        "print(exemplo_join2)  # Saída: Python é uma linguagem poderosa"
      ],
      "metadata": {
        "id": "Hw844YI9zHV9"
      },
      "execution_count": null,
      "outputs": []
    },
    {
      "cell_type": "markdown",
      "source": [
        "**Formatando Strings:**"
      ],
      "metadata": {
        "id": "W_4SpSnCw2ky"
      }
    },
    {
      "cell_type": "code",
      "execution_count": null,
      "metadata": {
        "id": "Kpbkz74GvvRW"
      },
      "outputs": [],
      "source": [
        "nome = \"João\"\n",
        "idade = 25\n",
        "# Usando f-strings (Python 3.6+)\n",
        "ex_f = f\"Meu nome é {nome} e eu tenho {idade} anos.\"\n",
        "print(ex_f)  # Meu nome é João e eu tenho 25 anos.\n",
        "\n",
        "# Usando o método format\n",
        "ex_format = \"Meu nome é {} e eu tenho {} anos.\".format(nome, idade)\n",
        "print(ex_format)  # Mesma saída.\n",
        "\n",
        "# Usando \"+\"\n",
        "ex_mais = \"Meu nome é \" + nome + \" e eu tenho \" + str(idade) + \" anos.\"\n",
        "print(ex_mais)"
      ]
    },
    {
      "cell_type": "markdown",
      "source": [
        "### Exercício 1:\n",
        "\n",
        "Crie uma função chamada `saudacao` que recebe dois parâmetros: `nome` e `sobrenome`. A função deve concatenar esses dois parâmetros para retornar uma saudação completa, como \"Olá, Nome Sobrenome!\"."
      ],
      "metadata": {
        "id": "lfP2g_Qy3glx"
      }
    },
    {
      "cell_type": "markdown",
      "source": [
        "### Exercício 2:\n",
        "\n",
        "Crie uma função chamada `extrair_dominio` que recebe um endereço de email como parâmetro e retorna apenas o domínio (parte após o @). Use `split()` para dividir o email e extrair o domínio.\n",
        "\n",
        "Exemplo:\n",
        "```python\n",
        "extrair_dominio(\"usuario@dominio.com\")  # Saída: \"dominio.com\"\n",
        "```\n"
      ],
      "metadata": {
        "id": "-7lOFN2p4NY9"
      }
    },
    {
      "cell_type": "markdown",
      "source": [],
      "metadata": {
        "id": "0o6vRsU4zjjk"
      }
    },
    {
      "cell_type": "markdown",
      "source": [
        "### Exercício 3:\n",
        "\n",
        "Construa um código que altera um número de telefone no formato \"61997351520\" para o formato \"(61) 99735-1520\".\n",
        "\n",
        "Exemplo:\n",
        "```python\n",
        "altera_telefone(61997351520)  # Saída: \"(61) 99735-1520\"\n",
        "```"
      ],
      "metadata": {
        "id": "ckeI1yU4zj9x"
      }
    },
    {
      "cell_type": "code",
      "source": [
        "def altera_telefone(numero):\n",
        "  numero = str(numero)\n",
        "  fatia1 = numero[0:2]\n",
        "  fatia2 = numero[2:7]\n",
        "  fatia3 = numero[7:11]\n",
        "  fatia4 = numero[11:13]\n",
        "  novo_numero = f\"({fatia1}) {fatia2}-{fatia3}{fatia4}\"\n",
        "  return novo_numero\n",
        "\n",
        "altera_telefone(61997351520)"
      ],
      "metadata": {
        "id": "YOWro67Tz4qM"
      },
      "execution_count": null,
      "outputs": []
    },
    {
      "cell_type": "markdown",
      "source": [
        "## Expressões Regulares\n",
        "\n",
        "Trabalhar com dados textuais é uma tarefa comum em várias áreas de programação, como processamento de linguagem natural, análise de logs, extração de dados e muito mais.\n",
        "\n",
        "Para lidar eficientemente com textos e padrões em strings, Python oferece suporte a expressões regulares (Regex) por meio da biblioteca `re`."
      ],
      "metadata": {
        "id": "qHO6jOwsxGAK"
      }
    },
    {
      "cell_type": "markdown",
      "source": [
        "### Sintaxe de Expressões Regulares\n",
        "\n",
        "Os padrões são formados utilizando operadores, veja os mais comuns abaixo:\n",
        "\n",
        "| Símbolo | Significado                                    |\n",
        "|---------|------------------------------------------------|\n",
        "| `.`     | Qualquer caractere (exceto nova linha)         |\n",
        "| `\\d`    | Qualquer dígito (0-9)                          |\n",
        "| `\\D`    | Qualquer caractere que **não** é um dígito     |\n",
        "| `\\w`    | Qualquer caractere alfanumérico (qualquer letra ou dígito) ou (`_`)                                                      |\n",
        "| `\\W`    | Qualquer caractere que **não** pertence a classe `\\w`.|\n",
        "| `\\s`    | Qualquer espaço em branco (espaços, tabulações, quebras de linha)                                                     |\n",
        "| `\\S`    | Qualquer caractere que **não** pertence a classe `\\s`. |\n",
        "| `[]`    | Define um conjunto de caracteres, exemplo: [a-z] para letras minúsculas                                                 |\n",
        "| `{n}`   | Corresponde exatamente a `n` ocorrências do caractere ou padrão anterior.                                                  |\n",
        "| `{n,}`  | Corresponde a `n` ou mais ocorrências do caractere ou padrão anterior.                                                  |\n",
        "| `{n,m}` | Corresponde de `n` a `m` ocorrências do caractere ou padrão anterior.                                                  |\n",
        "| `+`     | Uma ou mais ocorrências                        |\n",
        "| `*`     | Zero ou mais ocorrências                       |\n",
        "| `?`     | Zero ou uma ocorrência                         |\n",
        "| `^`     | Início da string                               |\n",
        "| `$`     | Final da string                                |\n",
        "\n"
      ],
      "metadata": {
        "id": "ItWa8dsvxrJU"
      }
    },
    {
      "cell_type": "markdown",
      "source": [
        "### Principais Funções de `re`:\n",
        "\n",
        "* `re.search(padrão, string)`: Procura por um padrão em uma string. Retorna a primeira ocorrência encontrada.\n",
        "* `re.findall(padrão, string)`: Retorna todas as correspondências de um padrão em uma string.\n",
        "* `re.sub(padrão, substituição, string)`: Substitui as correspondências do padrão em uma string por outro valor. Retorna a string atualizada.\n",
        "* `re.split(pattern, string)`: Divide a string com base em um padrão e retorna uma lista. Útil para dividir a string usando delimitadores mais complexos que simples espaços ou vírgulas.\n"
      ],
      "metadata": {
        "id": "HdSi3FMG3ucj"
      }
    },
    {
      "cell_type": "markdown",
      "source": [
        "Existem outras funções e símbolos implementados na biblioteca `re`. Para mais detalhes acesse o manual da biblioteca: [https://docs.python.org/3/library/re.html](https://docs.python.org/3/library/re.html).\n",
        "\n",
        "Para entender como esses padrões podem ser utilizados, veja os exemplos abaixo."
      ],
      "metadata": {
        "id": "99Dekczd_S1o"
      }
    },
    {
      "cell_type": "markdown",
      "source": [
        "### Exemplo:  Encontrar todos os números em um texto"
      ],
      "metadata": {
        "id": "GoG2avqqmfII"
      }
    },
    {
      "cell_type": "markdown",
      "source": [
        "**Explicação:**\n",
        "\n",
        "O termo `padrao = r\"\\d+\"` define o padrão da expressão regular, em que:\n",
        "* `\\d` representa qualquer dígito numérico (0-9).\n",
        "* `+` indica que deve haver uma ou mais ocorrências de dígitos consecutivos.\n",
        "\n",
        "Assim, `\\d+` corresponde a qualquer sequência contínua de um ou mais dígitos, como 50 e 250."
      ],
      "metadata": {
        "id": "XoKsdEIsrjAY"
      }
    },
    {
      "cell_type": "code",
      "source": [
        "import re\n",
        "\n",
        "texto = \"O preço é 50 dólares ou 250 reais.\"\n",
        "\n",
        "padrao = r\"\\d+\"\n",
        "\n",
        "print(re.findall(padrao, texto))  # ['50', '250']"
      ],
      "metadata": {
        "id": "gFPQMn75zEfI"
      },
      "execution_count": null,
      "outputs": []
    },
    {
      "cell_type": "code",
      "source": [
        "## no caso de querer tudo que não seja digitos:\n",
        "import re\n",
        "\n",
        "texto = \"O preço é 50 dólares ou 250 reais.\"\n",
        "\n",
        "padrao2 = r\"\\D+\"\n",
        "\n",
        "print(re.findall(padrao2, texto))  # ['O preço é ', ' dólares ou ', ' reais.']"
      ],
      "metadata": {
        "id": "rR6VZEz8CFgV"
      },
      "execution_count": null,
      "outputs": []
    },
    {
      "cell_type": "markdown",
      "source": [
        "\n",
        "Também podemos identificar quantas ocorrências devem ser buscadas com `{ }`, por exemplo, `\"\\d{5}\"` indica uma sequência de 5 digitos. Veja como isso pode ser útil nos exemplos abaixo.\n",
        "\n",
        "### Exemplo: buscando telefones"
      ],
      "metadata": {
        "id": "r-dIBe1tsdkU"
      }
    },
    {
      "cell_type": "code",
      "source": [
        "## Exemplo: buscando telefones\n",
        "\n",
        "from re import search, findall\n",
        "\n",
        "texto = \"o meu número é (61) 99800-8584 e (11) 99785-2020\"\n",
        "\n",
        "# Regex para encontrar telefones\n",
        "padrao = r\"\\(\\d{2}\\) \\d{5}-\\d{4}\"\n",
        "\n",
        "## re.search localiza apenas a primeira ocorrência\n",
        "out_search = search( padrao, texto )\n",
        "\n",
        "print( out_search  )         # saida: <re.Match object; span=(15, 30), match='(61) 99800-8584'>\n",
        "print( out_search.group()  ) # saida: (61) 99800-8584\n",
        "\n",
        "## re.findall localiza todas as ocorrências\n",
        "out_findall = findall( padrao, texto )\n",
        "\n",
        "print( out_findall )         # saida: ['(61) 99800-8584', '(11) 99785-2020']\n",
        "\n",
        "## ultima ocorrência\n",
        "print( out_findall[-1] )     # saida: '(11) 99785-2020'\n"
      ],
      "metadata": {
        "id": "2mZbnRYrgBPA"
      },
      "execution_count": null,
      "outputs": []
    },
    {
      "cell_type": "markdown",
      "source": [
        "### Exemplo: buscandos datas"
      ],
      "metadata": {
        "id": "tFhyt9g7IYNX"
      }
    },
    {
      "cell_type": "code",
      "source": [
        "## Exemplo: buscandos datas\n",
        "\n",
        "from re import findall\n",
        "\n",
        "texto = \"Hoje é dia 02/10/2024 e o próximo evento será em 15/11/2024.\"\n",
        "\n",
        "# Regex para encontrar datas no formato DD/MM/AAAA\n",
        "padrao_data = r\"\\d{2}/\\d{2}/\\d{4}\"\n",
        "\n",
        "# re.findall localiza todas as ocorrências\n",
        "datas = findall(padrao_data, texto)\n",
        "\n",
        "print(datas)  # ['02/10/2024', '15/11/2024']"
      ],
      "metadata": {
        "id": "9IqwV2wn4ErD"
      },
      "execution_count": null,
      "outputs": []
    },
    {
      "cell_type": "markdown",
      "source": [
        "### Exemplo: buscando emails\n",
        "\n",
        "**Explicação:**\n",
        "\n",
        "Padrão `r\"\\S+@\\S+\"`:\n",
        "\n",
        "* `\\S+`: Corresponde a uma sequência de caracteres não-espaços (letras, números ou símbolos) uma ou mais vezes.\n",
        "* `@`: Corresponde exatamente ao símbolo @, que é característico dos endereços de e-mail.\n",
        "* `\\S+` (após o @): Corresponde a mais uma sequência de caracteres não-espaços para identificar o domínio do e-mail."
      ],
      "metadata": {
        "id": "PwMGfLLHIb2i"
      }
    },
    {
      "cell_type": "code",
      "source": [
        "## Exemplo: buscando emails\n",
        "\n",
        "from re import findall\n",
        "\n",
        "texto = \"Se tiver problemas de conexão então envie um email para administrador@exemplo.com, mas se o problema persistir então entre em contato o sac pelo email sac@exemplo.com\"\n",
        "\n",
        "padrao = r\"\\S+@\\S+\"  # Padrão para e-mails\n",
        "\n",
        "emails = re.findall(padrao, texto)\n",
        "\n",
        "print(emails) # ['administrador@exemplo.com,', 'sac@exemplo.com']\n"
      ],
      "metadata": {
        "id": "yrvvFfLa4Tlg"
      },
      "execution_count": null,
      "outputs": []
    },
    {
      "cell_type": "markdown",
      "source": [
        "### Grupos e capturas\n",
        "\n",
        "As expressões regulares podem agrupar partes de um padrão usando parênteses, o que permite capturar subpartes específicas."
      ],
      "metadata": {
        "id": "b7r7yPKFIkU0"
      }
    },
    {
      "cell_type": "code",
      "source": [
        "## Exemplo: grupos e capturas\n",
        "\n",
        "# Explicação:\n",
        "# O padrão (\\w+) captura uma palavra (como o nome de um produto).\n",
        "# O padrão (\\d+) captura um ou mais dígitos (como o preço).\n",
        "\n",
        "import re\n",
        "\n",
        "texto = \"Produto: Camiseta, Preço: R$50.75\"\n",
        "padrao = r\"Produto: (\\w+), Preço: R\\$(\\d+\\.\\d+)\"\n",
        "resultado = re.search(padrao, texto)\n",
        "\n",
        "if resultado:\n",
        "    produto = resultado.group(1)  # 'Camiseta'\n",
        "    preco = resultado.group(2)    # '50.75'\n",
        "    print(f\"Produto: {produto}, Preço: R${preco}\")\n"
      ],
      "metadata": {
        "id": "ExMqyfjs5yKq"
      },
      "execution_count": null,
      "outputs": []
    },
    {
      "cell_type": "code",
      "source": [
        "# Explicação:\n",
        "# O padrão (\\w+) captura o nome.\n",
        "# O padrão (\\d+) captura a idade.\n",
        "\n",
        "import re\n",
        "\n",
        "texto = \"Nome: Ana, Idade: 25; Nome: João, Idade: 30; Nome: Maria, Idade: 22\"\n",
        "padrao = r\"Nome: (\\w+), Idade: (\\d+)\"\n",
        "pessoas = re.findall(padrao, texto)\n",
        "\n",
        "for nome, idade in pessoas:\n",
        "    print(f\"Nome: {nome}, Idade: {idade}\")\n"
      ],
      "metadata": {
        "id": "WgbeecsWFCz9"
      },
      "execution_count": null,
      "outputs": []
    },
    {
      "cell_type": "markdown",
      "source": [
        "### **Exemplo:** separando dia, mês e ano\n",
        "\n",
        "Considere o texto `Hoje é 15/10/2024.` e então extraia o dia, mês e ano. Utilize a função `re.search(padrao, texto)`."
      ],
      "metadata": {
        "id": "MsV9_TnP8tzS"
      }
    },
    {
      "cell_type": "code",
      "source": [
        "# Solução\n",
        "import re\n",
        "\n",
        "texto = \"Hoje é 15/10/2024.\"\n",
        "\n",
        "padrao = r\"(\\d{2})/(\\d{2})/(\\d{4})\"\n",
        "resultado = re.search(padrao, texto)\n",
        "\n",
        "if resultado:\n",
        "    dia, mes, ano = resultado.groups()\n",
        "    print(f\"Dia: {dia}, Mês: {mes}, Ano: {ano}\")"
      ],
      "metadata": {
        "id": "HwRYYtsT95TD"
      },
      "execution_count": null,
      "outputs": []
    },
    {
      "cell_type": "markdown",
      "source": [
        "### **Exemplo:** formatando datas\n",
        "\n",
        "Dado o texto `\"Reunião em 12/09/2024 e evento em 10/12/2024\"`, substitua todas as datas pelo formato AAAA-MM-DD."
      ],
      "metadata": {
        "id": "qgEvrj8b68pC"
      }
    },
    {
      "cell_type": "code",
      "source": [
        "# Solução\n",
        "import re\n",
        "\n",
        "texto = \"Reunião em 12/09/2024 e evento em 10/12/2024.\"\n",
        "padrao = r\"(\\d{2})/(\\d{2})/(\\d{4})\"\n",
        "\n",
        "novo_texto = re.sub(padrao, r\"\\3-\\2-\\1\", texto)\n",
        "\n",
        "print(novo_texto)  # 'Reunião em 2024-09-12 e evento em 2024-12-10.'"
      ],
      "metadata": {
        "id": "nz6kMISN68Ya"
      },
      "execution_count": null,
      "outputs": []
    },
    {
      "cell_type": "markdown",
      "source": [
        "*Explicação:*\n",
        "\n",
        "`re.sub(padrao, r\"\\3-\\2-\\1\", texto)`\n",
        "   - A função `re.sub()` substitui todas as ocorrências que correspondem ao padrão `(\\d{2})/(\\d{2})/(\\d{4})` no `texto` pela nova formatação especificada.\n",
        "   - **`r\"\\3-\\2-\\1\"`**: Reorganiza os grupos capturados para exibir a data no formato `AAAA-MM-DD`.\n",
        "     - `\\3` refere-se ao terceiro grupo (o ano).\n",
        "     - `\\2` refere-se ao segundo grupo (o mês).\n",
        "     - `\\1` refere-se ao primeiro grupo (o dia).\n",
        "   - Portanto, `12/09/2024` se torna `2024-09-12`, e `10/12/2024` se torna `2024-12-10`.\n"
      ],
      "metadata": {
        "id": "QUpjRsKut-6C"
      }
    },
    {
      "cell_type": "markdown",
      "source": [
        "### **Exemplo**: verificando CPF\n",
        "\n",
        "Crie uma expressão regular que valide se um CPF está no formato correto: xxx.xxx.xxx-xx, onde x é um dígito."
      ],
      "metadata": {
        "id": "McHg7wMx_TKm"
      }
    },
    {
      "cell_type": "code",
      "source": [
        "# Solução\n",
        "import re\n",
        "\n",
        "cpf = \"123.456.789-09\"\n",
        "padrao = r\"\\d{3}\\.\\d{3}\\.\\d{3}-\\d{2}\"\n",
        "\n",
        "if re.fullmatch(padrao, cpf): ## retorna True se a equivalência é perfeita.\n",
        "    print(\"CPF válido!\")\n",
        "else:\n",
        "    print(\"CPF inválido.\")\n"
      ],
      "metadata": {
        "id": "F1RsVgI38rQ3"
      },
      "execution_count": null,
      "outputs": []
    },
    {
      "cell_type": "markdown",
      "source": [
        "### **Exemplo**: Extração de URLs\n",
        "\n",
        "Dada uma string contendo várias URLs, extraia todas elas usando uma expressão regular.\n",
        "\n",
        "Neste caso, o padrão a ser buscado deve ser:\n",
        "\n",
        "`padrao = r\"https?://[a-zA-Z0-9.-]+\\.[a-zA-Z]{2,}\"`\n",
        "\n",
        "o qual é usado para capturar URLs que começam com `http` ou `https`, seguidos por um domínio e uma extensão de domínio de pelo menos dois caracteres.\n",
        "\n",
        "*Explicação do Padrão:*\n",
        "\n",
        "- `https?`:\n",
        "  - `http` é seguido por `s?`, onde `?` indica que o `s` é opcional.\n",
        "  - Isso permite capturar tanto `http` quanto `https`.\n",
        "\n",
        "- `://`:\n",
        "  - Representa exatamente os caracteres `://`, que aparecem logo após `http` ou `https` em URLs.\n",
        "\n",
        "- `[a-zA-Z0-9.-]+`:\n",
        "  - `[a-zA-Z0-9.-]` define um conjunto de caracteres permitidos:\n",
        "    - `a-z`: letras minúsculas.\n",
        "    - `A-Z`: letras maiúsculas.\n",
        "    - `0-9`: dígitos numéricos.\n",
        "    - `.` e `-`: pontos e hífens, comuns em domínios.\n",
        "  - `+` indica que deve haver **um ou mais desses caracteres**. Esse conjunto captura o domínio principal e subdomínios (por exemplo, `www`, `sub.exemplo`, `exemplo-com`).\n",
        "\n",
        "- `\\.[a-zA-Z]{2,}`:\n",
        "  - `\\.` corresponde exatamente a um ponto `.` (o caractere especial `.` é escapado com `\\`).\n",
        "  - `[a-zA-Z]{2,}` corresponde a uma sequência de letras (maiúsculas ou minúsculas) de **pelo menos dois caracteres**.\n",
        "  - Esse trecho captura a extensão do domínio, como `.com`, `.org`, `.net`, `.br`, etc.\n"
      ],
      "metadata": {
        "id": "DOkIVF6L79yS"
      }
    },
    {
      "cell_type": "code",
      "source": [
        "# Solução\n",
        "import re\n",
        "\n",
        "texto = \"Visite nossos sites: https://example.com e http://test.com.br para mais informações.\"\n",
        "\n",
        "padrao = r\"https?://[a-zA-Z0-9.-]+\\.[a-zA-Z]{2,}\"\n",
        "\n",
        "urls = re.findall(padrao, texto)\n",
        "print(urls)  # ['https://example.com', 'http://test.com.br']\n"
      ],
      "metadata": {
        "id": "6qJS4X898I5N"
      },
      "execution_count": null,
      "outputs": []
    },
    {
      "cell_type": "markdown",
      "source": [
        "### Exercício 4:\n",
        "\n",
        "Crie uma expressão regular que valide CEPs no formato XXXXX-XXX, onde X é um dígito. Escreva uma função validar_cep que recebe uma string e retorna True se o CEP for válido, caso contrário, False.\n",
        "\n",
        "```python\n",
        "validar_cep(\"12345-678\")  # True\n",
        "validar_cep(\"1234-678\")   # False\n",
        "```"
      ],
      "metadata": {
        "id": "cmG2LXeG_lhX"
      }
    },
    {
      "cell_type": "markdown",
      "source": [
        "### Exercício 5:\n",
        "\n",
        "Crie uma função que verifica se placas de carro estão no formato antigo brasileiro (AAA-1234), onde A é uma letra maiúscula e 1-4 são números.\n",
        "\n",
        "Exemplo:\n",
        "\n",
        "```python\n",
        "verifica_placa(\"PHL-2526\") # True\n",
        "verifica_placa(\"AAB9E81\")  # False\n",
        "```"
      ],
      "metadata": {
        "id": "53vX8uMMCS7E"
      }
    },
    {
      "cell_type": "markdown",
      "source": [
        "# Introdução ao NumPy"
      ],
      "metadata": {
        "id": "z-qiukcJzTIS"
      }
    },
    {
      "cell_type": "markdown",
      "source": [
        "O **NumPy** é uma das bibliotecas fundamentais para a computação científica em Python, sendo amplamente usada para trabalhar com arrays multidimensionais e operações matemáticas de alto desempenho. Ela fornece ferramentas para manipulação de dados, álgebra linear, estatísticas, etc.\n",
        "\n",
        "Mais detalhes podem ser encontrados no tutorial: https://numpy.org/devdocs/user/quickstart.html\n",
        "\n",
        "Esta é uma rápida introdução ao NumPy que demonstra como matrizes n-dimensionais são representadas e podem ser manipulatadas.\n",
        "\n",
        "A classe de matrizes do NumPy é chamada `ndarray`. Também é chamada pelo apelido `array`. Note que `numpy.array` não é o mesmo que a classe `array.array` da biblioteca padrão do Python, a qual manipula apenas vetores unidimensionais e oferecem menos funcionalidades.\n",
        "\n",
        "Os principais atributos de um objeto `ndarray` são:\n",
        "\n",
        "- `ndarray.ndim`: número de dimensões da matriz.\n",
        "\n",
        "- `ndarray.shape`: as dimensões da matriz. Uma tupla de inteiros indicando o tamanho em cada dimensão. Para uma matriz com linhas e colunas, o resultado será `(n, m)`. O tamanho da tupla é o mesmo que o número de eixos `ndim`.\n",
        "\n",
        "- `ndarray.size`: o número total de elementos na matriz. É igual ao produtos dos elementos do shape.\n",
        "\n",
        "- `ndarray.dtype`: um objeto que descreve o tipo dos elementos da matriz. Pode ser criado usando os tipos padrão do Python. Além destes, NumPy define outros tipos como `numpy.int32`, `numpy.int16`, e `numpy.float64`.\n",
        "\n",
        "- `ndarray.reshape`: permite alterar a dimensão de um array.\n"
      ],
      "metadata": {
        "id": "8-9lsUutzcVq"
      }
    },
    {
      "cell_type": "markdown",
      "source": [
        "## Criando Arrays\n",
        "\n",
        "O `array` é a estrutura de dados central do NumPy. Ele é mais eficiente e flexível do que as listas Python tradicionais.\n",
        "\n",
        "Importanto a biblioteca com\n",
        "```python\n",
        "import NumPy as np\n",
        "```\n",
        "\n",
        "Alguns módulos mais importantes da biblioteca são:\n",
        "\n",
        "* `np.array()`: cria arrays a partir de listas;\n",
        "* `np.zeros()`: cria um array preenchido com zeros;\n",
        "* `np.arange()`: cria um array com uma sequência de valores;\n",
        "* `np.linspace()`: cria um array de valores uniformemente espaçados.\n",
        "\n",
        "Veja os exemplo abaixo:"
      ],
      "metadata": {
        "id": "8wgGhC78jHsp"
      }
    },
    {
      "cell_type": "code",
      "source": [
        "import numpy as np\n",
        "\n",
        "# Criando um array a partir de uma lista:\n",
        "print(\"--a--\")\n",
        "a = np.array([1, 2, 3, 4])\n",
        "print(a)                  # Saída: [1 2 3 4] (vetor)\n",
        "print(\"type:\", type(a))   # Saída: <class 'numpy.ndarray'>\n",
        "print(\"dtype:\", a.dtype)  # Saída: int64\n",
        "print(\"size:\", a.size)    # Saída: 4\n",
        "print(\"ndim:\", a.ndim)    # Saída: 1\n",
        "print(\"shape:\", a.shape)  # Saída: (4,)\n",
        "print(\"-----\")\n",
        "\n",
        "# Arrays de múltiplas dimensões:\n",
        "print(\"--b--\")\n",
        "b = np.array([[1, 2, 3], [4, 5, 6]])\n",
        "print(b)                  # Saída: [[1 2 3] [4 5 6]] (matriz)\n",
        "print(\"type:\", type(b))   # Saída: <class 'numpy.ndarray'>\n",
        "print(\"dtype:\", b.dtype)  # Saída: int64\n",
        "print(\"size:\", b.size)    # Saída: 4\n",
        "print(\"ndim:\", b.ndim)    # Saída: 2\n",
        "print(\"shape:\", b.shape)  # Saída: (2, 3)\n",
        "print(\"-----\")\n",
        "\n",
        "# Arrays com valores predefinidos\n",
        "## Array de zeros:\n",
        "print(\"--zeros--\")\n",
        "zeros = np.zeros((2, 3))\n",
        "print(\"dtype:\", zeros.dtype)  # Saída: float64\n",
        "print(zeros)                  # Saída: [[0. 0. 0.] [0. 0. 0.]]\n",
        "print(\"-----\")\n",
        "\n",
        "## Array de uns:\n",
        "print(\"--ones--\")\n",
        "ones = np.ones((2, 2))    # Matriz 2x2 de uns\n",
        "print(ones)               # Saída: [[1. 1.] [1. 1.]]\n",
        "print(\"-----\")\n",
        "\n",
        "# Arrays sequenciais\n",
        "## Array com valores de 0 a 9:\n",
        "print(\"--seq--\")\n",
        "seq = np.arange(10)\n",
        "print(seq)                # Saída: [0 1 2 3 4 5 6 7 8 9]\n",
        "print(\"-----\")\n",
        "\n",
        "## Array com valores igualmente espaçados:\n",
        "print(\"--lin--\")\n",
        "lin_space = np.linspace(0, 1, 5)  # 5 valores igualmente espaçados entre 0 e 1\n",
        "print(lin_space)          # Saída: [0.   0.25 0.5  0.75 1.  ]\n",
        "print(\"-----\")"
      ],
      "metadata": {
        "id": "DYjubt7PjWjm"
      },
      "execution_count": null,
      "outputs": []
    },
    {
      "cell_type": "markdown",
      "source": [
        "A dimensão de um array pode ser alterada utilizando o atributo `.reshape`. Veja o exemplo:"
      ],
      "metadata": {
        "id": "ymS47PlNswZr"
      }
    },
    {
      "cell_type": "code",
      "source": [
        "seq = np.arange(12) ## vetor\n",
        "print(seq)  # Saída: [0 1 2 3 4 5 6 7 8 9 10 11]\n",
        "print(\"-----\")\n",
        "\n",
        "a = seq.reshape(3, 4)  ## matriz 3x4\n",
        "print(a)  # Saída: [[ 0  1  2  3] [ 4  5  6  7] [ 8  9 10 11]]\n",
        "print(\"-----\")\n",
        "\n",
        "b = seq.reshape(4, 3)  ## matriz 4x3\n",
        "print(b)  # Saída: [[ 0  1  2] [ 3  4  5] [ 6  7  8] [ 9 10 11]]\n"
      ],
      "metadata": {
        "id": "PetCK-bVs41_"
      },
      "execution_count": null,
      "outputs": []
    },
    {
      "cell_type": "markdown",
      "source": [
        "Existem diversas formas de se criar matrizes:"
      ],
      "metadata": {
        "id": "MWQ3hdg69flQ"
      }
    },
    {
      "cell_type": "code",
      "source": [
        "# O tipo é deduzido dos elementos.\n",
        "import numpy as np\n",
        "a = np.array([2, 3, 4])\n",
        "print(a)\n",
        "a.dtype     ## exibe: dtype('int64')"
      ],
      "metadata": {
        "id": "XktvaZAt-R04"
      },
      "execution_count": null,
      "outputs": []
    },
    {
      "cell_type": "code",
      "source": [
        "b = np.array([1.2, 3.5, 5.1])\n",
        "print(b)\n",
        "b.dtype   ## exibe: dtype('float64')"
      ],
      "metadata": {
        "id": "w8GtcqHb-gfP"
      },
      "execution_count": null,
      "outputs": []
    },
    {
      "cell_type": "markdown",
      "source": [
        "Um erro frequente consiste em chamar array com múltiplos argumentos, ao invés de uma sequência."
      ],
      "metadata": {
        "id": "J9mts1m9-SD_"
      }
    },
    {
      "cell_type": "code",
      "source": [
        "#a = np.array(1, 2, 3, 4)     # TypeError\n",
        "a = np.array([1, 2, 3, 4])   # CORRETO!"
      ],
      "metadata": {
        "id": "m84CUTVD-vfh"
      },
      "execution_count": null,
      "outputs": []
    },
    {
      "cell_type": "markdown",
      "source": [
        "`np.array` transforma sequência de sequências em matrizes bidimensionais, sequências de sequências de sequências em matrizes tridimensionais, etc."
      ],
      "metadata": {
        "id": "6VdCG1kf-8h_"
      }
    },
    {
      "cell_type": "code",
      "source": [
        "b = np.array([(1.5, 2, 3), (4, 5, 6)])\n",
        "b"
      ],
      "metadata": {
        "id": "VOIOEMgR_HgJ"
      },
      "execution_count": null,
      "outputs": []
    },
    {
      "cell_type": "markdown",
      "source": [
        "O tipo da matriz pode ser especificado explicitamente na criação:"
      ],
      "metadata": {
        "id": "XDj8yo49_Htv"
      }
    },
    {
      "cell_type": "code",
      "source": [
        "c = np.array([[1, 2], [3, 4]], dtype= complex)\n",
        "c"
      ],
      "metadata": {
        "id": "EuDnS1PV_pHx"
      },
      "execution_count": null,
      "outputs": []
    },
    {
      "cell_type": "markdown",
      "source": [
        "Frequentemente, os elementos de uma matriz são originalmente desconhecidos, mas seu tamanho é conhecido. Entretanto, NumPy oferece várias funções para criar matrizes com valores coringa. Isto minimiza a necessidade de expandir matrizes, uma operação intensiva computacionalmente.\n",
        "\n",
        "A função `zeros()` cria uma matriz de `0`s, a função `ones()` cria uma matriz de `1`s, e a função `empty()` cria uma matriz cujo conteúdo inicial é o conteúdo presente na memória. Por padrão o `dtype` da matriz criada é `float64`, mas pode ser especificado pelo argumento `dtype`."
      ],
      "metadata": {
        "id": "jyeoSHIv_pYv"
      }
    },
    {
      "cell_type": "code",
      "source": [
        "np.zeros((3, 4))    # Cria uma matriz 3 por 4 com todos os elementos iguais a 0."
      ],
      "metadata": {
        "id": "S_TgV2pCAR9h"
      },
      "execution_count": null,
      "outputs": []
    },
    {
      "cell_type": "code",
      "source": [
        "np.ones((2, 3, 4), dtype= np.int16)    # Cria uma matriz 2 por 3 por 4 com todos os elementos iguais a 1."
      ],
      "metadata": {
        "id": "KUba37wxAVjg"
      },
      "execution_count": null,
      "outputs": []
    },
    {
      "cell_type": "code",
      "source": [
        "np.empty((2, 3))    # Cria uma matriz 2 por 3 sem inicializar os elementos."
      ],
      "metadata": {
        "id": "1CewcvTSAVRo"
      },
      "execution_count": null,
      "outputs": []
    },
    {
      "cell_type": "markdown",
      "source": [
        "Para criar sequências de números o NumPy fornece a função `arange()` que é análoga à função `range()` do Python mas que retorna uma matriz."
      ],
      "metadata": {
        "id": "MtyUAHxRASXg"
      }
    },
    {
      "cell_type": "code",
      "source": [
        "np.arange(10, 30, 5)    # Cria um vetor com elementos de 10 a 30 com passo 5."
      ],
      "metadata": {
        "id": "UdhLYhTrA4-A"
      },
      "execution_count": null,
      "outputs": []
    },
    {
      "cell_type": "code",
      "source": [
        "np.arange(0, 2, .3)    # Cria um vetor com elementos de 0 a 2 com passo 0.3."
      ],
      "metadata": {
        "id": "FwmCZbZiA_J3"
      },
      "execution_count": null,
      "outputs": []
    },
    {
      "cell_type": "markdown",
      "source": [
        "Ao usar `arange()` com números não inteiros pode não ser possível predizer a quantidade de elementos obtidos devido à precisão do ponto flutuante. Melhor usar `linspace()` passando o número de elementos:"
      ],
      "metadata": {
        "id": "82TN58SYA5Mn"
      }
    },
    {
      "cell_type": "code",
      "source": [
        "from numpy import pi\n",
        "x = np.linspace(0, 2 * pi, 100)  # Cria um vetor com 100 elementos entre 0 e 2pi.\n",
        "f = np.sin(x)                    # Aplica a função seno a cada elemento do vetor."
      ],
      "metadata": {
        "id": "_NYUTBMSBUk5"
      },
      "execution_count": null,
      "outputs": []
    },
    {
      "cell_type": "markdown",
      "source": [
        "O NumPy exibe a matriz de forma similar à listas aninhadas com o seguinte layout:\n",
        "\n",
        "- O último eixo é exibido da esquerda para a direita;\n",
        "\n",
        "- O penúltimo eixo é exibido de cima para baixo;\n",
        "\n",
        "- Os demais eixos são exibidos de cima para baixo separados por uma linha em branco;\n",
        "\n",
        "Vetores (unidimensional) são exibidos como vetorlinhas, matrizes bidimensionais como matrizes e matrizes tridimensionais como lista de matrizes."
      ],
      "metadata": {
        "id": "UnAroZ92BU3A"
      }
    },
    {
      "cell_type": "code",
      "source": [
        "a = np.arange(6)    # Cria um vetor com 6 elementos de 0 a 5.\n",
        "print(a)"
      ],
      "metadata": {
        "id": "qlldY-1eB3Yx"
      },
      "execution_count": null,
      "outputs": []
    },
    {
      "cell_type": "code",
      "source": [
        "b = np.arange(12).reshape(4, 3)    # Cria uma matriz 4 por 3.\n",
        "print(b)"
      ],
      "metadata": {
        "id": "YEf7325YB5f_"
      },
      "execution_count": null,
      "outputs": []
    },
    {
      "cell_type": "code",
      "source": [
        "c = np.arange(24).reshape(2, 3, 4)  # Cria uma matriz 2 por 3 por 4.\n",
        "print(c)"
      ],
      "metadata": {
        "id": "QOvffrdMB6VH"
      },
      "execution_count": null,
      "outputs": []
    },
    {
      "cell_type": "markdown",
      "source": [
        "Se a matriz é muito grande o NumPy automaticamente omite a parte central da matriz:"
      ],
      "metadata": {
        "id": "i9I0NDwJB3pA"
      }
    },
    {
      "cell_type": "code",
      "source": [
        "print(np.arange(10000))"
      ],
      "metadata": {
        "id": "YQgXgUeUCV2w"
      },
      "execution_count": null,
      "outputs": []
    },
    {
      "cell_type": "code",
      "source": [
        "print(np.arange(10000).reshape(100, 100))"
      ],
      "metadata": {
        "id": "p8cvmrIyCb3_"
      },
      "execution_count": null,
      "outputs": []
    },
    {
      "cell_type": "markdown",
      "source": [
        "Para disabilitar, mude a opção usando:\n",
        "\n",
        "```python\n",
        "np.set_printoptions(threshold= sys.maxsize)\n",
        "```"
      ],
      "metadata": {
        "id": "DCc5iGzQCWFf"
      }
    },
    {
      "cell_type": "markdown",
      "source": [
        "## Exercício 1\n",
        "\n",
        "a) Crie um array de zeros com forma 3x3.\n",
        "\n",
        "b) Crie um array com números de 1 a 20, com passo de 3.\n"
      ],
      "metadata": {
        "id": "gxA0rbWh4cUi"
      }
    },
    {
      "cell_type": "markdown",
      "source": [
        "## Operações básicas"
      ],
      "metadata": {
        "id": "OPcT67OACqKP"
      }
    },
    {
      "cell_type": "markdown",
      "source": [
        "Operadores aritméticos são aplicados em cada elemento. Uma nova matriz com o resultado é criada."
      ],
      "metadata": {
        "id": "08EEy92DCq1X"
      }
    },
    {
      "cell_type": "code",
      "source": [
        "a = np.array([2, 5, 4, 0])    # Cria um vetor com os vetores passados.\n",
        "b = np.arange(4)              # Cria um vetor com os valores 0, 1, 2, 3.\n",
        "\n",
        "print(a, \"\\n\")                # Exibe o vetor a.\n",
        "print(a+2, \"\\n\")              # Adição elemento a elemento.\n",
        "print(a+b, \"\\n\")              # Adição elemento a elemento.\n",
        "print(a-b, \"\\n\")              # Subtração elemento a elemento.\n",
        "print(b**2, \"\\n\")             # Exibe o vetor com os quadrados dos elementos de b.\n",
        "print(10 * np.sin(a), \"\\n\")   # Calcula 10 vezes seno dos elementos do vetor a.\n",
        "print(a < 3, \"\\n\")            # Retorna um vetor booleano com True para cada elemento menor que 35."
      ],
      "metadata": {
        "id": "4WondI1UDNc4"
      },
      "execution_count": null,
      "outputs": []
    },
    {
      "cell_type": "markdown",
      "source": [
        "O operador produto `*` opera elemento-a-elemento. O produto matricial é feito com `@` (Python >=3.5) ou com `dot()`:"
      ],
      "metadata": {
        "id": "y_J3g0HbDNsY"
      }
    },
    {
      "cell_type": "code",
      "source": [
        "A = np.array([[1, 1], [0, 1]])\n",
        "B = np.array([[2, 0], [3, 4]])\n",
        "\n",
        "print(A * B, \"\\n\")       # Produto elemento a elemento\n",
        "print(A @ B, \"\\n\")       # Produto matricial\n",
        "print(A.dot(B), \"\\n\")    # Produto matricial"
      ],
      "metadata": {
        "id": "IWc_-piADswn"
      },
      "execution_count": null,
      "outputs": []
    },
    {
      "cell_type": "markdown",
      "source": [
        "Algumas operações como `+=` e `*=` modifica uma matriz existente ao invés de criar uma nova."
      ],
      "metadata": {
        "id": "WwFNFARyDtBH"
      }
    },
    {
      "cell_type": "code",
      "source": [
        "A = np.array([[1, 1], [0, 1]])\n",
        "B = np.array([[2, 0], [3, 4]])\n",
        "\n",
        "A *= 3\n",
        "print(A, \"\\n\")\n",
        "\n",
        "B += A\n",
        "print(B, \"\\n\")\n"
      ],
      "metadata": {
        "id": "vJSfhI3FEZQ4"
      },
      "execution_count": null,
      "outputs": []
    },
    {
      "cell_type": "markdown",
      "source": [
        "Muitas operações são implementadas como métodos da classe `ndarray`."
      ],
      "metadata": {
        "id": "_7GmMiSuFTln"
      }
    },
    {
      "cell_type": "code",
      "source": [
        "A = np.array([[1, 1], [0, 1]])\n",
        "print(A)\n",
        "print(\"\\n\")\n",
        "print(A.sum())    # Exibe a soma dos elementos.\n",
        "print(A.min())    # Exibe o menor elemento.\n",
        "print(A.max())    # Exibe o maior elemento.\n",
        "print(A.mean())   # Exibe a média dos elementos.\n",
        "print(A.std())    # Exibe o desvio padrão dos elementos."
      ],
      "metadata": {
        "id": "_UElF5P4GBIB"
      },
      "execution_count": null,
      "outputs": []
    },
    {
      "cell_type": "markdown",
      "source": [
        "Por padrão, estas operações tratam a matriz como uma lista de números. No entanto, é possível especificar o eixos para aplicar a operação:"
      ],
      "metadata": {
        "id": "4m5TpZdNGBpf"
      }
    },
    {
      "cell_type": "code",
      "source": [
        "B = np.arange(12).reshape(3, 4)\n",
        "print( B, \"\\n\" )\n",
        "\n",
        "print( B.sum(axis= 0), \"\\n\" )      # soma de cada coluna\n",
        "print( B.min(axis= 1), \"\\n\" )      # mínimo de cada linha\n",
        "print( B.cumsum(axis= 1), \"\\n\" )   # soma cumulativa em cada linha"
      ],
      "metadata": {
        "id": "OcyUXKBeGlhH"
      },
      "execution_count": null,
      "outputs": []
    },
    {
      "cell_type": "markdown",
      "source": [
        "## Exercício 2\n",
        "\n",
        "* Crie um array com os valores `[10, 20, 30, 40, 50]`.\n",
        "* Subtraia `5` de cada elemento e, em seguida, eleve ao quadrado cada valor."
      ],
      "metadata": {
        "id": "y7zcg8589Eqj"
      }
    },
    {
      "cell_type": "markdown",
      "source": [
        "## Funções universais"
      ],
      "metadata": {
        "id": "p6DNmB2Xqmtd"
      }
    },
    {
      "cell_type": "markdown",
      "source": [
        "Funções matemáticas como `sin()`, `cos()` e `exp()`, chamadas de *funções universais* (`ufunc`), operam emento-a-elemento."
      ],
      "metadata": {
        "id": "-hgjmFqTGlwv"
      }
    },
    {
      "cell_type": "code",
      "source": [
        "B = np.arange(3)               # Cria um vetor com 3 elementos.\n",
        "print(np.exp(B))               # Exibe o exponencial de cada elemento de B.\n",
        "print(np.sqrt(B))              # Exibe a raiz quadrada de cada elemento de B.\n",
        "C = np.array([2., -1., 4.])    # Cria um vetor com 3 elementos.\n",
        "print(np.add(B, C))            # Exibe a soma entre os vetores B e C."
      ],
      "metadata": {
        "id": "i0IPkDElHT0n"
      },
      "execution_count": null,
      "outputs": []
    },
    {
      "cell_type": "markdown",
      "source": [
        "## Indexação, fatiamento e iteração"
      ],
      "metadata": {
        "id": "giZJn49PumjF"
      }
    },
    {
      "cell_type": "markdown",
      "source": [
        "Vetores unidimensionais podem ser indexados, fatiados e iterados como se fosse uma lista."
      ],
      "metadata": {
        "id": "nL5ijMJAHUCW"
      }
    },
    {
      "cell_type": "code",
      "source": [
        "a = np.arange(10)**3        # Gera um vetor dos cubos de 0 a 9.\n",
        "print(a, \"\\n\")              # Exibe o vetor 'a'.\n",
        "print(a[2], \"\\n\")           # Exibe o terceiro elemento do vetor 'a'.\n",
        "print(a[2:5], \"\\n\")         # Exibe os elementos nas posições 2, 3, 4.\n",
        "a[:6:2] = 1000              # Substitui os elementos nas posições 0, 2, 4 e 6 por 1000.\n",
        "print(a, \"\\n\")              # Exibe o vetor 'a'.\n",
        "print(a[::-1], \"\\n\")        # Exibe o vetor 'a' invertido.\n",
        "\n",
        "# Exibe as raízes cúbicas dos elementos de 'a'.\n",
        "for i in a:\n",
        "  resultado = i**(1 / 3)\n",
        "  print(f\"{resultado:.3f}\")\n"
      ],
      "metadata": {
        "id": "tquGxVYEHy6H"
      },
      "execution_count": null,
      "outputs": []
    },
    {
      "cell_type": "markdown",
      "source": [
        "Matrizes multidimensionais tem `1` índice por eixo:"
      ],
      "metadata": {
        "id": "QLNFLuujHzJO"
      }
    },
    {
      "cell_type": "code",
      "source": [
        "b = np.array([[1, 2, 3], [4, 5, 6], [7, 8, 9]])\n",
        "\n",
        "print( b,\"\\n\")\n",
        "\n",
        "print(\"Primeira linha:\", b[0, :], \"\\n\")\n",
        "\n",
        "print(\"Elemento (2,3):\", b[1, 2], \"\\n\")\n",
        "\n",
        "print(b[:, 1], \"\\n\")      # todas as linhas e 2a coluna\n",
        "\n",
        "print(b[:2, 1], \"\\n\")     # 1a e 2a linhas e 2a coluna.\n",
        "\n",
        "print(b[1:, 2], \"\\n\")     # 2a e 3a linhas e 3a coluna.\n",
        "\n",
        "print(b[1:3, :])          # 2a e 3a linhas e todas as colunas."
      ],
      "metadata": {
        "id": "wgx0DjMUIU-5"
      },
      "execution_count": null,
      "outputs": []
    },
    {
      "cell_type": "markdown",
      "source": [
        "Se forem passados menos índices que o número de eixos, todos os demais estarão completos:"
      ],
      "metadata": {
        "id": "0AWgAv41IVPf"
      }
    },
    {
      "cell_type": "code",
      "source": [
        "b[-1]     # A última linha. Equivale a b[-1, :]"
      ],
      "metadata": {
        "id": "JLsv4a2DI-Yw"
      },
      "execution_count": null,
      "outputs": []
    },
    {
      "cell_type": "markdown",
      "source": [
        "## Exercício 3\n",
        "\n",
        "* Crie um array 3x3 com valores de 1 a 9.\n",
        "* Extraia a segunda linha e o último elemento da primeira linha.\n"
      ],
      "metadata": {
        "id": "AX-QsGU4HRmm"
      }
    },
    {
      "cell_type": "markdown",
      "source": [
        "## Empilhamento e Desmembramento"
      ],
      "metadata": {
        "id": "A3m2Ce1b32HW"
      }
    },
    {
      "cell_type": "markdown",
      "source": [
        "Várias matrizes podem ser empilhadas em diferentes eixos:"
      ],
      "metadata": {
        "id": "xiogCceYNAZG"
      }
    },
    {
      "cell_type": "code",
      "source": [
        "a = np.zeros((3,3))\n",
        "b = np.ones((3,3))\n",
        "\n",
        "print(a, \"\\n\")                   # Exibe a matriz 'a'.\n",
        "print(b, \"\\n\")                   # Exibe a matriz 'b'.\n",
        "\n",
        "print(np.vstack((a, b)), \"\\n\")   # Empilha 'a' e 'b' na vertical.\n",
        "print(np.hstack((a, b)), \"\\n\")   # Empilha 'a' e 'b' na horizontal."
      ],
      "metadata": {
        "id": "z_mZqlj3NMLO"
      },
      "execution_count": null,
      "outputs": []
    },
    {
      "cell_type": "markdown",
      "source": [
        "`hsplit()` permite desmembrar no eixo horizontal:"
      ],
      "metadata": {
        "id": "zY-wcIPoPniI"
      }
    },
    {
      "cell_type": "code",
      "source": [
        "a = np.arange(18).reshape(3, 6)\n",
        "print(a, \"\\n\")\n",
        "\n",
        "# Desmembra 'a' por colunas em 3 partes iguais\n",
        "parte1, parte2, parte3 = np.hsplit( a, 3)\n",
        "print(\"Parte 1:\\n\", parte1)\n",
        "print(\"Parte 2:\\n\", parte2)\n",
        "print(\"Parte 3:\\n\", parte3)\n",
        "\n",
        "\n",
        "# Dividindo após a 2ª e a 3ª colunas\n",
        "print(\"\\n\")\n",
        "parte1, parte2, parte3 = np.hsplit(a, [1, 4])\n",
        "\n",
        "print(\"Parte 1:\\n\", parte1)\n",
        "print(\"Parte 2:\\n\", parte2)\n",
        "print(\"Parte 3:\\n\", parte3)"
      ],
      "metadata": {
        "id": "kTPHDOAIPuAf"
      },
      "execution_count": null,
      "outputs": []
    },
    {
      "cell_type": "markdown",
      "source": [
        "`vsplit()` desmembra na vertical e `array_split()` permite escolher o eixo."
      ],
      "metadata": {
        "id": "lHJ5S7X-PuMf"
      }
    },
    {
      "cell_type": "markdown",
      "source": [
        "## Exercício 4\n",
        "\n",
        "1. Crie dois arrays 1D, `a` e `b`, com valores de 1 a 5 e de 6 a 10, respectivamente.\n",
        "1. Empilhe `a` e `b` verticalmente para formar um array 2D.\n",
        "1. Em seguida, empilhe `a` e `b` horizontalmente para formar um array 1x10.\n",
        "\n",
        "Dica: Use np.vstack() para empilhamento vertical e np.hstack() para empilhamento horizontal."
      ],
      "metadata": {
        "id": "51J12pDOF2tT"
      }
    },
    {
      "cell_type": "markdown",
      "source": [
        "## Cópias e visualizações"
      ],
      "metadata": {
        "id": "HXMKSvne4hG5"
      }
    },
    {
      "cell_type": "markdown",
      "source": [
        "Algumas operações copiam a matriz outras não. Atribuições não fazem cópias de objetos ou dados.\n",
        "\n",
        "Veja os exemplos."
      ],
      "metadata": {
        "id": "G65uhbIHQNIP"
      }
    },
    {
      "cell_type": "code",
      "source": [
        "import numpy as np\n",
        "\n",
        "A = np.zeros((3,3))\n",
        "\n",
        "B = A          ## atribuição não é cópia\n",
        "\n",
        "A[:,1] = 100   ## note que ao alterar \"A\" a matriz \"B\" também será alterada\n",
        "\n",
        "print(\"A = \")\n",
        "print(A)\n",
        "\n",
        "print(\"\\nB = \")\n",
        "print(B)\n",
        "\n",
        "print(\"\\nA e B são o mesmo objeto?\")\n",
        "print(B is A)\n",
        "\n",
        "print(f\"\\nid(A): {id(A)}, id(B): {id(B)}\") ## A e B possuem o mesmo id"
      ],
      "metadata": {
        "id": "XQmeINJ7tpd_"
      },
      "execution_count": null,
      "outputs": []
    },
    {
      "cell_type": "code",
      "source": [
        "## No entanto, pode-se gerar uma cópia\n",
        "import numpy as np\n",
        "\n",
        "A = np.zeros((3,3))\n",
        "\n",
        "B = A.copy()    ## atribuição não é cópia\n",
        "\n",
        "A[:,1] = 100    ## note que ao alterar \"A\", a matriz \"B\" ainda será a mesma.\n",
        "\n",
        "print(\"A = \")\n",
        "print(A)\n",
        "\n",
        "print(\"\\nB = \")\n",
        "print(B)\n",
        "\n",
        "print(\"\\nA e B são o mesmo objeto?\")\n",
        "print(B is A)\n",
        "\n",
        "\n",
        "print(f\"\\nid(A): {id(A)}, id(B): {id(B)}\") ## A e B possuem id's diferentes"
      ],
      "metadata": {
        "id": "cjpdbROrxB2c"
      },
      "execution_count": null,
      "outputs": []
    },
    {
      "cell_type": "markdown",
      "source": [
        "O Python passa objetos mutáveis por referência, assim, chamada de função não faz cópia."
      ],
      "metadata": {
        "id": "6UiNZTlAQaLe"
      }
    },
    {
      "cell_type": "code",
      "source": [
        "def f(x):\n",
        "  return id(x)\n",
        "\n",
        "a = np.zeros((3,3))\n",
        "\n",
        "print(id(a))    # ID é o identificador único do objeto\n",
        "print(f(a))     # mesmo ID\n"
      ],
      "metadata": {
        "id": "OsJSuMcQRLBn"
      },
      "execution_count": null,
      "outputs": []
    },
    {
      "cell_type": "markdown",
      "source": [
        "Ou seja, se o objeto for alterado dentro da função, então ele será alterado também fora da função."
      ],
      "metadata": {
        "id": "1O8AzwXyzxGf"
      }
    },
    {
      "cell_type": "code",
      "source": [
        "def f(x):\n",
        "  x[:, 1] = 100\n",
        "  return;\n",
        "\n",
        "A = np.zeros((3,3))\n",
        "f(A)\n",
        "print(A)     # \"A\" foi modificada dentro da função"
      ],
      "metadata": {
        "id": "HCvyaj0Kz9Bg"
      },
      "execution_count": null,
      "outputs": []
    },
    {
      "cell_type": "markdown",
      "source": [
        "Para evitar este possível problema, pode-se passar um cópia."
      ],
      "metadata": {
        "id": "ccn2kgxK0uoA"
      }
    },
    {
      "cell_type": "code",
      "source": [
        "def f(x):\n",
        "  x[:, 1] = 100\n",
        "  return;\n",
        "\n",
        "A = np.zeros((3,3))\n",
        "\n",
        "f( A.copy() )  # A cópia de \"A\" é passada para a função\n",
        "\n",
        "print(A)       # A matriz \"A\" continua a mesma"
      ],
      "metadata": {
        "id": "REXGwGo_00OR"
      },
      "execution_count": null,
      "outputs": []
    },
    {
      "cell_type": "markdown",
      "source": [
        "Diferentes matrizes podem compartilhar o mesmo dado. O método `view` cria uma visualização da matriz."
      ],
      "metadata": {
        "id": "ZKnIy3FMRLM2"
      }
    },
    {
      "cell_type": "code",
      "source": [
        "import numpy as np\n",
        "\n",
        "a = np.arange(12).reshape(3, 4)\n",
        "print(a, \"\\n\")\n",
        "\n",
        "c = a.view()\n",
        "\n",
        "print(c is a, \"\\n\")      ## \"c\" é uma visualização de \"a\"\n",
        "\n",
        "c = c.reshape((2, 6))    ## Não muda a dimensão de 'a'\n",
        "print(a.shape, \"\\n\")\n",
        "\n",
        "c[0, 4] = 100            ## Muda os dados em 'a'\n",
        "print(a)"
      ],
      "metadata": {
        "id": "V5J0F-A4RpgO"
      },
      "execution_count": null,
      "outputs": []
    },
    {
      "cell_type": "markdown",
      "source": [
        "Fatiar uma matriz retorna uma visualização:"
      ],
      "metadata": {
        "id": "HI9rtZm3RptG"
      }
    },
    {
      "cell_type": "code",
      "source": [
        "import numpy as np\n",
        "\n",
        "a = np.arange(12).reshape(3, 4)\n",
        "\n",
        "print(\"a:\\n\",a,\"\\n\")\n",
        "\n",
        "s = a[:, 1:3]          # \"s\" é uma visualização de uma parte de \"a\".\n",
        "print(\"s:\\n\",s,\"\\n\")\n",
        "\n",
        "print(s is a, \"\\n\")\n",
        "\n",
        "s[:] = 10              # s[:] é uma visualização de 's'.\n",
        "print(\"s:\\n\",s,\"\\n\")\n",
        "\n",
        "print(\"a:\\n\",a,\"\\n\")   # ao alterar \"s\", o objeto \"a\" também foi alterado."
      ],
      "metadata": {
        "id": "Jt9kZGJBSMno"
      },
      "execution_count": null,
      "outputs": []
    },
    {
      "cell_type": "markdown",
      "source": [
        "## Exercício 5\n",
        "\n",
        "1. Crie uma matriz A de tamanho 4x3 de zeros.\n",
        "1. Faça `B=A` e `C=A.copy()`.\n",
        "1. Verifique se `B` e `C` são os mesmos objetos utilizando `is`.\n",
        "1. Mostre os id's de `A`, `B` e `C`.\n",
        "1. Altere um elemento de `A` e veja o que acontece com `B` e com `C`."
      ],
      "metadata": {
        "id": "V_lm3i7TG9nn"
      }
    },
    {
      "cell_type": "markdown",
      "source": [
        "# Introdução ao Pandas"
      ],
      "metadata": {
        "id": "9AL8Xv2r47Sa"
      }
    },
    {
      "cell_type": "markdown",
      "source": [
        "A biblioteca **Pandas** é uma das ferramentas mais populares para manipulação e análise de dados em Python. Projetada para lidar com grandes volumes de dados de forma eficiente, ela oferece estruturas flexíveis, como Series e DataFrames, que permitem armazenar, organizar e manipular dados tabulares com facilidade.\n",
        "\n",
        "Possui uma ampla gama de funcionalidades, como leitura e escrita de arquivos (CSV, Excel, SQL, entre outros), limpeza e tratamento de dados, e suporte para operações de agrupamento e agregação.\n",
        "\n",
        "O Pandas é amplamente utilizado em tarefas que vão desde a análise exploratória de dados até a preparação de conjuntos de dados para modelagem e aprendizado de máquina.\n",
        "\n",
        "* O conteúdo  deste tutorial foi baseado em [10 minutes to pandas](https://pandas.pydata.org/docs/user_guide/10min.html#min). Esta introdução ao **Pandas** mostra as principais funcionalidades da biblioteca. Para mais detalhes sugere-se consultar o [Cookbook](https://pandas.pydata.org/docs/user_guide/cookbook.html#cookbook)."
      ],
      "metadata": {
        "id": "Y__3E66FL0AG"
      }
    },
    {
      "cell_type": "markdown",
      "source": [
        "## Importando a biblioteca"
      ],
      "metadata": {
        "id": "zScckBrY4_S5"
      }
    },
    {
      "cell_type": "markdown",
      "source": [
        "O **Pandas** funciona em conjunto com o **NumPy**. Assim, para utilizar a biblioteca, em geral, se importa:"
      ],
      "metadata": {
        "id": "SiKpoNnl5D1r"
      }
    },
    {
      "cell_type": "code",
      "execution_count": null,
      "metadata": {
        "id": "Kx_d4AYSLzE-"
      },
      "outputs": [],
      "source": [
        "import numpy as np\n",
        "import pandas as pd"
      ]
    },
    {
      "cell_type": "markdown",
      "source": [
        "## Estrutura de dados no Pandas"
      ],
      "metadata": {
        "id": "G7r8T4ay5ctM"
      }
    },
    {
      "cell_type": "markdown",
      "source": [
        "A biblioteca Pandas define 2 tipos de estrutura de dados:\n",
        "\n",
        "- `Series`: um vetor unidimensional nomeado que armazena dados de qualquer tipo tais como inteiros, strings, objetos do Python, etc.\n",
        "\n",
        "- `DataFrame`: uma estrutura de dados bidimensional que armazena dados como uma planilha, em que cada coluna é uma série (Series). É o equivalente ao `data.frame` na linguagem [R](https://www.r-project.org/).\n",
        "\n",
        "\n",
        "Uma **série** pode ser criada passando uma lista de valores:"
      ],
      "metadata": {
        "id": "WALJXKrPMyDt"
      }
    },
    {
      "cell_type": "markdown",
      "source": [
        "## Criação de objetos"
      ],
      "metadata": {
        "id": "Yp0qErTmTx5G"
      }
    },
    {
      "cell_type": "markdown",
      "source": [
        "Uma **série** no Pandas pode ser criada com o método `pandas.Series()`."
      ],
      "metadata": {
        "id": "IDUqjXM9QjIk"
      }
    },
    {
      "cell_type": "code",
      "source": [
        "s = pd.Series([1, 3, 5, np.nan, 6, 8])\n",
        "print(type(s))\n",
        "print(s)"
      ],
      "metadata": {
        "id": "5UA5xYkpOf5m"
      },
      "execution_count": null,
      "outputs": []
    },
    {
      "cell_type": "markdown",
      "source": [
        "Um **DataFrame** pode ser criado com um índice no formato de data e os dados passados como uma matriz **NumPy**:"
      ],
      "metadata": {
        "id": "keNdIXmZOgfN"
      }
    },
    {
      "cell_type": "code",
      "source": [
        "# Cria um 'Series' com uma sequência de datas\n",
        "datas = pd.date_range(\"20190101\", periods=6)\n",
        "datas"
      ],
      "metadata": {
        "id": "ngbln24cQPne"
      },
      "execution_count": null,
      "outputs": []
    },
    {
      "cell_type": "code",
      "source": [
        "# Cria um 'DataFrame' indexado pelas datas acima, com valores aleatórios...\n",
        "df = pd.DataFrame(np.random.randn(6, 4), index=datas, columns=list(\"ABCD\"))\n",
        "df"
      ],
      "metadata": {
        "id": "kN2juKeFQtXl"
      },
      "execution_count": null,
      "outputs": []
    },
    {
      "cell_type": "markdown",
      "source": [
        "É possível criar um **DataFrame** passando um dicionário de objetos em que as *chaves* são os nomes das colunas e os *valores* os dados."
      ],
      "metadata": {
        "id": "npTArlwxQQhN"
      }
    },
    {
      "cell_type": "code",
      "source": [
        "df2 = pd.DataFrame(\n",
        "    {\n",
        "        \"A\": 1.0,\n",
        "        \"B\": pd.Timestamp(\"20190102\"),\n",
        "        \"C\": pd.Series(1, index=list(range(4)), dtype=\"float32\"),\n",
        "        \"D\": np.array([3] * 4, dtype=\"int32\"),\n",
        "        \"E\": pd.Categorical([\"teste\", \"treino\", \"teste\", \"treino\"]),\n",
        "        \"F\": \"foo\",\n",
        "    }\n",
        ")\n",
        "\n",
        "df2"
      ],
      "metadata": {
        "id": "WamCOGv9R6EN"
      },
      "execution_count": null,
      "outputs": []
    },
    {
      "cell_type": "markdown",
      "source": [
        "As colunas do **DataFrame** resultante podem possuir diferentes tipos:"
      ],
      "metadata": {
        "id": "CX_P-Gm1R6ts"
      }
    },
    {
      "cell_type": "code",
      "source": [
        "print(df2)\n",
        "\n",
        "df2.dtypes"
      ],
      "metadata": {
        "id": "WFBeUdUxSuN1"
      },
      "execution_count": null,
      "outputs": []
    },
    {
      "cell_type": "markdown",
      "source": [
        "Também é possível criar `DataFrame` passando um listas de objetos como colunas:"
      ],
      "metadata": {
        "id": "-WgT2dB9Wwxd"
      }
    },
    {
      "cell_type": "code",
      "source": [
        "import pandas as pd\n",
        "\n",
        "# Vetores como listas\n",
        "nomes = [\"Ana\", \"Bruno\", \"Clara\", \"Diego\"]\n",
        "idades = [23, 35, 29, 40]\n",
        "cidades = [\"São Paulo\", \"Rio de Janeiro\", \"Belo Horizonte\", \"Curitiba\"]\n",
        "\n",
        "# Criar o DataFrame combinando os vetores por colunas\n",
        "df = pd.DataFrame({\n",
        "    \"Nome\": nomes,\n",
        "    \"Idade\": idades,\n",
        "    \"Cidade\": cidades\n",
        "})\n",
        "\n",
        "print(df)\n"
      ],
      "metadata": {
        "id": "RuwaHH3eWv3i"
      },
      "execution_count": null,
      "outputs": []
    },
    {
      "cell_type": "markdown",
      "source": [
        "e também podemos criar passando vetores como linhas:"
      ],
      "metadata": {
        "id": "hEJoUVidXurM"
      }
    },
    {
      "cell_type": "code",
      "source": [
        "import pandas as pd\n",
        "\n",
        "# Dados como vetores (linhas)\n",
        "linha1 = [\"Ana\", 23, \"São Paulo\"]\n",
        "linha2 = [\"Bruno\", 35, \"Rio de Janeiro\"]\n",
        "linha3 = [\"Clara\", 29, \"Belo Horizonte\"]\n",
        "\n",
        "# Criar o DataFrame\n",
        "df = pd.DataFrame(\n",
        "    [linha1, linha2, linha3],            # Passar as linhas\n",
        "    columns=[\"Nome\", \"Idade\", \"Cidade\"]  # Nomear as colunas\n",
        ")\n",
        "\n",
        "print(df)\n"
      ],
      "metadata": {
        "id": "NKxCZBd1X1QL"
      },
      "execution_count": null,
      "outputs": []
    },
    {
      "cell_type": "markdown",
      "source": [
        "## Exercício 1:\n",
        "\n",
        "Crie um vetor do tipo `Series` com:\n",
        "* as seguintes datas com indices: \"2023-01-01\", \"2023-03-15\", \"2023-07-20\", \"2023-12-25\".\n",
        "  * dica: utilize `pd.to_datetime([\"2023-01-01\", \"2023-03-15\", \"2023-07-20\", \"2023-12-25\"])`\n",
        "* os seguintes valores:  100, 200, 300, 400\n",
        "\n"
      ],
      "metadata": {
        "id": "_oC666gsVYyg"
      }
    },
    {
      "cell_type": "markdown",
      "source": [
        "## Exercício 2\n",
        "\n",
        "Crie um `DataFrame` com 3 colunas chamadas `[\"Número\", \"Quadrado\", \"Cubo\"]`. Preencha com os números de 1 a 10 na coluna `Número`, e nas colunas `Quadrado` e `Cubo`, insira os valores correspondentes ao quadrado e ao cubo de cada número.\n"
      ],
      "metadata": {
        "id": "3XyUKoNZaXQn"
      }
    },
    {
      "cell_type": "markdown",
      "source": [
        "## Visualizando os dados"
      ],
      "metadata": {
        "id": "urziTWczQxgB"
      }
    },
    {
      "cell_type": "markdown",
      "source": [
        "Use `DataFrame.head()` e `DataFrame.tail()` para visualizar as linhas iniciais e finais do *data frame*:"
      ],
      "metadata": {
        "id": "4lKW1-ThSu9E"
      }
    },
    {
      "cell_type": "code",
      "source": [
        "datas = pd.date_range(\"20190101\", periods=6)\n",
        "\n",
        "df = pd.DataFrame(np.random.randn(6, 4), index=datas, columns=list(\"ABCD\"))\n",
        "print(\"df:\\n\", df)\n",
        "\n",
        "print(\"\\ndf.head(3):\")\n",
        "df.head(3)"
      ],
      "metadata": {
        "id": "t16iREG3UYYd"
      },
      "execution_count": null,
      "outputs": []
    },
    {
      "cell_type": "code",
      "source": [
        "df.tail(3)"
      ],
      "metadata": {
        "id": "s5WAtJnjUYpM"
      },
      "execution_count": null,
      "outputs": []
    },
    {
      "cell_type": "markdown",
      "source": [
        "Use `DataFrame.index` e `DataFrame.columns` para exibir, respectivamente, os índices e as colunas:"
      ],
      "metadata": {
        "id": "rBfn-PDEUY7E"
      }
    },
    {
      "cell_type": "code",
      "source": [
        "df.index"
      ],
      "metadata": {
        "id": "CFp1zLTOYCzM"
      },
      "execution_count": null,
      "outputs": []
    },
    {
      "cell_type": "code",
      "source": [
        "df.columns"
      ],
      "metadata": {
        "id": "HH87F9UBYDak"
      },
      "execution_count": null,
      "outputs": []
    },
    {
      "cell_type": "markdown",
      "source": [
        "Retorne uma representação *NumPy* dos dados com `DataFrame.to_numpy()`, descartando os indices e as colunas:"
      ],
      "metadata": {
        "id": "_ctFrSBhYD5s"
      }
    },
    {
      "cell_type": "code",
      "source": [
        "df.to_numpy()"
      ],
      "metadata": {
        "id": "9n-11EQvZy69"
      },
      "execution_count": null,
      "outputs": []
    },
    {
      "cell_type": "markdown",
      "source": [
        "**Nota**: matrizes *NumPy* possuem um único `dtype` enquanto os *data frames* do *Pandas* possuem um `dtype` por coluna. Ao chamar `DataFrame.to_numpy()`, o *Pandas* converterá os tipos de dados para um tipo que comporte todos os tipos de dados."
      ],
      "metadata": {
        "id": "BdUhV-C4Zzsd"
      }
    },
    {
      "cell_type": "code",
      "source": [
        "df2.dtypes"
      ],
      "metadata": {
        "id": "tA8JT0uKbJnM"
      },
      "execution_count": null,
      "outputs": []
    },
    {
      "cell_type": "code",
      "source": [
        "df2.to_numpy()"
      ],
      "metadata": {
        "id": "fJ_YCf8-bKNL"
      },
      "execution_count": null,
      "outputs": []
    },
    {
      "cell_type": "markdown",
      "source": [
        "`describe()` mostra uma breve descrição estatística do conjunto de dados:"
      ],
      "metadata": {
        "id": "d_5tiJpZbKs0"
      }
    },
    {
      "cell_type": "code",
      "source": [
        "df.describe()"
      ],
      "metadata": {
        "id": "OTDi7b5_cOEL"
      },
      "execution_count": null,
      "outputs": []
    },
    {
      "cell_type": "markdown",
      "source": [
        "Transpondo os dados:"
      ],
      "metadata": {
        "id": "THPgwH2qcPvT"
      }
    },
    {
      "cell_type": "code",
      "source": [
        "df.T"
      ],
      "metadata": {
        "id": "TFhNzLXFcvZn"
      },
      "execution_count": null,
      "outputs": []
    },
    {
      "cell_type": "markdown",
      "source": [
        "`DataFrame.sort_index()` ordena os dados com relação a um determinado eixo:"
      ],
      "metadata": {
        "id": "G4jBoTedcwEN"
      }
    },
    {
      "cell_type": "code",
      "source": [
        "df.sort_index(axis=1, ascending=False) # ordenação descendente pelo nome das colunas"
      ],
      "metadata": {
        "id": "ZjbfZBKYd0H0"
      },
      "execution_count": null,
      "outputs": []
    },
    {
      "cell_type": "markdown",
      "source": [
        "`DataFrame.sort_values()` ordena os valores:"
      ],
      "metadata": {
        "id": "eAyY2xBFd0ts"
      }
    },
    {
      "cell_type": "code",
      "source": [
        "df.sort_values(by=\"B\")"
      ],
      "metadata": {
        "id": "dF9jpwb9d1OU"
      },
      "execution_count": null,
      "outputs": []
    },
    {
      "cell_type": "markdown",
      "source": [
        "## Seleção de valores"
      ],
      "metadata": {
        "id": "8PabNIab6lRw"
      }
    },
    {
      "cell_type": "markdown",
      "source": [
        "**Nota:** Enquanto as expressões para seleção e atribuição no NumPy/Python padrão sejam intuitivos, em códigos de produção, é recomendado utilizar os métodos otimizados do *Pandas* para acessar dados `DataFrame.at()`, `DataFrame.iat()`, `DataFrame.loc()` e `DataFrame.iloc()`."
      ],
      "metadata": {
        "id": "e6Pyt3Xvd1vD"
      }
    },
    {
      "cell_type": "markdown",
      "source": [
        "### GetItem ([])"
      ],
      "metadata": {
        "id": "mx3bN5Sz6vTr"
      }
    },
    {
      "cell_type": "markdown",
      "source": [
        "Para um `DataFrame`, ao receber um nome entre colchetes, a coluna correspondente é selecionada."
      ],
      "metadata": {
        "id": "c05ZgT4A6yrl"
      }
    },
    {
      "cell_type": "code",
      "source": [
        "datas = pd.date_range(\"20190101\", periods=6)\n",
        "\n",
        "df = pd.DataFrame(np.random.randn(6, 4), index=datas, columns=list(\"ABCD\"))\n",
        "print(\"df:\\n\", df)\n",
        "\n",
        "\n",
        "df[\"A\"]"
      ],
      "metadata": {
        "id": "bXijGohtnIq5"
      },
      "execution_count": null,
      "outputs": []
    },
    {
      "cell_type": "markdown",
      "source": [
        "Uma forma alternativa de referenciar uma coluna é usando `.`:"
      ],
      "metadata": {
        "id": "WQSJYnomnJGg"
      }
    },
    {
      "cell_type": "code",
      "source": [
        "df.A"
      ],
      "metadata": {
        "id": "9mlo2XBQnJhw"
      },
      "execution_count": null,
      "outputs": []
    },
    {
      "cell_type": "markdown",
      "source": [
        "Em um `DataFrame`, o operador `:` seleciona as linhas correspondentes:"
      ],
      "metadata": {
        "id": "J2PDVukRnJzI"
      }
    },
    {
      "cell_type": "code",
      "source": [
        "df[0:3]"
      ],
      "metadata": {
        "id": "NeOMz_wbpgJQ"
      },
      "execution_count": null,
      "outputs": []
    },
    {
      "cell_type": "markdown",
      "source": [
        "A seleção também funciona para valores dos índices:"
      ],
      "metadata": {
        "id": "SW56qdzr7cGA"
      }
    },
    {
      "cell_type": "code",
      "source": [
        "df[\"20190102\":\"20190104\"]\n",
        "##  neste exemplo,  utilizamos o padrão \"AAAAMMDD\"\n",
        "##  resultados equivalentes são obtidos para os padrões\n",
        "##  \"AAAA-MM-DD\",\"AAAA/MMDD\""
      ],
      "metadata": {
        "id": "6rVZ9Ab5pgXH"
      },
      "execution_count": null,
      "outputs": []
    },
    {
      "cell_type": "markdown",
      "source": [
        "### Seleção por nome\n",
        "\n",
        "Vamos utilizar as funções `DataFrame.loc()` e `DataFrame.at()`."
      ],
      "metadata": {
        "id": "wmmchX3P7g2K"
      }
    },
    {
      "cell_type": "markdown",
      "source": [
        "Selecionando uma linha relativa ao nome:"
      ],
      "metadata": {
        "id": "htBeGFfZpgsn"
      }
    },
    {
      "cell_type": "code",
      "source": [
        "df.loc[datas[0]]"
      ],
      "metadata": {
        "id": "bnw50jhgqo4Q"
      },
      "execution_count": null,
      "outputs": []
    },
    {
      "cell_type": "markdown",
      "source": [
        "Selecionandos todas as linhas (`:`) com a seleção da coluna por nomes:"
      ],
      "metadata": {
        "id": "qzT-OsZdqpLx"
      }
    },
    {
      "cell_type": "code",
      "source": [
        "df.loc[:, [\"A\", \"B\"]]"
      ],
      "metadata": {
        "id": "unbLUEh5rVjg"
      },
      "execution_count": null,
      "outputs": []
    },
    {
      "cell_type": "markdown",
      "source": [
        "Ao selecionar linhas, ambos os limites são incluídos:"
      ],
      "metadata": {
        "id": "Gnhd8GROrWLg"
      }
    },
    {
      "cell_type": "code",
      "source": [
        "df.loc[\"20190102\":\"20190104\", [\"A\", \"B\"]]"
      ],
      "metadata": {
        "id": "dhhvw41Qs6m4"
      },
      "execution_count": null,
      "outputs": []
    },
    {
      "cell_type": "markdown",
      "source": [
        "Ao selecionar uma única linha e coluna, o resultado é um escalar:"
      ],
      "metadata": {
        "id": "b-QlQs0hs7Nf"
      }
    },
    {
      "cell_type": "code",
      "source": [
        "df.loc[datas[0], \"A\"]"
      ],
      "metadata": {
        "id": "20WIYVEOtcRT"
      },
      "execution_count": null,
      "outputs": []
    },
    {
      "cell_type": "markdown",
      "source": [
        "Um método de acesso mais rápido é:"
      ],
      "metadata": {
        "id": "0WiwExBOtdFA"
      }
    },
    {
      "cell_type": "code",
      "source": [
        "df.at[datas[0], \"A\"]\n",
        "\n",
        "## a função Dataframe.at só permite acessar uma celula por vez\n",
        "## df.at[datas[0:2], \"A\"] ## Erro!"
      ],
      "metadata": {
        "id": "D2CSAr6HuaYw"
      },
      "execution_count": null,
      "outputs": []
    },
    {
      "cell_type": "markdown",
      "source": [
        "### Seleção por posição\n",
        "\n",
        "Vamos utilizar as funções `DataFrame.iloc()` e `DataFrame.iat()`."
      ],
      "metadata": {
        "id": "GWjo3c4k7uQD"
      }
    },
    {
      "cell_type": "markdown",
      "source": [
        "A seleção por posição é feita passando valores inteiros:"
      ],
      "metadata": {
        "id": "kJp9N0Qwua7n"
      }
    },
    {
      "cell_type": "code",
      "source": [
        "df.iloc[3]"
      ],
      "metadata": {
        "id": "-Wl4R0Buu0Rf"
      },
      "execution_count": null,
      "outputs": []
    },
    {
      "cell_type": "markdown",
      "source": [
        "Seleção por inteiros age de forma similar no *NumPy*:"
      ],
      "metadata": {
        "id": "k8Lw9QZJu00v"
      }
    },
    {
      "cell_type": "code",
      "source": [
        "df.iloc[3:5, 0:2]\n",
        "\n",
        "## Erro comum: esquecer do .iloc\n",
        "## df[3:5,0:2] ## gera um erro"
      ],
      "metadata": {
        "id": "sw2h0ofcwBPY"
      },
      "execution_count": null,
      "outputs": []
    },
    {
      "cell_type": "markdown",
      "source": [
        "Selecionando por listas de inteiros:"
      ],
      "metadata": {
        "id": "e8CvuT1BwB2G"
      }
    },
    {
      "cell_type": "code",
      "source": [
        "df.iloc[[1, 2, 4], [0, 2]]"
      ],
      "metadata": {
        "id": "i9NsdSBCwyvo"
      },
      "execution_count": null,
      "outputs": []
    },
    {
      "cell_type": "markdown",
      "source": [
        "Selecionando linhas explicitamente:"
      ],
      "metadata": {
        "id": "5rBRYRAKwzTP"
      }
    },
    {
      "cell_type": "code",
      "source": [
        "df.iloc[1:3, :]"
      ],
      "metadata": {
        "id": "_gLpjk5HxJfn"
      },
      "execution_count": null,
      "outputs": []
    },
    {
      "cell_type": "markdown",
      "source": [
        "Selecionando colunas explicitamente:"
      ],
      "metadata": {
        "id": "lis_-BddxKE_"
      }
    },
    {
      "cell_type": "code",
      "source": [
        "df.iloc[:, 1:3]"
      ],
      "metadata": {
        "id": "Th90Xzxwxf_g"
      },
      "execution_count": null,
      "outputs": []
    },
    {
      "cell_type": "markdown",
      "source": [
        "Selecionando os valores explicitamente:"
      ],
      "metadata": {
        "id": "z07UOmnqxgeo"
      }
    },
    {
      "cell_type": "code",
      "source": [
        "df.iloc[1, 1]"
      ],
      "metadata": {
        "id": "QFFkvkqKyGQQ"
      },
      "execution_count": null,
      "outputs": []
    },
    {
      "cell_type": "markdown",
      "source": [
        "Para fazer um acesso rápido usando o escalar:"
      ],
      "metadata": {
        "id": "-loLZh38yGzf"
      }
    },
    {
      "cell_type": "code",
      "source": [
        "df.iat[1, 1]\n",
        "\n",
        "## a função .iat só permite acessar uma celula por vez.\n",
        "## df.iat[0:2, 1] ## Erro."
      ],
      "metadata": {
        "id": "bphh_bZ3yc6X"
      },
      "execution_count": null,
      "outputs": []
    },
    {
      "cell_type": "markdown",
      "source": [
        "### Seleção por valores lógicos"
      ],
      "metadata": {
        "id": "4RN1pF9N78DQ"
      }
    },
    {
      "cell_type": "markdown",
      "source": [
        "Seleção de valores com base em uma coluna:"
      ],
      "metadata": {
        "id": "uoGNYa6fydpn"
      }
    },
    {
      "cell_type": "code",
      "source": [
        "df[df[\"A\"] > 0]"
      ],
      "metadata": {
        "id": "BOjxdheGy7XH"
      },
      "execution_count": null,
      "outputs": []
    },
    {
      "cell_type": "markdown",
      "source": [
        "Selecionando valores de um `DataFrame` que atendem uma determinada condição lógica:"
      ],
      "metadata": {
        "id": "yEFLSLoQy7_3"
      }
    },
    {
      "cell_type": "code",
      "source": [
        "df[df > 0]"
      ],
      "metadata": {
        "id": "kBdAHLxsy8go"
      },
      "execution_count": null,
      "outputs": []
    },
    {
      "cell_type": "markdown",
      "source": [
        "Usando `isin()` para seleção:"
      ],
      "metadata": {
        "id": "Hio40Swey8_-"
      }
    },
    {
      "cell_type": "code",
      "source": [
        "df2 = df.copy()\n",
        "df2[\"E\"] = [\"um\", \"um\", \"dois\", \"três\", \"quatro\", \"três\"]\n",
        "df2"
      ],
      "metadata": {
        "id": "rjgFm5rIz5Yf"
      },
      "execution_count": null,
      "outputs": []
    },
    {
      "cell_type": "code",
      "source": [
        "print( df2[\"E\"].isin([\"dois\", \"quatro\"]) )\n",
        "\n",
        "df2[df2[\"E\"].isin([\"dois\", \"quatro\"])]"
      ],
      "metadata": {
        "id": "X28UREtGz5le"
      },
      "execution_count": null,
      "outputs": []
    },
    {
      "cell_type": "markdown",
      "source": [
        "## Exercício 3\n",
        "\n",
        "Considere o seguinte `DataFrame`:\n",
        "```python\n",
        "df = pd.DataFrame({\n",
        "    \"Nome\": [\"Ana\", \"Bruno\", \"Clara\", \"Diego\"],\n",
        "    \"Idade\": [23, 35, 29, 40],\n",
        "    \"Cidade\": [\"São Paulo\", \"Rio de Janeiro\", \"Belo Horizonte\", \"Curitiba\"]\n",
        "})\n",
        "```\n",
        "Então:\n",
        "\n",
        "1. Selecione apenas a coluna `Idade`.\n",
        "1. Selecione as colunas [\"Nome\", \"Cidade\"].\n",
        "1. Filtre apenas as linhas onde a idade seja maior que 30."
      ],
      "metadata": {
        "id": "GMFYK4nGfruA"
      }
    },
    {
      "cell_type": "markdown",
      "source": [
        "## Exercício 4\n",
        "\n",
        "Considere o seguinte `DataFrame`:\n",
        "```python\n",
        "df = pd.DataFrame({\n",
        "    \"População (milhões)\": [211, 144, 331, 67, 83],\n",
        "    \"PIB (trilhões USD)\": [1.84, 1.48, 22.68, 2.83, 4.22],\n",
        "    \"Continente\": [\"América\", \"Asia\", \"América\", \"Europa\", \"Europa\"]\n",
        "    },\n",
        "    index=[\"Brasil\", \"Rússia\", \"Estados Unidos\", \"França\", \"Alemanha\"])\n",
        "```\n",
        "Então:\n",
        "\n",
        "1. Selecione as linhas correspondentes a \"Brasil\" e \"Alemanha\".\n",
        "1. Use `.loc` para selecionar a população e o PIB dos \"Estados Unidos\".\n",
        "1. Use `.iloc` para selecionar os dados dos dois primeiros países.\n",
        "1. Use `.isin` para todos os países que estão na América ou na Asia."
      ],
      "metadata": {
        "id": "aqoz9VSUhvri"
      }
    },
    {
      "cell_type": "markdown",
      "source": [
        "## Atualização de valores"
      ],
      "metadata": {
        "id": "gGQaGH6K8HFD"
      }
    },
    {
      "cell_type": "markdown",
      "source": [
        "Ao atualizando uma nova coluna os índices são ajustados automaticamente:"
      ],
      "metadata": {
        "id": "0wZlOexwz53e"
      }
    },
    {
      "cell_type": "code",
      "source": [
        "import numpy as np\n",
        "import pandas as pd\n",
        "\n",
        "datas = pd.date_range(\"20190101\", periods=6)\n",
        "\n",
        "df = pd.DataFrame(np.random.randn(6, 4), index=datas, columns=list(\"ABCD\"))\n",
        "print(\"df:\\n\", df)\n",
        "\n",
        "## vetor com uma data a frente\n",
        "s1 = pd.Series([1, 2, 3, 4, 5, 6], index=pd.date_range(\"20190102\", periods=6))\n",
        "print(\"\\ns1:\\n\", s1)\n",
        "\n",
        "## a primeira posição fica NaN\n",
        "df[\"F\"] = s1\n",
        "print(\"\\nNovo df:\\n\", df)"
      ],
      "metadata": {
        "id": "A6ZOMwEl07Mf"
      },
      "execution_count": null,
      "outputs": []
    },
    {
      "cell_type": "markdown",
      "source": [
        "Atualizando valores por nome:"
      ],
      "metadata": {
        "id": "U08QkQOQ08RX"
      }
    },
    {
      "cell_type": "code",
      "source": [
        "df.at[datas[0], \"A\"] = 0\n",
        "df"
      ],
      "metadata": {
        "id": "QttN0rKe1jPv"
      },
      "execution_count": null,
      "outputs": []
    },
    {
      "cell_type": "markdown",
      "source": [
        "Atualizando valores por posição:"
      ],
      "metadata": {
        "id": "oBJqPDwK1jy-"
      }
    },
    {
      "cell_type": "code",
      "source": [
        "df.iat[0, 1] = 0\n",
        "df"
      ],
      "metadata": {
        "id": "bDf97iJc19aI"
      },
      "execution_count": null,
      "outputs": []
    },
    {
      "cell_type": "markdown",
      "source": [
        "Atualização de valores com uma matriz *NumPy*:"
      ],
      "metadata": {
        "id": "xiR1Vp2b19tn"
      }
    },
    {
      "cell_type": "code",
      "source": [
        "df.loc[:, \"D\"] = np.array([5] * len(df))\n",
        "df"
      ],
      "metadata": {
        "id": "TfGIS6Ht4wFX"
      },
      "execution_count": null,
      "outputs": []
    },
    {
      "cell_type": "markdown",
      "source": [
        "Uma operação `where` como atualização de valores:"
      ],
      "metadata": {
        "id": "jZrzxIHW4wsn"
      }
    },
    {
      "cell_type": "code",
      "source": [
        "df2 = df.copy()\n",
        "\n",
        "print(\"df2:\\n\", df2)\n",
        "\n",
        "print(\"\\ndf2 > 0:\\n\", df2 > 0)\n",
        "\n",
        "df2[df2 > 0] = -df2\n",
        "\n",
        "print(\"\\nnovo df2:\\n\", df2)"
      ],
      "metadata": {
        "id": "_IwwXOhe6Gj4"
      },
      "execution_count": null,
      "outputs": []
    },
    {
      "cell_type": "markdown",
      "source": [
        "## Dados faltantes (*missing data*)"
      ],
      "metadata": {
        "id": "8rHU8qC-8ZBm"
      }
    },
    {
      "cell_type": "markdown",
      "source": [
        "Para o *NumPy*, `np.nan` representa um dado faltante. Ele é, por padrão, excluído dos cálculos.\n",
        "\n",
        "Reindexação permite mudar/adicionar/excluir o índice de um eixo especifico e retorna uma cópia dos dados:"
      ],
      "metadata": {
        "id": "85MfAZQ66HMe"
      }
    },
    {
      "cell_type": "code",
      "source": [
        "import numpy as np\n",
        "import pandas as pd\n",
        "\n",
        "datas = pd.date_range(\"20190101\", periods=6)\n",
        "\n",
        "# Cria um 'DataFrame' indexado pelas datas acima, com valores aleatórios...\n",
        "df = pd.DataFrame(np.random.randn(6, 4), index=datas, columns=list(\"ABCD\"))\n",
        "\n",
        "print(\"df:\\n\", df)\n",
        "\n",
        "## seleciona as 4 primeiras linhas e adiciona a coluna E\n",
        "df1 = df.reindex(index=datas[0:4], columns=list(df.columns) + [\"E\"])\n",
        "## preenche as três primeiras celulas da coluna E com o valor 1.\n",
        "df1.loc[datas[0:3], \"E\"] = 1\n",
        "\n",
        "print(\"\\ndf1:\\n\", df1)"
      ],
      "metadata": {
        "id": "tM0CgEHe7kfI"
      },
      "execution_count": null,
      "outputs": []
    },
    {
      "cell_type": "markdown",
      "source": [
        "`DataFrame.dropna()` ignora as linhas que possuem dados faltantes:"
      ],
      "metadata": {
        "id": "Ss7kmqKZ7k1X"
      }
    },
    {
      "cell_type": "code",
      "source": [
        "df1.dropna(how=\"any\")"
      ],
      "metadata": {
        "id": "Wz21rFfV8KpH"
      },
      "execution_count": null,
      "outputs": []
    },
    {
      "cell_type": "markdown",
      "source": [
        "`DataFrame.fillna()` preenche os dados faltantes com o valor fornecido:"
      ],
      "metadata": {
        "id": "W_JCVe2q8L--"
      }
    },
    {
      "cell_type": "code",
      "source": [
        "df1.fillna(value=5)"
      ],
      "metadata": {
        "id": "lOkjr5pq9M4_"
      },
      "execution_count": null,
      "outputs": []
    },
    {
      "cell_type": "markdown",
      "source": [
        "`isna()` retorna uma matriz lógica indicando as posições faltantes:"
      ],
      "metadata": {
        "id": "oERHdssM9WPW"
      }
    },
    {
      "cell_type": "code",
      "source": [
        "pd.isna(df1)"
      ],
      "metadata": {
        "id": "KxFjwH-_9lri"
      },
      "execution_count": null,
      "outputs": []
    },
    {
      "cell_type": "markdown",
      "source": [
        "### Operações com dados faltantes"
      ],
      "metadata": {
        "id": "bMYtTlgl8pLh"
      }
    },
    {
      "cell_type": "markdown",
      "source": [
        "As operações, em geral, excluem os dados faltantes.\n",
        "\n",
        "Exemplo, calculando a média para cada coluna:"
      ],
      "metadata": {
        "id": "M0AAIvRn9tu5"
      }
    },
    {
      "cell_type": "code",
      "source": [
        "import numpy as np\n",
        "import pandas as pd\n",
        "\n",
        "datas = pd.date_range(\"20190101\", periods=6)\n",
        "\n",
        "df = pd.DataFrame(np.random.randn(6, 4), index=datas, columns=list(\"ABCD\"))\n",
        "\n",
        "df[abs(df)<0.5] = pd.NA\n",
        "\n",
        "print(\"df:\\n\", df)\n",
        "\n",
        "df.mean() ## média por colunas"
      ],
      "metadata": {
        "id": "SUmPIK3s_-DM"
      },
      "execution_count": null,
      "outputs": []
    },
    {
      "cell_type": "markdown",
      "source": [
        "Calculando a média para cada linha:"
      ],
      "metadata": {
        "id": "4YJTjkEYAHFu"
      }
    },
    {
      "cell_type": "code",
      "source": [
        "df.mean(axis=1) ## media por linhas"
      ],
      "metadata": {
        "id": "2Pbws0_FATN3"
      },
      "execution_count": null,
      "outputs": []
    },
    {
      "cell_type": "markdown",
      "source": [
        "As operações que envolvam outras `Series` ou `DataFrame` com índices ou colunas diferentes irão alinhar os resultados com a união dos índices e nomes de colunas. Além disso, o *Pandas* automaticamente propaga os valores ao longo das dimensões especificadas e preenche os pares não alinhados com `np.nan`."
      ],
      "metadata": {
        "id": "mh_eZ14JAiZ2"
      }
    },
    {
      "cell_type": "code",
      "source": [
        "s = pd.Series([1, 3, 5, np.nan, 6, 8, 2], index=pd.date_range(\"20190101\", periods=7))\n",
        "print(\"s:\\n\",s)\n",
        "\n",
        "s = s.shift(2) ## atrasa os dados em 2 indices\n",
        "print(\"\\nnovo s:\\n\",s)"
      ],
      "metadata": {
        "id": "F34HHAteBPuv"
      },
      "execution_count": null,
      "outputs": []
    },
    {
      "cell_type": "markdown",
      "source": [
        "O método `pandas.sub()` subtrai os elementos do *dataframe* com os elementos de outro *dataframe* de acordo com os indices:"
      ],
      "metadata": {
        "id": "Up85bCdMRUVm"
      }
    },
    {
      "cell_type": "code",
      "source": [
        "df = pd.DataFrame(np.random.randn(6, 4), index=datas, columns=list(\"ABCD\"))\n",
        "\n",
        "print(\"df:\\n\", df)\n",
        "\n",
        "print(\"\\ns:\\n\", s)\n",
        "\n",
        "print(\"\\ndf.sub:\\n\")\n",
        "df.sub(s, axis=\"index\") ## a subtração é feita de acordo com os indices"
      ],
      "metadata": {
        "id": "bT3GIZLfBRSG"
      },
      "execution_count": null,
      "outputs": []
    },
    {
      "cell_type": "markdown",
      "source": [
        "## Exercício 5\n",
        "\n",
        "Considere o seguinte `DataFrame`:\n",
        "```python\n",
        "dados = {\n",
        "    \"Produto\": [\"Notebook\", \"Celular\", \"Tablet\", \"Fone de Ouvido\", \"Monitor\", \"Mouse\"],\n",
        "    \"Preço\": [2500, 1500, np.nan, 200, 800, 100],\n",
        "    \"Estoque\": [10, 5, 2, 50, np.nan, 150],\n",
        "    \"Categoria\": [\"Eletrônicos\", \"Eletrônicos\", \"Eletrônicos\", \"Acessórios\", \"Periféricos\", \"Periféricos\"],\n",
        "    \"Avaliação\": [4.5, np.nan, 3.8, 4.2, 3.9, np.nan]\n",
        "}\n",
        "\n",
        "df = pd.DataFrame(dados)\n",
        "```\n",
        "Então:\n",
        "\n",
        "1. Atualize o preço do produto \"Tablet\" para 1800.\n",
        "1. Reduza em 20% o preço de todos os produtos da categoria \"Eletrônicos\".\n",
        "1. Mostre a planilha excluindo as linhas com valores faltantes.\n",
        "1. Preencha os valores faltantes na coluna Estoque com 0."
      ],
      "metadata": {
        "id": "_RhT-FjFqdKv"
      }
    },
    {
      "cell_type": "markdown",
      "source": [
        "## Aplicar funções em colunas ou linhas de um DataFrame"
      ],
      "metadata": {
        "id": "4vk8o2bF8404"
      }
    },
    {
      "cell_type": "markdown",
      "source": [
        "`DataFrame.agg()` e `DataFrame.transform()` aplicam, respectivamente, uma função definida pelo usuário para reduzir ou propagar os resultados.\n",
        "\n",
        "* `DataFrame.agg(func, axis=0)` é utilizada para aplicar funções por eixos.\n",
        "\n",
        "* `DataFrame.transform(func, axis=0)` é utilizada para operar elemento a elemento.\n",
        "\n",
        "Veja os exemplos:"
      ],
      "metadata": {
        "id": "drKK2p5LBR4P"
      }
    },
    {
      "cell_type": "code",
      "source": [
        "import pandas as pd\n",
        "import numpy as np\n",
        "\n",
        "df = pd.DataFrame({\n",
        "    'A': [1, 2, 3, 4],\n",
        "    'B': [5, 6, np.nan, 8],\n",
        "    'C': [10, 20, 30, 40]\n",
        "})\n",
        "\n",
        "# Aplicar uma única função em todas as colunas\n",
        "result = df.agg('mean')\n",
        "print(result)\n",
        "# A    2.5\n",
        "# B    6.333333\n",
        "# C    25.0\n",
        "\n",
        "# Aplicar múltiplas funções a todas as colunas\n",
        "\n",
        "  ## Função personalizada para calcular a variação percentual\n",
        "def amplitude(series):\n",
        "    amp = float( series.max() - series.min() )\n",
        "    return amp\n",
        "\n",
        "result = df.agg(['sum', 'min', amplitude])\n",
        "print(\"\\n\", result)\n",
        "#                     A     B      C\n",
        "# sum              10.0  19.0  100.0\n",
        "# min               1.0   5.0   10.0\n",
        "# amplitude         3.0   3.0   30.0\n",
        "\n",
        "# Aplicar diferentes funções a diferentes colunas\n",
        "result = df.agg({'A': 'sum', 'B': 'mean', 'C': 'max'})\n",
        "print(\"\\n\")\n",
        "print(result)\n",
        "# A     10.0\n",
        "# B      6.333333\n",
        "# C     40.0\n"
      ],
      "metadata": {
        "id": "BV-Isf4fHV70"
      },
      "execution_count": null,
      "outputs": []
    },
    {
      "cell_type": "code",
      "source": [
        "import pandas as pd\n",
        "import numpy as np\n",
        "\n",
        "df = pd.DataFrame({\n",
        "    'A': [1, 2, 3, 4],\n",
        "    'B': [5, 6, np.nan, 8],\n",
        "    'C': [10, 20, 30, 40]\n",
        "})\n",
        "\n",
        "print(\"df:\\n\", df)\n",
        "\n",
        "# Exemplo: padronizar os dados subtraindo de cada elemento o mínimo da coluna e\n",
        "# dividindo pela pela amplitude de cada coluna\n",
        "result = df.transform( lambda x: (x - x.min())/(x.max() - x.min()) )\n",
        "print(\"\\nresult:\\n\", result)\n",
        "#     A     B     C\n",
        "# 0   2  10.0   20\n",
        "# 1   4  12.0   40\n",
        "# 2   6   NaN   60\n",
        "# 3   8  16.0   80\n",
        "\n",
        "# Aplicar funções diferentes a cada coluna\n",
        "result = df.transform({'A': lambda x: x + 10, 'B': lambda x: x.fillna(0), 'C': np.sqrt})\n",
        "print(\"\\nresult:\\n\", result)\n",
        "#      A    B         C\n",
        "# 0   11  5.0  3.162278\n",
        "# 1   12  6.0  4.472136\n",
        "# 2   13  0.0  5.477226\n",
        "# 3   14  8.0  6.324555\n"
      ],
      "metadata": {
        "id": "yEJ59BcnHeA7"
      },
      "execution_count": null,
      "outputs": []
    },
    {
      "cell_type": "markdown",
      "source": [
        "**Explicação**: `lambda` é uma forma de declarar um **função anônima**, geralmente utilizada em situações mais simples em que a função não será reaproveitada no futuro.\n",
        "\n",
        "* sintaxe:\n",
        "```python\n",
        "lambda argumentos: expressão\n",
        "```\n",
        "\n"
      ],
      "metadata": {
        "id": "V_2CxWRFqux7"
      }
    },
    {
      "cell_type": "markdown",
      "source": [
        "### Exercício 6\n",
        "\n",
        "Considere o seguinte `DataFrame`:\n",
        "```python\n",
        "dados = {\n",
        "    \"Região\": [\"Norte\", \"Norte\", \"Sul\", \"Sul\", \"Leste\", \"Leste\"],\n",
        "    \"Produto\": [\"Maçã\", \"Banana\", \"Maçã\", \"Banana\", \"Maçã\", \"Banana\"],\n",
        "    \"Vendas\": [120, 200, 150, 300, 250, 180],\n",
        "    \"Lucro\": [30, 50, 25, 70, 60, 40],\n",
        "    \"Desconto (%)\": [5, 10, 0, 15, 5, 10],\n",
        "}\n",
        "df = pd.DataFrame(dados)\n",
        "```\n",
        "Então:\n",
        "\n",
        "1. Use `DataFrame.agg()` para calcular, para cada coluna numérica do DataFrame:\n",
        "  * A soma;\n",
        "  * A média;\n",
        "  * O valor máximo;\n",
        "\n",
        "1. Use `DataFrame.transform()` para criar uma nova coluna chamada *Vendas Normalizadas*, que:\n",
        "  * Subtraia a média das vendas de cada valor.\n",
        "  * Divida pelo desvio padrão das vendas.\n",
        "  \n",
        "  Dica: Aplique a normalização (fórmula: $z = (x - média) / std$) diretamente sobre a coluna *Vendas*.\n"
      ],
      "metadata": {
        "id": "qf5QapCvnFsR"
      }
    },
    {
      "cell_type": "markdown",
      "source": [
        "## Contagem de valores\n",
        "\n",
        "Pandas disponbiliza a função `count()` que pode ser aplicada para objetos do tipo `Series` e `DataFrame`. Esta função é usada para contar o número de valores **não nulos**, seja por linha ou coluna.\n",
        "\n",
        "```python\n",
        "DataFrame.count(axis=0, level=None, numeric_only=False)\n",
        "```\n",
        "1. `axis`:\n",
        "  * 0 ou 'index' (padrão): Conta os valores não nulos por coluna.\n",
        "  * 1 ou 'columns': Conta os valores não nulos por linha.\n",
        "\n",
        "1. `level` (opcional):\n",
        "  * Usado quando o DataFrame possui um índice hierárquico (MultiIndex).\n",
        "  * Especifica o nível do índice para calcular os valores.\n",
        "\n",
        "3. `numeric_only` (opcional):\n",
        "  * Se True, considera apenas colunas numéricas\n",
        "\n",
        " Veja o exemplo:\n"
      ],
      "metadata": {
        "id": "hXQpZecoHpf1"
      }
    },
    {
      "cell_type": "code",
      "source": [
        "import pandas as pd\n",
        "import numpy as np\n",
        "\n",
        "# Criando um DataFrame de exemplo\n",
        "df = pd.DataFrame({\n",
        "    \"A\": [1, 2, np.nan, 4],\n",
        "    \"B\": [np.nan, 2, 3, 4],\n",
        "    \"C\": [\"foo\", \"bar\", np.nan, \"baz\"],\n",
        "    \"D\": [np.nan, np.nan, np.nan, np.nan],\n",
        "})\n",
        "\n",
        "print(\"DataFrame:\")\n",
        "print(df)\n",
        "\n",
        "# Contando valores não nulos em cada coluna\n",
        "print(\"\\nContagem por coluna:\")\n",
        "print(df.count())\n"
      ],
      "metadata": {
        "id": "pjgeukQAsnkg"
      },
      "execution_count": null,
      "outputs": []
    },
    {
      "cell_type": "markdown",
      "source": [
        "O método `Series.value_counts()` em pandas conta a frequência de cada valor único em uma Series, ou seja, quantas vezes cada valor aparece. É uma ferramenta muito útil para análise de dados categóricos, pois oferece uma visão rápida da distribuição de valores."
      ],
      "metadata": {
        "id": "6v2qA2VJtH8n"
      }
    },
    {
      "cell_type": "code",
      "source": [
        "import pandas as pd\n",
        "\n",
        "# Criando uma Series\n",
        "serie = pd.Series([\"maçã\", \"banana\", \"laranja\", \"maçã\", \"banana\", \"maçã\"])\n",
        "\n",
        "print(\"Série original:\")\n",
        "print(serie)\n",
        "\n",
        "# Contando valores únicos\n",
        "print(\"\\nContagem de valores:\")\n",
        "print(serie.value_counts())\n",
        "\n",
        "# Frequência relativa\n",
        "print(\"\\nFrequência relativa:\")\n",
        "print(serie.value_counts(normalize=True))"
      ],
      "metadata": {
        "id": "JRyMNXHZHqa0"
      },
      "execution_count": null,
      "outputs": []
    },
    {
      "cell_type": "markdown",
      "source": [
        "## Métodos para *strings*"
      ],
      "metadata": {
        "id": "JanUf0V-Svcg"
      }
    },
    {
      "cell_type": "markdown",
      "source": [
        "`Series` possui um conjunto de métodos para processar atributos do tipo `str`."
      ],
      "metadata": {
        "id": "hUET6IJEHrDc"
      }
    },
    {
      "cell_type": "code",
      "source": [
        "s = pd.Series([\"A\", \"11B8\", \"99C\", \"Aaba\", \"Baca\", np.nan, \"CABA\", \"81dog\", \"cat\"])\n",
        "print( s.str.lower() )\n",
        "print(\"\\n\")\n",
        "print( s.str.findall(\"\\d+\") )\n",
        "\n",
        "## no caso de dataframe, então deve ser aplicado por coluna\n",
        "df = pd.DataFrame({\"A\": [\"AA99\", \"asda21\", \"21asd23\"],\n",
        "                   \"B\": [\"AA99\", \"asda21\", \"21asd23\"]})\n",
        "\n",
        "print(\"\\ndf:\\n\", df)\n",
        "\n",
        "df_transformed = df.agg(lambda col: col.str.findall(r\"\\d+\"))\n",
        "print(\"\\n\")\n",
        "print(df_transformed)"
      ],
      "metadata": {
        "id": "TzaQ7fCWJq-0"
      },
      "execution_count": null,
      "outputs": []
    },
    {
      "cell_type": "markdown",
      "source": [
        "## Concatenação"
      ],
      "metadata": {
        "id": "f32V8P-MS65j"
      }
    },
    {
      "cell_type": "markdown",
      "source": [
        "A concatenação de objetos do *Pandas* é feito com `concat()`:"
      ],
      "metadata": {
        "id": "wn82NG0_Jsfz"
      }
    },
    {
      "cell_type": "code",
      "source": [
        "df = pd.DataFrame(np.random.randn(10, 4))\n",
        "df"
      ],
      "metadata": {
        "id": "lmJcxT55KiIP"
      },
      "execution_count": null,
      "outputs": []
    },
    {
      "cell_type": "code",
      "source": [
        "# quebra em vários pedaços\n",
        "pieces = [df[:3], df[3:7], df[7:]]\n",
        "\n",
        "# junção dos pedaços\n",
        "pd.concat(pieces, axis=0)"
      ],
      "metadata": {
        "id": "Q_0LUjuwKkp1"
      },
      "execution_count": null,
      "outputs": []
    },
    {
      "cell_type": "markdown",
      "source": [
        "## Exercício 7\n",
        "\n",
        "Considere o seguinte `DataFrame`:\n",
        "```python\n",
        "dados = {\n",
        "    \"Cliente\": [\"Ana\", \"bruno\", \"Carlos\", \"Diana\", \"Eduarda\", np.nan, \"fábio\", \"Gabriela\"],\n",
        "    \"Produto\": [\"Notebook\", \"Smartphone\", \"Notebook\", \"Tablet\", \"Notebook\", \"Smartphone\", np.nan, \"Tablet\"],\n",
        "    \"Valor\": [3000, 2000, 3000, 1500, 3000, 2000, 1500, 1500],\n",
        "    \"Data\": [\"2023-01-15\", \"2023-01-16\", np.nan, \"2023-02-10\", \"2023-02-10\", \"2023-01-16\", \"2023-02-15\", \"2023-02-16\"],\n",
        "}\n",
        "df = pd.DataFrame(dados)\n",
        "```\n",
        "Então:\n",
        "\n",
        "1. Qual é o número de valores não nulos em cada coluna do DataFrame?\n",
        "  \n",
        "  Dica: Utilize o método `count()`.\n",
        "\n",
        "1. Qual produto foi vendido mais vezes?\n",
        "  \n",
        "  Dica: Utilize o método `value_counts()` para listar a quantidade de prudutos vendidos e `.idxmax()` para mostrar qual o produto mais vendito.\n",
        "  \n",
        "1. Passe a primeira letra do nome de cada cliente para maiúscula. Dica: Utilize o método `str.title()`.\n",
        "\n",
        "1. Inclua o seguinte dados no final do `df`:\n",
        "```python\n",
        "df2 = pd.DataFrame({\n",
        "    \"Cliente\": [\"Jose\", \"Paula\"],\n",
        "    \"Produto\": [\"Tablet\", \"Notebook\"],\n",
        "    \"Valor\": [1500, 4000],\n",
        "    \"Data\": [\"2023-03-01\", \"2023-03-02\"],\n",
        "})\n",
        "```\n"
      ],
      "metadata": {
        "id": "e08pkKH-yeBJ"
      }
    },
    {
      "cell_type": "markdown",
      "source": [
        "## Junção de *dataframe*s"
      ],
      "metadata": {
        "id": "_79PYzDyTMC4"
      }
    },
    {
      "cell_type": "markdown",
      "source": [
        "A função `merge()` habilita junções no estilo SQL entre colunas."
      ],
      "metadata": {
        "id": "bJu5nOW6LxX8"
      }
    },
    {
      "cell_type": "code",
      "source": [
        "import pandas as pd\n",
        "\n",
        "# DataFrame à esquerda\n",
        "esquerda = pd.DataFrame({\"produto\": [\"maçã\", \"pera\", \"banana\", \"uva\"], \"quantidade\": [3, 5, 4, 2]})\n",
        "\n",
        "# DataFrame à direita\n",
        "direita = pd.DataFrame({\"produto\": [\"pera\", \"banana\", \"maçã\"], \"preço\": [4.50, 2.34, 3.25]})\n",
        "\n",
        "print(\"esquerda:\\n\", esquerda)\n",
        "print(\"\\ndireita:\\n\", direita)\n",
        "\n",
        "# 1) Mesclando os DataFrames\n",
        "## O produto \"uva\" está presente em esquerda, mas não em direita.\n",
        "## Por padrão esse produto é excluido por não ter correspondencia\n",
        "resultado = pd.merge(esquerda, direita, on=\"produto\")\n",
        "print(\"\\nResultado da junção 1:\\n\", resultado)\n",
        "\n",
        "# 2) Mesclando os DataFrames (how='left')\n",
        "## Neste caso, o valor na coluna \"preço\" para essa linha é NaN\n",
        "resultado = pd.merge(esquerda, direita, on=\"produto\", how='left')\n",
        "print(\"\\nResultado da junção 2:\\n\", resultado)"
      ],
      "metadata": {
        "id": "HIE1O2LNL-yc"
      },
      "execution_count": null,
      "outputs": []
    },
    {
      "cell_type": "markdown",
      "source": [
        "Outro exemplo, agora com 2 chaves."
      ],
      "metadata": {
        "id": "dPRs8hxR4Ml_"
      }
    },
    {
      "cell_type": "code",
      "source": [
        "import pandas as pd\n",
        "\n",
        "# DataFrame à esquerda com mais um atributo (fornecedor)\n",
        "esquerda = pd.DataFrame({\n",
        "    \"produto\": [\"maçã\", \"pera\", \"banana\", \"maçã\", \"banana\"],\n",
        "    \"cor\": [\"vermelha\", \"verde\", \"amarela\", \"verde\", \"amarela\"],\n",
        "    \"quantidade\": [3, 5, 4, 6, 7],\n",
        "    \"fornecedor\": [\"Fornecedor A\", \"Fornecedor B\", \"Fornecedor C\", \"Fornecedor C\", \"Fornecedor A\"]\n",
        "})\n",
        "\n",
        "# DataFrame à direita\n",
        "direita = pd.DataFrame({\n",
        "    \"produto\": [\"maçã\", \"pera\", \"banana\"],\n",
        "    \"cor\": [\"vermelha\", \"verde\", \"amarela\"],\n",
        "    \"preço\": [3.25, 4.50, 2.34]\n",
        "})\n",
        "\n",
        "print(\"esquerda:\\n\", esquerda)\n",
        "print(\"\\ndireita:\\n\", direita)\n",
        "\n",
        "# Mesclando os DataFrames com mais de uma chave (produto, cor) e considerando o fornecedor\n",
        "resultado = pd.merge(esquerda, direita, on=[\"produto\", \"cor\"], how=\"left\")\n",
        "print(\"\\nResultado da junção com múltiplas chaves (produto, cor) e fornecedor:\\n\", resultado)\n"
      ],
      "metadata": {
        "id": "kkCohIV73R3s"
      },
      "execution_count": null,
      "outputs": []
    },
    {
      "cell_type": "markdown",
      "source": [
        "## Agrupamento"
      ],
      "metadata": {
        "id": "0qIW3VUjTnUf"
      }
    },
    {
      "cell_type": "markdown",
      "source": [
        "Por “agrupamento” se refere a um processo que envolve um ou mais dos seguintes passos:\n",
        "\n",
        "- **particionar** os dados em grupos basedos em algum critério;\n",
        "\n",
        "- **aplicar** uma função em cada grupo independentemente;\n",
        "\n",
        "- **combinar** os resultados em uma estrutura de dados."
      ],
      "metadata": {
        "id": "7y5nOBzuMEFH"
      }
    },
    {
      "cell_type": "code",
      "source": [
        "import pandas as pd\n",
        "import numpy as np\n",
        "\n",
        "# Criando o DataFrame simulando vendas de banana e maça por regiões\n",
        "df = pd.DataFrame(\n",
        "    {\n",
        "        \"Produto\": [\"Maçã\", \"Banana\", \"Maçã\", \"Banana\", \"Maçã\", \"Banana\", \"Maçã\", \"Maçã\"],\n",
        "        \"Região\": [\"Norte\", \"Norte\", \"Sul\", \"Sul\", \"Leste\", \"Leste\", \"Norte\", \"Leste\"],\n",
        "        \"Vendas\": np.abs(np.random.randn(8)),  # Valores numéricos aleatórios representando as vendas\n",
        "        \"Lucro\": np.random.randn(8),   # Valores numéricos aleatórios representando o lucro\n",
        "    }\n",
        ")\n",
        "\n",
        "print(df)"
      ],
      "metadata": {
        "id": "cruBRDEnOGc_"
      },
      "execution_count": null,
      "outputs": []
    },
    {
      "cell_type": "markdown",
      "source": [
        "Exemplo, agrupando por uma coluna, selecionando outras colunas e aplicando a função `sum()` aos dados resultantes:"
      ],
      "metadata": {
        "id": "kH-y4IfQOX0j"
      }
    },
    {
      "cell_type": "code",
      "source": [
        "print(\"\\nAgrupamento por 'Produto' e soma de Vendas e Lucro:\")\n",
        "print(df.groupby(\"Produto\")[[\"Vendas\", \"Lucro\"]].sum())"
      ],
      "metadata": {
        "id": "v7eQ_4ZaOXLM"
      },
      "execution_count": null,
      "outputs": []
    },
    {
      "cell_type": "markdown",
      "source": [
        "Agrupar por múltiplas colunas forma um `MultiIndex`."
      ],
      "metadata": {
        "id": "0T6d1GUpOzwE"
      }
    },
    {
      "cell_type": "code",
      "source": [
        "# Agrupando por Produto e Região e somando as colunas 'Vendas' e 'Lucro'\n",
        "print(\"\\nAgrupamento por 'Produto' e 'Região' e soma de Vendas e Lucro:\")\n",
        "print(df.groupby([\"Produto\", \"Região\"]).sum())"
      ],
      "metadata": {
        "id": "tdjPZPBgPV6y"
      },
      "execution_count": null,
      "outputs": []
    },
    {
      "cell_type": "markdown",
      "source": [
        "## Exercício 8\n",
        "\n",
        "1. Para o código abaixo use a função `merge()` para combinar os dois DataFrames com base na coluna `Produto`.\n",
        "  * E depois `how=\"outer\"` (união de todos os dados).  \n",
        "  * Utilize primeiramente `how=\"inner\"` (interseção entre os DataFrames).\n",
        "\n",
        "2. Para a ultima junção, faça um agrupamento pela coluna `Produto` e então selecione as colunas `Quantidade` e `Preço` e some elas.\n",
        "\n",
        "```python\n",
        "import pandas as pd\n",
        "\n",
        "# DataFrame de produtos vendidos\n",
        "vendas = pd.DataFrame({\n",
        "    \"Cliente\": [\"Ana\", \"Bruno\", \"Carlos\", \"Diana\", \"Eduarda\", \"Fábio\", \"Gabriela\"],\n",
        "    \"Produto\": [\"Notebook\", \"Smartphone\", \"Notebook\", \"Tablet\", \"Notebook\", \"Mouse\", \"Smartphone\"],\n",
        "    \"Data\": [\"2023-01-15\", \"2023-01-16\", \"2023-01-16\", \"2023-02-10\", \"2023-02-10\", \"2023-02-15\", \"2023-02-16\"],\n",
        "    \"Quantidade\": [1, 2, 1, 1, 3, 2, 1],\n",
        "})\n",
        "\n",
        "# DataFrame com os preços dos produtos\n",
        "precos = pd.DataFrame({\n",
        "    \"Produto\": [\"Notebook\", \"Smartphone\", \"Tablet\"],\n",
        "    \"Preço\": [3000, 2000, 1500],\n",
        "})\n",
        "\n",
        "print(\"DataFrame de vendas:\")\n",
        "print(vendas)\n",
        "\n",
        "print(\"\\nDataFrame de preços:\")\n",
        "print(precos)\n",
        "```"
      ],
      "metadata": {
        "id": "HfK_eJmL23wm"
      }
    },
    {
      "cell_type": "markdown",
      "source": [
        "## Reorganização"
      ],
      "metadata": {
        "id": "i1b4S23cTwK6"
      }
    },
    {
      "cell_type": "markdown",
      "source": [
        "Para exemplos, vamos primeiramente criar um DataFrame para análise de dados relacionados a vendas e custos.\n",
        "\n",
        "Este DataFrame será criado com um índice hierárquico de duas categorias:\n",
        "* Categoria (Fruta, Legume, etc.)\n",
        "* Métrica (Venda, Custo)."
      ],
      "metadata": {
        "id": "B5yHj1WKIClQ"
      }
    },
    {
      "cell_type": "code",
      "source": [
        "import pandas as pd\n",
        "import numpy as np\n",
        "\n",
        "# MultiIndex com dois níveis: Categoria e Métrica\n",
        "arrays = [\n",
        "    [\"Fruta\", \"Fruta\", \"Legume\", \"Legume\", \"Bebida\", \"Bebida\", \"Grão\", \"Grão\"],\n",
        "    [\"Venda\", \"Custo\", \"Venda\", \"Custo\", \"Venda\", \"Custo\", \"Venda\", \"Custo\"],\n",
        "]\n",
        "\n",
        "index = pd.MultiIndex.from_arrays(arrays, names=[\"Categoria\", \"Métrica\"])\n",
        "\n",
        "# Criando um DataFrame com valores aleatórios para Vendas e Custos\n",
        "df = pd.DataFrame(abs(np.random.randn(8, 3)), index=index, columns=[\"Janeiro\", \"Fevereiro\", \"Março\"])\n",
        "print(\"DataFrame Original:\\n\")\n",
        "print(df)"
      ],
      "metadata": {
        "id": "qh11-mX2GbQ0"
      },
      "execution_count": null,
      "outputs": []
    },
    {
      "cell_type": "markdown",
      "source": [
        "### Empilhamento"
      ],
      "metadata": {
        "id": "X0S2fRWEPWpw"
      }
    },
    {
      "cell_type": "markdown",
      "source": [
        "* A função `stack()` modifica a distribuição das células para criar um formato vertical.\n",
        "\n",
        "* A função `unstack()` faz o inverso do `stack()`, retorna o formato original.\n",
        "\n",
        "  Como temos dois níveis de indices, também podemos utilizar:\n",
        "  * `unstack(0)` para reorganiza pelo primeiro indice (Categoria) como colunas;\n",
        "  * `unstack(1)` para reorganiza pelo segundo indice (Métrica) como colunas.  "
      ],
      "metadata": {
        "id": "krp3li9MJR5y"
      }
    },
    {
      "cell_type": "code",
      "source": [
        "# Empilhando as colunas para transformar em um formato mais vertical\n",
        "stacked = df.stack()\n",
        "print(\"\\nDataFrame Empilhado (com stack):\\n\")\n",
        "print(stacked)\n",
        "\n",
        "# Desempilhando para reorganizar os dados de volta ao formato tabular\n",
        "unstacked = stacked.unstack()\n",
        "print(\"\\n\\nDataFrame Desempilhado (com unstack):\\n\")\n",
        "print(unstacked)\n",
        "\n",
        "# Desempilhando com foco no nível 0 (Categoria)\n",
        "unstacked_level0 = stacked.unstack(0)\n",
        "print(\"\\n\\nDataFrame Desempilhado por 'Categoria' (nível 0):\\n\")\n",
        "print(unstacked_level0)\n",
        "\n",
        "# Desempilhando com foco no nível 1 (Métrica)\n",
        "unstacked_level1 = stacked.unstack(1)\n",
        "print(\"\\n\\nDataFrame Desempilhado por 'Métrica' (nível 1):\\n\")\n",
        "print(unstacked_level1)\n"
      ],
      "metadata": {
        "id": "9cEUxrTFGki6"
      },
      "execution_count": null,
      "outputs": []
    },
    {
      "cell_type": "markdown",
      "source": [
        "### Pivot tables\n",
        "\n",
        "A função `pivot_table` permite:\n",
        "* resumir as informações contidas em um DataFrame;\n",
        "* personalizar a forma como os dados são organizados;\n",
        "* utilizar agregações complexas e funções customizadas.\n",
        "\n",
        "**Sintaxe:**\n",
        "\n",
        "```python\n",
        "pd.pivot_table(data, values=None, index=None, columns=None, aggfunc=\"mean\",\n",
        " fill_value=None, margins=False, margins_name=\"All\", dropna=True, observed=False, sort=True)\n",
        "```\n",
        "\n",
        "Principais argumentos:\n",
        "\n",
        "* `data`: O DataFrame a partir do qual a tabela dinâmica será criada.\n",
        "* `values`: A(s) coluna(s) cujos valores você deseja agregar.\n",
        "* `index`: A(s) coluna(s) que formarão os índices da tabela.\n",
        "* `columns`: A(s) coluna(s) que formarão as colunas da tabela.\n",
        "* `aggfunc`: A função de agregação a ser usada. O padrão é \"mean\", mas você pode usar outras como \"sum\", \"count\", \"max\", \"min\", ou funções personalizadas. Pode ser uma lista de funções.\n",
        "* `fill_value`: Valor para preencher células vazias ou NaN.\n",
        "\n",
        "Veja os exemplos."
      ],
      "metadata": {
        "id": "qntcERoRqh3B"
      }
    },
    {
      "cell_type": "code",
      "source": [
        "import pandas as pd\n",
        "import numpy as np\n",
        "\n",
        "# Criando o DataFrame\n",
        "dados = {\n",
        "    \"Categoria\": [\"Eletrônicos\", \"Eletrônicos\", \"Eletrodomésticos\", \"Eletrodomésticos\", \"Móveis\", \"Móveis\"],\n",
        "    \"Produto\": [\"Notebook\", \"Smartphone\", \"Geladeira\", \"Fogão\", \"Sofá\", \"Cama\"],\n",
        "    \"Vendas\": [5000, 3000, 4000, 2500, 2000, 1500],\n",
        "    \"Ano\": [2023, 2023, 2023, 2023, 2024, 2024]\n",
        "}\n",
        "\n",
        "df = pd.DataFrame(dados)\n",
        "print(df)"
      ],
      "metadata": {
        "id": "6-LgmCA7O5CB"
      },
      "execution_count": null,
      "outputs": []
    },
    {
      "cell_type": "markdown",
      "source": [
        "**1. Agregando por uma única coluna:**\n",
        "\n",
        "Vamos organizar as vendas por categoria usando pivot_table."
      ],
      "metadata": {
        "id": "LOr2lQvQkILn"
      }
    },
    {
      "cell_type": "code",
      "source": [
        "# Vendas totais por Categoria\n",
        "tabela = pd.pivot_table(df, values=\"Vendas\", index=\"Categoria\", aggfunc=\"sum\")\n",
        "print(tabela)\n"
      ],
      "metadata": {
        "id": "mHbxjEGDkEHU"
      },
      "execution_count": null,
      "outputs": []
    },
    {
      "cell_type": "markdown",
      "source": [
        "**2. Selecionando colunas:**"
      ],
      "metadata": {
        "id": "EZY2BJWQT-Y7"
      }
    },
    {
      "cell_type": "code",
      "source": [
        "# Vendas totais por Categoria e Ano\n",
        "tabela = pd.pivot_table(df, values=\"Vendas\", index=\"Categoria\",\n",
        "                        columns=\"Ano\", aggfunc=\"sum\", fill_value=0)\n",
        "print(tabela)\n",
        "\n",
        "print(\"\\n\")\n",
        "\n",
        "# Vendas totais por Categoria e Ano\n",
        "tabela = pd.pivot_table(df, values=\"Vendas\", index=\"Categoria\",\n",
        "                        columns=[\"Ano\",\"Produto\"], aggfunc=\"sum\", fill_value=0)\n",
        "print(tabela)\n"
      ],
      "metadata": {
        "id": "o629Jcv0khzK"
      },
      "execution_count": null,
      "outputs": []
    },
    {
      "cell_type": "markdown",
      "source": [
        "**3. Adicionando margens (Totais):**"
      ],
      "metadata": {
        "id": "6gzyjdfglM3w"
      }
    },
    {
      "cell_type": "code",
      "source": [
        "# Incluindo uma linha/coluna de total\n",
        "tabela = pd.pivot_table(df, values=\"Vendas\", index=\"Categoria\", columns=\"Ano\",\n",
        "        aggfunc=\"sum\", fill_value=0, margins=True, margins_name=\"Total Geral\")\n",
        "print(tabela)\n"
      ],
      "metadata": {
        "id": "kY_U7Bz2lRfT"
      },
      "execution_count": null,
      "outputs": []
    },
    {
      "cell_type": "markdown",
      "source": [
        "**4. Pivot Table com múltiplos índices e colunas:**"
      ],
      "metadata": {
        "id": "5Znxl3eall8z"
      }
    },
    {
      "cell_type": "code",
      "source": [
        "# Pivot Table com múltiplos índices e colunas\n",
        "tabela = pd.pivot_table(df, values=\"Vendas\", index=[\"Categoria\", \"Produto\"],\n",
        "                        columns=\"Ano\", aggfunc=\"sum\", fill_value=0)\n",
        "print(tabela)\n"
      ],
      "metadata": {
        "id": "F7NET20ulpnM"
      },
      "execution_count": null,
      "outputs": []
    },
    {
      "cell_type": "markdown",
      "source": [
        "### Exercício 9\n",
        "\n",
        "Considere o seguinte conjunto de dados:\n",
        "```python\n",
        "import pandas as pd\n",
        "import numpy as np\n",
        "\n",
        "# DataFrame para os exercícios\n",
        "dados = {\n",
        "    \"Produto\": [\"Notebook\", \"Notebook\", \"Smartphone\", \"Smartphone\", \"Tablet\", \"Tablet\"],\n",
        "    \"Região\": [\"Norte\", \"Sul\", \"Norte\", \"Sul\", \"Norte\", \"Sul\"],\n",
        "    \"Ano\": [2023, 2023, 2024, 2024, 2023, 2024],\n",
        "    \"Vendas\": [5000, 4500, 3000, 3500, 2000, 2500],\n",
        "    \"Lucro\": [1000, 900, 800, 850, 300, 400],\n",
        "}\n",
        "\n",
        "df = pd.DataFrame(dados)\n",
        "print(df)\n",
        "```\n",
        "\n",
        "Então:\n",
        "\n",
        "1. Aplique `stack()` no DataFrame original e observe como ele transforma as colunas em um índice.\n",
        "\n",
        "  Pergunta: Qual a principal diferença entre o DataFrame antes e depois de usar `stack()`?\n",
        "\n",
        "2. A partir do resultado de `stack()`, use `unstack()` para reorganizar os dados. Experimente utilizar os níveis de índice (0, 1 ou nomeados).\n",
        "\n",
        "3. Crie uma tabela dinâmica que mostre o lucro médio (Lucro) por \"Produto\" e \"Região\". Use `aggfunc=\"mean\"`.\n",
        "\n",
        "  Pergunta: Como a função de agregação afeta os dados?\n",
        "\n",
        "4. Adicione margens (totais) à tabela dinâmica do exercício anterior, usando o parâmetro `margins=True`.   "
      ],
      "metadata": {
        "id": "Y7RQk2JCndFi"
      }
    },
    {
      "cell_type": "markdown",
      "source": [
        "## Séries temporais"
      ],
      "metadata": {
        "id": "i-sVOmOXUTDq"
      }
    },
    {
      "cell_type": "markdown",
      "source": [
        "*Pandas* é uma das principais bibliotecas utilizadas para manipulação de séries temporais por possuir diversas funcionalidades úteis para esse tipo de dados.\n",
        "\n",
        "Em *Pandas* uma série temporal é representada por um objeto do tipo `Series` ou `DataFrame` indexadas por um tipo de objeto especifico para trabalhar com datas, o `datetime`."
      ],
      "metadata": {
        "id": "3eccDpWHrkUp"
      }
    },
    {
      "cell_type": "markdown",
      "source": [
        "  **Objetos `datetime` no Python**\n",
        "\n",
        "  O módulo `datetime` do Python é utilizado para manipular datas e horários. Ele fornece várias classes úteis para criar, modificar, comparar e realizar cálculos com datas e tempos.\n",
        "\n",
        "  Principais Classes do Módulo `datetime`:\n",
        "\n",
        "  * `datetime.date`: Representa uma data (ano, mês e dia).\n",
        "  * `datetime.time`: Representa um horário (hora, minuto, segundo e microssegundo).\n",
        "  * `datetime.datetime`: Combina data e horário.\n",
        "  * `datetime.timedelta`: Representa diferenças entre datas ou tempos.\n",
        "  * `datetime.tzinfo` e `datetime.timezone`: Representam informações de fuso horário"
      ],
      "metadata": {
        "id": "gAMLO4OBjJEB"
      }
    },
    {
      "cell_type": "code",
      "source": [
        "## Exemplos datetime\n",
        "\n",
        "import datetime\n",
        "\n",
        "# Criando uma data\n",
        "data = datetime.date(2024, 11, 29)\n",
        "print(\"Data Criada:\", data)\n",
        "\n",
        "# Acessando componentes\n",
        "print(\"Ano:\", data.year)\n",
        "print(\"Mês:\", data.month)\n",
        "print(\"Dia:\", data.day)\n",
        "\n",
        "# Criando um horário\n",
        "horario = datetime.time(14, 30, 45)\n",
        "print(\"\\nHorário Criado:\", horario)\n",
        "\n",
        "# Acessando componentes\n",
        "print(\"Hora:\", horario.hour)\n",
        "print(\"Minuto:\", horario.minute)\n",
        "print(\"Segundo:\", horario.second)\n",
        "\n",
        "# Criando um objeto datetime\n",
        "data_hora = datetime.datetime(2024, 11, 29, 14, 30, 45)\n",
        "print(\"\\nData e Hora Criadas:\", data_hora)\n",
        "\n",
        "# Acessando componentes\n",
        "print(\"Ano:\", data_hora.year)\n",
        "print(\"Hora:\", data_hora.hour)\n",
        "\n",
        "# Convertendo string para datetime\n",
        "# Principais códigos de formatação:\n",
        "# %Y: Ano com quatro dígitos.\n",
        "# %m: Mês (01-12).\n",
        "# %d: Dia do mês (01-31).\n",
        "# %H: Hora (00-23).\n",
        "# %M: Minuto (00-59).\n",
        "# %S: Segundo (00-59).\n",
        "\n",
        "data_string = \"29/11/2024 14:30:45\"\n",
        "data_convertida = datetime.datetime.strptime(data_string, \"%d/%m/%Y %H:%M:%S\")\n",
        "\n",
        "print(\"\\nString Convertida para datetime:\", data_convertida)"
      ],
      "metadata": {
        "id": "tTQeC829pXRQ"
      },
      "execution_count": null,
      "outputs": []
    },
    {
      "cell_type": "markdown",
      "source": [
        "**1. Criando Séries Temporais**\n",
        "\n",
        "Podemos criar séries temporais usando o `pd.date_range()` e trabalhar diretamente com objetos `datetime`."
      ],
      "metadata": {
        "id": "NfhilXi8shY-"
      }
    },
    {
      "cell_type": "code",
      "source": [
        "import pandas as pd\n",
        "import numpy as np\n",
        "\n",
        "\n",
        "####### serie diaria ###########################################################\n",
        "\n",
        "# Gerando uma sequência de dias\n",
        "dias = pd.date_range(start=\"2023-01-02\", end=\"2023-01-20\", freq=\"D\")\n",
        "print(\"Sequência de dias:\\n\", dias)\n",
        "\n",
        "# Criando uma série temporal diária\n",
        "serie_diaria = pd.Series(np.random.randint(1, 100, len(dias)), index=dias)\n",
        "print(\"\\nSérie diaria:\\n\", serie_diaria)\n",
        "\n",
        "################################################################################\n",
        "\n",
        "####### serie semanal ##########################################################\n",
        "\n",
        "# Gerando uma sequência de semanas\n",
        "semanas = pd.date_range(\"2023-01-01\", \"2023-03-01\", freq=\"W\")\n",
        "\n",
        "# Criando uma série temporal semanal\n",
        "serie_semanal = pd.Series(np.random.randint(1, 100, len(semanas)), index=semanas)\n",
        "print(\"\\nSérie semanal:\\n\", serie_semanal)\n",
        "\n",
        "################################################################################\n",
        "\n",
        "####### serie horária ##########################################################\n",
        "\n",
        "# Frequência por horas\n",
        "horas = pd.date_range(\"2023-01-01\", \"2023-01-02\", freq=\"h\")\n",
        "\n",
        "# Criando uma série temporal horaria\n",
        "serie_horaria = pd.Series(np.random.randint(1, 100, len(horas)), index=horas)\n",
        "print(\"\\nSérie horaria:\\n\", serie_horaria)\n",
        "\n",
        "################################################################################\n"
      ],
      "metadata": {
        "id": "RIaT-auWuRvq"
      },
      "execution_count": null,
      "outputs": []
    },
    {
      "cell_type": "markdown",
      "source": [
        "**2. Manipulando Datas como Índices**\n",
        "\n",
        "As colunas de datas ou índices permitem acessar, filtrar e realizar operações."
      ],
      "metadata": {
        "id": "nZ7otU6ks8H3"
      }
    },
    {
      "cell_type": "code",
      "source": [
        "# Filtrando dados específicos\n",
        "print(\"Valores de 2023-01-03 a 2023-01-05:\\n\", serie_diaria[\"2023-01-03\":\"2023-01-05\"])\n",
        "\n",
        "# Selecionando com base em condições\n",
        "print(\"\\nValores maiores que 50:\\n\", serie_diaria[serie_diaria > 50])\n"
      ],
      "metadata": {
        "id": "Ob8Aut9ttC-q"
      },
      "execution_count": null,
      "outputs": []
    },
    {
      "cell_type": "markdown",
      "source": [
        "**4. Reamostragem e Alteração de Frequência**\n",
        "\n",
        "A reamostragem ajusta a frequência temporal dos dados (e.g., diário para mensal)."
      ],
      "metadata": {
        "id": "vCyRY6wUtI-0"
      }
    },
    {
      "cell_type": "code",
      "source": [
        "# Seria diaria\n",
        "print(\"serie diaria:\\n\", serie_diaria )\n",
        "\n",
        "# Reamostragem para frequência semanal\n",
        "reamostrado = serie_diaria.resample(\"W\")\n",
        "\n",
        "## media dos valores\n",
        "print(\"\\nSerie Semanal (media):\\n\", reamostrado.mean())\n",
        "\n",
        "## soma dos valores\n",
        "print(\"\\nSerie Semanal (soma):\\n\", reamostrado.sum())\n",
        "\n",
        "## maximo dos valores\n",
        "print(\"\\nSerie Semanal (max):\\n\", reamostrado.max())"
      ],
      "metadata": {
        "id": "T_-urGdGwTU1"
      },
      "execution_count": null,
      "outputs": []
    },
    {
      "cell_type": "markdown",
      "source": [
        "**5. Operações de Deslocamento**\n",
        "\n",
        "O deslocamento temporal é útil para calcular diferenças ou comparar valores passados."
      ],
      "metadata": {
        "id": "izvVdLOp6MTB"
      }
    },
    {
      "cell_type": "code",
      "source": [
        "serie = serie_diaria[\"2023-01-02\":\"2023-01-08\"]\n",
        "print(\"serie diaria:\\n\", serie)\n",
        "\n",
        "# Deslocando os valores para frente\n",
        "deslocado1 = serie.shift(1)\n",
        "print(\"\\nSérie Deslocada para Frente:\\n\", deslocado1)\n",
        "\n",
        "# Deslocando os valores para trás\n",
        "deslocado2 = serie.shift(-1)\n",
        "print(\"\\nSérie Deslocada para trás:\\n\", deslocado2)\n",
        "\n",
        "# Calculando diferenças\n",
        "diferencas = serie.diff()\n",
        "print(\"\\nDiferenças Entre Valores Consecutivos:\\n\", diferencas)"
      ],
      "metadata": {
        "id": "iXt3_36-6Z-j"
      },
      "execution_count": null,
      "outputs": []
    },
    {
      "cell_type": "markdown",
      "source": [
        "**6. Trabalhando com Timezones**\n",
        "\n",
        "O Pandas suporta fuso horário com `tz_localize` e `tz_convert`."
      ],
      "metadata": {
        "id": "DnhfpugbbPZA"
      }
    },
    {
      "cell_type": "code",
      "source": [
        "import numpy as np\n",
        "import pandas as pd\n",
        "\n",
        "# Criando uma série temporal horária (UTC)\n",
        "horas_utc = pd.date_range(\"2023-01-01 07:00\", \"2023-01-01 12:00\", freq=\"h\", tz=\"UTC\")\n",
        "serie_horaria_utc = pd.Series(np.random.randint(1, 100, len(horas_utc)), index=horas_utc)\n",
        "\n",
        "print(\"Série horária no timezone UTC:\")\n",
        "print(serie_horaria_utc)\n",
        "\n",
        "# Convertendo para o timezone América/São_Paulo\n",
        "serie_horaria_sao_paulo = serie_horaria_utc.tz_convert(\"America/Sao_Paulo\")\n",
        "print(\"\\nSérie horária convertida para América/São_Paulo:\")\n",
        "print(serie_horaria_sao_paulo)\n",
        "\n",
        "# Adicionando timezone a uma série sem fuso horário\n",
        "horas_sem_tz = pd.date_range(\"2023-01-01 07:00\", \"2023-01-01 12:00\", freq=\"h\")\n",
        "serie_sem_tz = pd.Series(np.random.randint(1, 100, len(horas_sem_tz)), index=horas_sem_tz)\n",
        "\n",
        "# Adicionando timezone à série sem fuso horário\n",
        "serie_com_tz = serie_sem_tz.tz_localize(\"America/New_York\")\n",
        "print(\"\\nSérie sem timezone adicionada ao timezone América/New_York:\")\n",
        "print(serie_com_tz)\n"
      ],
      "metadata": {
        "id": "czoZrRkivDKR"
      },
      "execution_count": null,
      "outputs": []
    },
    {
      "cell_type": "markdown",
      "source": [
        "Os fusos horários disponíveis podem ser acessados em [time-zones](https://en.wikipedia.org/wiki/List_of_tz_database_time_zones)."
      ],
      "metadata": {
        "id": "YaNiOCzj4yyy"
      }
    },
    {
      "cell_type": "markdown",
      "source": [
        "**7. Gráfico de séries temporais**\n",
        "\n",
        "No Pandas, é possível criar gráficos de séries temporais de forma simples utilizando o método `.plot()` integrado. Ele é ideal para representar visualmente dados temporais, como tendências ao longo do tempo. Para isso, você pode usar diretamente o DataFrame ou a Series, desde que tenham um índice temporal.\n"
      ],
      "metadata": {
        "id": "Kw7d4rBdfqOK"
      }
    },
    {
      "cell_type": "code",
      "source": [
        "import pandas as pd\n",
        "import numpy as np\n",
        "\n",
        "# Gerar uma série temporal horaria\n",
        "datas = pd.date_range(\"2023-01-01\", \"2023-01-5\", freq=\"h\")\n",
        "valores = np.random.randint(50, 100, len(datas))\n",
        "serie_temporal = pd.Series(valores, index=datas)\n",
        "\n",
        "# Criar o gráfico\n",
        "serie_temporal.plot(title=\"Série Temporal\", xlabel=\"Data\", ylabel=\"Valor\",\n",
        "                    figsize=(6, 3))"
      ],
      "metadata": {
        "id": "M9PgA2dZgAB3"
      },
      "execution_count": null,
      "outputs": []
    },
    {
      "cell_type": "code",
      "source": [
        "# Gera um DataFrame com múltiplas séries temporais\n",
        "df = pd.DataFrame({\n",
        "    \"Produto A\": np.random.randint(50, 100, len(datas)),\n",
        "    \"Produto B\": np.random.randint(60, 120, len(datas)),\n",
        "    \"Produto C\": np.random.randint(30, 90, len(datas)),\n",
        "}, index=datas)\n",
        "\n",
        "# Gera o gráfico\n",
        "df.plot(title=\"Comparação de Produtos\", xlabel=\"Data\", ylabel=\"Vendas\",\n",
        "        figsize=(7, 4))\n"
      ],
      "metadata": {
        "id": "zfo6aOKChHXb"
      },
      "execution_count": null,
      "outputs": []
    },
    {
      "cell_type": "markdown",
      "source": [
        "A biblioteca `matplotlib` pode ser utilizada para personalizar os gráficos. Será visto a frente."
      ],
      "metadata": {
        "id": "33uuakLLiaGS"
      }
    },
    {
      "cell_type": "markdown",
      "source": [
        "### Exercício 10\n",
        "\n",
        "Considere o seguinte código:\n",
        "\n",
        "```python\n",
        "import pandas as pd\n",
        "import numpy as np\n",
        "\n",
        "# Série temporal diária para janeiro de 2023\n",
        "dias = pd.date_range(start=\"2023-01-01\", end=\"2023-01-31\", freq=\"D\")\n",
        "serie = pd.Series(np.random.randint(10, 100, len(dias_janeiro)), index=dias)\n",
        "print(\"Série Temporal:\\n\", serie)\n",
        "```\n",
        "\n",
        "Então para o objeto `serie`:\n",
        "\n",
        "1. Construa uma série semanal tomando os valores máximos de cada semana.\n",
        "\n",
        "2. Construa uma série semanal tomando os valores médios de cada semana.\n",
        "\n",
        "3. Inclua o fuso horário \"America/Sao_Paulo\".\n",
        "\n",
        "4. Plote o gráfico."
      ],
      "metadata": {
        "id": "UZiW85H9jR1N"
      }
    },
    {
      "cell_type": "markdown",
      "source": [
        "## Dados categorizados"
      ],
      "metadata": {
        "id": "cCQ4zMPSUizA"
      }
    },
    {
      "cell_type": "markdown",
      "source": [
        "Os dados categorizados são úteis para representar variáveis que têm um número fixo e limitado de categorias. O *Pandas* oferece suporte para o tipo de dado `category`, permitindo economizar memória e melhorar o desempenho em operações com dados categóricos.\n",
        "\n",
        "Obs: `category` em *Pandas* é o equivalente ao `factor` na linguagem R.\n",
        "\n",
        "Por que usar dados categorizados?\n",
        "\n",
        "* Eficiência de memória: Categorias são armazenadas como índices inteiros internamente, reduzindo o uso de memória.\n",
        "* Desempenho: Operações como comparação e agrupamento são mais rápidas.\n",
        "* Validação: Você pode limitar os valores aceitos em uma coluna a um conjunto de categorias fixas.\n",
        "* **Modelagem**: Modelos de regressão não lidam diretamente com variáveis categóricas. Elas precisam ser convertidas em uma representação numérica, como **one-hot encoding** (cada categoria vira uma coluna binária) ou codificação **ordinal** (são tratadas como números).  \n"
      ],
      "metadata": {
        "id": "lJHqK0SJ5Qug"
      }
    },
    {
      "cell_type": "markdown",
      "source": [
        "**Criando Dados Categorizados**"
      ],
      "metadata": {
        "id": "YRS_yQYzzs4E"
      }
    },
    {
      "cell_type": "code",
      "source": [
        "import pandas as pd\n",
        "import numpy as np\n",
        "\n",
        "## A partir de uma lista\n",
        "categoricas = pd.Series([\"Alto\", \"Médio\", \"Baixo\", \"Médio\"], dtype=\"category\")\n",
        "print(\"Série categórica:\")\n",
        "print(categoricas)  # Aqui o Python não sabe qual é a ordem\n",
        "\n",
        "# Definindo uma ordem explícita\n",
        "categoricas2 = categoricas.cat.set_categories([\"Baixo\", \"Médio\", \"Alto\"],\n",
        "                                             ordered=True)\n",
        "print(\"\\nSérie categórica ordenada:\")\n",
        "print(categoricas2)\n"
      ],
      "metadata": {
        "id": "JvG6W2t_zdyA"
      },
      "execution_count": null,
      "outputs": []
    },
    {
      "cell_type": "markdown",
      "source": [
        "Segmentando variáveis utilizando `.cut`"
      ],
      "metadata": {
        "id": "Kaaj05mQBnmz"
      }
    },
    {
      "cell_type": "code",
      "source": [
        "df = pd.DataFrame({\n",
        "    \"Nome\": [\"Ana\", \"Bruno\", \"Carlos\", \"Diana\", \"Eduardo\"],\n",
        "    \"Gênero\": [\"Feminino\", \"Masculino\", \"Masculino\", \"Feminino\", \"Masculino\"],\n",
        "    \"Notas\": [9.5, 5.3, 0.1, 6.1, 7.7]\n",
        "})\n",
        "\n",
        "# Aplicando a função .cut para criar a coluna menção\n",
        "cortes = [0.0, 3.0, 5, 7, 9, 10]\n",
        "classes = [\"II\",\"MI\",\"MM\",\"MS\",\"SS\"]\n",
        "df['Menção'] = pd.cut(df['Notas'], bins=cortes, labels=classes)\n",
        "\n",
        "# Transformando Menção em categorica\n",
        "df[\"Menção\"] = df[\"Menção\"].astype(\"category\")\n",
        "\n",
        "# Transformando Menção em categorica ordinal\n",
        "df.Menção = df.Menção.cat.set_categories([\"SR\",\"II\",\"MI\",\"MM\",\"MS\",\"SS\"],\n",
        "                                               ordered = True)\n",
        "print(\"df:\\n\", df)"
      ],
      "metadata": {
        "id": "oeJyFc5YB9Vg"
      },
      "execution_count": null,
      "outputs": []
    },
    {
      "cell_type": "markdown",
      "source": [
        "Renomeando as categorias para nomes com mais significado:"
      ],
      "metadata": {
        "id": "efeWjtSs67Vq"
      }
    },
    {
      "cell_type": "code",
      "source": [
        "from typing_extensions import runtime\n",
        "print(\"df:\\n\", df)\n",
        "\n",
        "new_categories = [\"péssimo\", \"muito ruim\", \"ruim\", \"meia boca\", \"aceitável\", \"bom\"]\n",
        "# SR -> péssimo\n",
        "# II -> muito ruim\n",
        "# MI -> ruim\n",
        "# ...\n",
        "\n",
        "df[\"Menção\"] = df[\"Menção\"].cat.rename_categories(new_categories)\n",
        "\n",
        "print(\"\\ndf:\\n\", df)"
      ],
      "metadata": {
        "id": "THG1pXmy7rx4"
      },
      "execution_count": null,
      "outputs": []
    },
    {
      "cell_type": "markdown",
      "source": [
        "A  ordenação nas categorias é por classe, não alfabética:"
      ],
      "metadata": {
        "id": "81_7uUtW8e5f"
      }
    },
    {
      "cell_type": "code",
      "source": [
        "df.sort_values(by=\"Menção\")"
      ],
      "metadata": {
        "id": "WxBpRGWq8zPp"
      },
      "execution_count": null,
      "outputs": []
    },
    {
      "cell_type": "markdown",
      "source": [
        "Agrupamento de variáveis categorizadas com `observed=False` também mostram as categorias vazias:"
      ],
      "metadata": {
        "id": "m6feZ8OW8z1v"
      }
    },
    {
      "cell_type": "code",
      "source": [
        "df.groupby(\"Menção\", observed=False).size()"
      ],
      "metadata": {
        "id": "0O6hdHpK9RxH"
      },
      "execution_count": null,
      "outputs": []
    },
    {
      "cell_type": "markdown",
      "source": [
        "**Codificação one-hot**\n",
        "\n",
        "Neste exemplo, vamos simular que estamos preparando a variável \"Gênero\" para ser utilizada em um modelo de regressão. Por conta disso, vamos transformar ela em dummy:"
      ],
      "metadata": {
        "id": "MvucXDs-94Sm"
      }
    },
    {
      "cell_type": "code",
      "source": [
        "## Dummies da variável \"Gênero\"\n",
        "df_dummies = pd.get_dummies(df, columns=[\"Gênero\"])\n",
        "print( df_dummies )"
      ],
      "metadata": {
        "id": "u_iVzeta9kgC"
      },
      "execution_count": null,
      "outputs": []
    },
    {
      "cell_type": "markdown",
      "source": [
        "### Exercício 11\n",
        "\n",
        "Considere o seguinte código:\n",
        "\n",
        "```python\n",
        "import pandas as pd\n",
        "import numpy as np\n",
        "\n",
        "# Criando um DataFrame de exemplo\n",
        "dados = {\n",
        "    \"Produto\": [\"Notebook\", \"Smartphone\", \"Tablet\", \"Notebook\", \"Smartphone\", \"Tablet\", \"Notebook\", \"Smartphone\", \"Tablet\", \"Notebook\"],\n",
        "    \"Loja\": [\"Loja A\", \"Loja B\", \"Loja C\", \"Loja A\", \"Loja B\", \"Loja C\", \"Loja A\", \"Loja B\", \"Loja C\", \"Loja A\"],\n",
        "    \"Vendas\": [1500, 2000, 1000, 1800, 2200, 1200, 1700, 2100, 1300, 1600],\n",
        "    \"Ano\": [2023, 2023, 2023, 2023, 2023, 2023, 2023, 2023, 2023, 2023],\n",
        "    \"Categoria\": [\"Eletrônicos\", \"Eletrônicos\", \"Eletrônicos\", \"Eletrônicos\", \"Eletrônicos\", \"Eletrônicos\", \"Eletrônicos\", \"Eletrônicos\", \"Eletrônicos\", \"Eletrônicos\"],\n",
        "}\n",
        "\n",
        "df = pd.DataFrame(dados)\n",
        "\n",
        "print(\"Conjunto de Dados de Vendas:\")\n",
        "print(df)\n",
        "\n",
        "```\n",
        "\n",
        "Então para o objeto `serie`:\n",
        "\n",
        "1. Converta as colunas \"Loja\" e \"Produto\" para categóricas.\n",
        "\n",
        "2. Faça a coluna \"Produto\" ter a seguinte ordem: \"Tablet\", \"Smartphone\", \"Notebook\".\n",
        "\n",
        "3. Calcule a quantidade de ocorrências de cada loja na coluna \"Loja\" usando `value_counts()`.\n",
        "\n",
        "4. Crie uma nova coluna categórica ordinal chamada `Categoria_Vendas`, onde será categorizado para \"Alto\", \"Médio\" ou \"Baixo\", com base nos seguintes critérios:\n",
        "  * \"Alto\": Vendas > 2000\n",
        "  * \"Médio\": 1500 <= Vendas <= 2000\n",
        "  * \"Baixo\": Vendas < 1500.\n",
        "\n",
        "5. Transforme em dummies as variáveis `Produto` e  `Categoria_Vendas`.    "
      ],
      "metadata": {
        "id": "Haw0r4IX_jRu"
      }
    },
    {
      "cell_type": "markdown",
      "source": [
        "## Importando e exportando dados"
      ],
      "metadata": {
        "id": "g7hv1IbvU66m"
      }
    },
    {
      "cell_type": "markdown",
      "source": [
        "### Valores separados por vírgula (CSV)"
      ],
      "metadata": {
        "id": "nh5jmihRU_zW"
      }
    },
    {
      "cell_type": "markdown",
      "source": [
        "Para escrever um arquivo CSV (*valores separados por vírgula*) use `DataFrame.to_csv()`:"
      ],
      "metadata": {
        "id": "ZyV_WSno-P3v"
      }
    },
    {
      "cell_type": "code",
      "source": [
        "df = pd.DataFrame(np.random.randint(0, 5, (10, 5)))\n",
        "df.to_csv(\"foo.csv\")"
      ],
      "metadata": {
        "id": "dhne78MJ_FIQ"
      },
      "execution_count": null,
      "outputs": []
    },
    {
      "cell_type": "markdown",
      "source": [
        "Para ler o arquivo CSV use `DataFrame.read_csv()`:"
      ],
      "metadata": {
        "id": "Gx2VNrdJ_Gkf"
      }
    },
    {
      "cell_type": "code",
      "source": [
        "pd.read_csv(\"foo.csv\")"
      ],
      "metadata": {
        "id": "xIvflSzT_ZSo"
      },
      "execution_count": null,
      "outputs": []
    },
    {
      "cell_type": "markdown",
      "source": [
        "### Excel"
      ],
      "metadata": {
        "id": "v-At6-FxVQFO"
      }
    },
    {
      "cell_type": "markdown",
      "source": [
        "Para escrever um arquivo Excel use `DataFrame.to_excel()`:"
      ],
      "metadata": {
        "id": "yXCw_f-0BFou"
      }
    },
    {
      "cell_type": "code",
      "source": [
        "df.to_excel(\"foo.xlsx\", sheet_name=\"Sheet1\")"
      ],
      "metadata": {
        "id": "zpR8CVpRBsUo"
      },
      "execution_count": null,
      "outputs": []
    },
    {
      "cell_type": "markdown",
      "source": [
        "Para ler um arquivo Excel use `DataFrame.read_excel()`:"
      ],
      "metadata": {
        "id": "aPucD9hEBs9f"
      }
    },
    {
      "cell_type": "code",
      "source": [
        "pd.read_excel(\"foo.xlsx\", \"Sheet1\", index_col=None)"
      ],
      "metadata": {
        "id": "9_97oF5-CGQv"
      },
      "execution_count": null,
      "outputs": []
    },
    {
      "cell_type": "markdown",
      "source": [
        "## Atenção 💣"
      ],
      "metadata": {
        "id": "ixju3HSTVU18"
      }
    },
    {
      "cell_type": "markdown",
      "source": [
        "Operações lógicas usando uma `Series` ou um `DataFrame` resultam em uma erro. Exemplo:"
      ],
      "metadata": {
        "id": "8yLeQjG5CGsd"
      }
    },
    {
      "cell_type": "code",
      "source": [
        "#if pd.Series([False, True, False]):    # ERROR!\n",
        "#     print(\"Sou verdadeiro\")"
      ],
      "metadata": {
        "id": "QY92FGuNCi9e"
      },
      "execution_count": null,
      "outputs": []
    },
    {
      "cell_type": "markdown",
      "source": [
        "# **Gráficos -  Matplotlib**\n",
        "\n",
        "Neste tutorial vamos estudar a biblioteca **Matplotlib**, uma das bibliotecas mais populares para visualização de dados em Python!\n",
        "\n",
        "Matplotlib é uma biblioteca de visualização de dados em Python, amplamente utilizada para criar gráficos em 2D. Ela oferece controle detalhado sobre a aparência e o comportamento dos gráficos, sendo uma escolha comum tanto para análises exploratórias quanto para apresentações e relatórios."
      ],
      "metadata": {
        "id": "uPKdKySWt-ff"
      }
    },
    {
      "cell_type": "markdown",
      "source": [
        "---\n",
        "\n",
        "## **Introdução**\n",
        "\n",
        "**Matplotlib** é uma biblioteca para criar gráficos em 2D. Recursos principais:\n",
        "- **Gráficos de Linha**: Ideais para representar séries temporais ou tendências.\n",
        "- **Gráficos de Barras e Histogramas**: Usados para comparar categorias ou observar distribuições.\n",
        "- **Gráficos de Dispersão**: Mostram relações entre variáveis.\n",
        "- **Gráficos de Pizza**: Representam proporções de categorias.\n",
        "- **Subplots**: Permitem exibir múltiplos gráficos na mesma figura.\n",
        "- **Personalização Avançada**: Controle total sobre cores, estilos de linha, rótulos, anotações, entre outros.\n",
        "- **Integração com NumPy e Pandas**: Facilita o uso em análise de dados.\n",
        "\n",
        "### **Instalação**\n",
        "\n",
        "Para garantir que Matplotlib esteja instalado, execute:\n",
        "```bash\n",
        "pip install matplotlib\n",
        "```\n",
        "\n",
        "\n",
        "### **Sintaxe**\n",
        "Por conveniência a biblioteca `Matplotlib` é utilizada através do módulo `pyplot`, o qual fornece uma interface de estilo MATLAB.\n",
        "\n",
        "Desta forma, é quase uma convensão importar a biblioteca da seguinte forma:\n",
        "```python\n",
        "import matplotlib.pyplot as plt\n",
        "```\n",
        "\n",
        "A sintaxe do `pyplot` no `Matplotlib` segue um fluxo procedural semelhante ao usado em outras ferramentas de plotagem. Isso significa que você constrói o gráfico passo a passo, adicionando elementos, ajustando configurações e, finalmente, exibindo o gráfico com `plt.show()`. Abaixo estão os detalhes sobre essa abordagem.\n",
        "\n",
        "**a) Criação do Gráfico Base**\n",
        "\n",
        "- Você começa com uma função que cria o tipo de gráfico desejado, como `plot()`, `scatter()`, `bar()`, etc.\n",
        "- Isso adiciona o gráfico ao ambiente atual.\n",
        "\n",
        "**b) Adição de Detalhes e Personalização**\n",
        "\n",
        "- Funções como `title()`, `xlabel()`, `ylabel()`, `xlim()`, e `ylim()` permitem personalizar e adicionar elementos ao gráfico.\n",
        "- Por exemplo, títulos, rótulos de eixos e limites.\n",
        "\n",
        "**c) Renderização do Gráfico**\n",
        "\n",
        "- `plt.show()` é usado para exibir o gráfico renderizado na tela.\n",
        "- Sem essa etapa, o gráfico pode não aparecer em ambientes que exigem renderização explícita, como o Google Colab ou Jupyter Notebook\n",
        "\n",
        "**Exemplo de Fluxo Completo**\n",
        "```python\n",
        "import matplotlib.pyplot as plt\n",
        "\n",
        "# Dados\n",
        "x = [1, 2, 3, 4]\n",
        "y = [10, 20, 15, 25]\n",
        "\n",
        "# Passo 1: configurando o tamanho da figura\n",
        "plt.figure(figsize=(10, 4))  # 10 polegadas de largura e 4 de altura\n",
        "\n",
        "# Passo 2: Criar o gráfico base\n",
        "plt.plot(x, y, color=\"blue\", marker=\"o\", linestyle=\"--\")\n",
        "\n",
        "# Passo 3: Adicionar personalizações\n",
        "plt.title(\"Gráfico de Linha\", fontsize=14)\n",
        "plt.xlabel(\"Eixo X\", fontsize=12)\n",
        "plt.ylabel(\"Eixo Y\", fontsize=12)\n",
        "plt.grid(True)  # Adiciona linhas de grade\n",
        "\n",
        "# Passo 3: Renderizar o gráfico\n",
        "plt.show()\n",
        "```"
      ],
      "metadata": {
        "id": "YDLa_Cwq2qef"
      }
    },
    {
      "cell_type": "markdown",
      "source": [
        "### **Principais Funções**\n",
        "\n",
        "**1. `plt.plot()`**\n",
        "- Cria gráficos de linha.\n",
        "- Aceita argumentos como dados para os eixos X e Y, cores, estilos de linha, marcadores, etc. Principais parâmetros:\n",
        "  * `color` ou `c`: Define a cor da linha. Pode ser uma string com nome da cor, código hexadecimal ou formato RGB.\n",
        "  * `linestyle` ou `ls`: Estilo da linha (traço contínuo, pontilhado, etc.). Valores comuns:\n",
        "    * `'-'` :  Linha contínua (padrão).\n",
        "    * `'--'`: Linha tracejada.\n",
        "    * `':'` :  Linha pontilhada.\n",
        "    * `'-.'`: Linha traço-ponto.\n",
        "  * `linewidth` ou `lw`: Espessura da linha. Pode ser uma string com nome da cor, código hexadecimal ou formato RGB.\n",
        "  * `marker`: Símbolo usado para marcar os pontos no gráfico. Valores comuns:\n",
        "    * `'o'` :  Círculo.\n",
        "    * `'s'`: Quadrado.\n",
        "    * `'x'` :  Cruz.\n",
        "  * `label`: Nome da linha, usado na legenda.\n",
        "  * `alpha`: Transparência da linha (0 = totalmente transparente; 1 = opaco).\n",
        "\n",
        "- Exemplo:\n",
        "```python\n",
        "plt.plot([1, 2, 3], [4, 5, 6], color=\"red\", marker=\"x\", linestyle=\"--\", linewidth=2.5)\n",
        "```\n",
        "\n",
        "**2. `plt.title()`**\n",
        "- Adiciona título ao gráfico.\n",
        "- Aceita parâmetros como:\n",
        "  * `fontsize`: Tamanho da fonte.\n",
        "  * `loc`: Localização do título (\"left\", \"center\", \"right\").\n",
        "- Exemplo:  \n",
        "```python\n",
        "plt.title(\"Título do Gráfico\", fontsize=16, loc=\"center\")\n",
        "```\n",
        "\n",
        "**3. `plt.xlabel()` e `plt.ylabel()`**\n",
        "- Adicionam rótulos aos eixos X e Y, respectivamente.\n",
        "- Aceitam parâmetros como o texto do rótulo e o tamanho da fonte.\n",
        "- Exemplo:\n",
        "```python\n",
        "plt.xlabel(\"Eixo X\", fontsize=12)\n",
        "plt.ylabel(\"Eixo Y\", fontsize=12)\n",
        "```\n",
        "\n",
        "**4. `plt.grid()`**\n",
        "- Ativa/desativa a exibição da grade.\n",
        "- Aceita parâmetros para personalizar a grade, como:\n",
        "  * `color`: Cor das linhas da grade.\n",
        "  * `linestyle`: Estilo da linha (\"--\", \"-.\", etc.).\n",
        "  * `linewidth`: Espessura da linha.\n",
        "- Exemplo:\n",
        "```python\n",
        "plt.grid(color=\"gray\", linestyle=\"--\", linewidth=0.5)\n",
        "```\n",
        "\n",
        "**5. `plt.legend()`**\n",
        "- Adiciona uma legenda ao gráfico.\n",
        "- Aceita parâmetros como:\n",
        "  * `loc`: Localização da legenda (\"upper right\", \"lower left\", etc.).\n",
        "- Exemplo:\n",
        "```python\n",
        "plt.plot([1, 2, 3], [4, 5, 6], label=\"Linha 1\")\n",
        "plt.legend(loc=\"upper left\")\n",
        "```\n",
        "\n",
        "**6. `plt.show()`**\n",
        "- Renderiza o gráfico na saída.\n",
        "- Não aceita parâmetros, mas deve ser o último comando ao exibir um gráfico."
      ],
      "metadata": {
        "id": "SaX8l95p9xMf"
      }
    },
    {
      "cell_type": "markdown",
      "source": [
        "---\n",
        "\n",
        "## **Gráficos de Linha**\n",
        "\n",
        "Um gráfico de linha é geralmente utilizado para visualizar funções, tendências ou séries temporais.\n",
        "\n",
        "**Exemplo**\n"
      ],
      "metadata": {
        "id": "ue2I3HLPuQmu"
      }
    },
    {
      "cell_type": "code",
      "execution_count": 42,
      "metadata": {
        "id": "ObHKc9rYtx7Z",
        "colab": {
          "base_uri": "https://localhost:8080/",
          "height": 411
        },
        "outputId": "d4a9b31f-1650-4ea3-a0c2-054994ae0248"
      },
      "outputs": [
        {
          "output_type": "display_data",
          "data": {
            "text/plain": [
              "<Figure size 1000x400 with 1 Axes>"
            ],
            "image/png": "[encoded data removed]"
          },
          "metadata": {}
        }
      ],
      "source": [
        "import numpy as np\n",
        "import matplotlib.pyplot as plt\n",
        "\n",
        "# Criando dados\n",
        "x = np.linspace(0, 20, 100)  # 100 valores entre 0 e 20\n",
        "y = np.sin(x)  # Função seno\n",
        "\n",
        "#configurando o tamanho da figura\n",
        "plt.figure(figsize=(10, 4))  # 10 polegadas de largura e 4 de altura\n",
        "\n",
        "# Criando o gráfico\n",
        "plt.plot(x, y)\n",
        "\n",
        "# Adicionando rótulos\n",
        "plt.title(\"Gráfico de Linha - Função Seno\")\n",
        "plt.xlabel(\"Eixo X\")\n",
        "plt.ylabel(\"Eixo Y\")\n",
        "\n",
        "# Exibindo o gráfico\n",
        "plt.show()"
      ]
    },
    {
      "cell_type": "markdown",
      "source": [
        "### Exercício 1\n",
        "\n",
        "Crie um gráfico de linha para a função função linear $𝑦=2𝑥+1$\n",
        "no intervalo de $-5$ a $5$. Adicione título, rótulos e grade ao gráfico.\n"
      ],
      "metadata": {
        "id": "0V1-K_VOvI8y"
      }
    },
    {
      "cell_type": "code",
      "source": [
        "import numpy as np\n",
        "import matplotlib.pyplot as plt\n",
        "\n",
        "x = np.linspace(-5, 5)\n",
        "y = 2*x+1\n",
        "plt.plot(x, y)\n",
        "plt.title(\"Gráfico de Linha - Algo por Alguma Coisa\")\n",
        "plt.xlabel(\"Alguma Coisa\")\n",
        "plt.ylabel(\"Algo\")\n",
        "plt.grid(linestyle=(\"--\"))\n",
        "plt.show()"
      ],
      "metadata": {
        "colab": {
          "base_uri": "https://localhost:8080/",
          "height": 472
        },
        "id": "D8HmsTdCri9l",
        "outputId": "e4d12e1b-9f5d-4e42-8c37-67686d5445ea"
      },
      "execution_count": 43,
      "outputs": [
        {
          "output_type": "display_data",
          "data": {
            "text/plain": [
              "<Figure size 640x480 with 1 Axes>"
            ],
            "image/png": "[encoded data removed]"
          },
          "metadata": {}
        }
      ]
    },
    {
      "cell_type": "markdown",
      "source": [
        "---\n",
        "\n",
        "## **Gráficos de Dispersão**\n",
        "\n",
        "Gráficos de dispersão (*Scatter plot*) mostram a relação entre duas variáveis.\n",
        "\n",
        "**Exemplo**\n"
      ],
      "metadata": {
        "id": "1XP6Clq4wAjJ"
      }
    },
    {
      "cell_type": "code",
      "execution_count": 44,
      "metadata": {
        "id": "IVlqlzgwwAjK",
        "colab": {
          "base_uri": "https://localhost:8080/",
          "height": 915
        },
        "outputId": "79710329-caf9-4714-fc00-1e08b3674bfc"
      },
      "outputs": [
        {
          "output_type": "stream",
          "name": "stdout",
          "text": [
            "\n",
            "Cor(X,Y): 0.1\n",
            "\n",
            "Cor(X,Z): 0.72\n",
            "\n",
            "\n"
          ]
        },
        {
          "output_type": "display_data",
          "data": {
            "text/plain": [
              "<Figure size 400x400 with 1 Axes>"
            ],
            "image/png": "[encoded data removed]"
          },
          "metadata": {}
        },
        {
          "output_type": "display_data",
          "data": {
            "text/plain": [
              "<Figure size 400x400 with 1 Axes>"
            ],
            "image/png": "[encoded data removed]"
          },
          "metadata": {}
        }
      ],
      "source": [
        "# Dados aleatórios\n",
        "x = np.random.rand(50)\n",
        "y = np.random.rand(50)\n",
        "z = x + y\n",
        "\n",
        "print( \"\\nCor(X,Y):\", round( np.corrcoef(x,y)[0,1], 2) )\n",
        "print( \"\\nCor(X,Z):\", round( np.corrcoef(x,z)[0,1], 2) )\n",
        "print( \"\\n\" )\n",
        "\n",
        "# Gráfico de dispersão (X vs Y)\n",
        "plt.figure(figsize=(4, 4))\n",
        "plt.scatter(x, y)\n",
        "plt.title(\"Gráfico de Dispersão\")\n",
        "plt.xlabel(\"Eixo X\")\n",
        "plt.ylabel(\"Eixo Y\")\n",
        "plt.show()\n",
        "\n",
        "# Gráfico de dispersão (X vs Z)\n",
        "plt.figure(figsize=(4, 4))\n",
        "plt.scatter(x, z)\n",
        "plt.title(\"Gráfico de Dispersão\")\n",
        "plt.xlabel(\"Eixo X\")\n",
        "plt.ylabel(\"Eixo Z\")\n",
        "plt.show()\n"
      ]
    },
    {
      "cell_type": "markdown",
      "source": [
        "### **Exercício 2**\n",
        "\n",
        "Considere o seguinte conjunto de dados:\n",
        "\n",
        "```python\n",
        "import pandas as pd\n",
        "import numpy as np\n",
        "\n",
        "np.random.seed(42)\n",
        "df_vendas = pd.DataFrame({\n",
        "    \"Produto\": [\"A\", \"B\", \"C\", \"D\", \"E\", \"F\", \"G\", \"H\", \"I\", \"J\"],\n",
        "    \"Preço (R$)\": [316, 385, 320, 234, 296, 445, 354, 129, 244, 55],\n",
        "    \"Vendas (Unidades)\": [115, 65, 28, 189, 178, 135, 21, 20, 66, 88],\n",
        "})\n",
        "\n",
        "print(\"Conjunto de Dados:\")\n",
        "print(df_vendas)\n",
        "```\n",
        "\n",
        "1. Faça o gráfico um gráfico de dispersão das colunas \"Preço (R$)\" vs \"Vendas (Unidades)\". Inclua o título \"Preço vs Vendas\", inclua legendas nos eixos X e Y.\n",
        "\n",
        "2. Você observa alguma relação nessas variáveis?\n"
      ],
      "metadata": {
        "id": "Bq5cORRUwAjK"
      }
    },
    {
      "cell_type": "code",
      "source": [
        "import pandas as pd\n",
        "import numpy as np\n",
        "\n",
        "np.random.seed(42)\n",
        "df_vendas = pd.DataFrame({\n",
        "    \"Produto\": [\"A\", \"B\", \"C\", \"D\", \"E\", \"F\", \"G\", \"H\", \"I\", \"J\"],\n",
        "    \"Preço (R$)\": [316, 385, 320, 234, 296, 445, 354, 129, 244, 55],\n",
        "    \"Vendas (Unidades)\": [115, 65, 28, 189, 178, 135, 21, 20, 66, 88],\n",
        "})\n",
        "\n",
        "print(\"Conjunto de Dados:\")\n",
        "print(df_vendas)\n",
        "\n",
        "x=df_vendas[\"Preço (R$)\"]\n",
        "y=df_vendas[\"Vendas (Unidades)\"]\n",
        "plt.scatter(x, y)\n",
        "plt.title(\"Preço vs Vendas\")\n",
        "plt.xlabel(\"Preço em R$\")\n",
        "plt.ylabel(\"Vendas em unidades\")\n",
        "plt.grid(linestyle=(\"--\"))\n",
        "plt.show()\n",
        "\n",
        "print(\"\\n Não existe relação entre o preço e quantas unidades foram vendidas desse produto \\n\")"
      ],
      "metadata": {
        "colab": {
          "base_uri": "https://localhost:8080/",
          "height": 746
        },
        "id": "lBRcYN47ujDt",
        "outputId": "0ff8a29d-0b3c-4da6-fee8-94f09ea80843"
      },
      "execution_count": 45,
      "outputs": [
        {
          "output_type": "stream",
          "name": "stdout",
          "text": [
            "Conjunto de Dados:\n",
            "  Produto  Preço (R$)  Vendas (Unidades)\n",
            "0       A         316                115\n",
            "1       B         385                 65\n",
            "2       C         320                 28\n",
            "3       D         234                189\n",
            "4       E         296                178\n",
            "5       F         445                135\n",
            "6       G         354                 21\n",
            "7       H         129                 20\n",
            "8       I         244                 66\n",
            "9       J          55                 88\n"
          ]
        },
        {
          "output_type": "display_data",
          "data": {
            "text/plain": [
              "<Figure size 640x480 with 1 Axes>"
            ],
            "image/png": "[encoded data removed]"
          },
          "metadata": {}
        },
        {
          "output_type": "stream",
          "name": "stdout",
          "text": [
            "\n",
            " Não existe relação entre o preço e quantas unidades foram vendidas desse produto \n",
            "\n"
          ]
        }
      ]
    },
    {
      "cell_type": "markdown",
      "source": [
        "---\n",
        "\n",
        "## **Gráficos de Barras**\n",
        "\n",
        "Gráficos de barras são úteis para comparar categorias.\n",
        "\n",
        "**Exemplo**\n"
      ],
      "metadata": {
        "id": "_955TPT5wTwY"
      }
    },
    {
      "cell_type": "code",
      "execution_count": 46,
      "metadata": {
        "id": "tvHTJQIewTwZ",
        "colab": {
          "base_uri": "https://localhost:8080/",
          "height": 472
        },
        "outputId": "af50a987-f66c-47c4-ff5a-3c199b693206"
      },
      "outputs": [
        {
          "output_type": "display_data",
          "data": {
            "text/plain": [
              "<Figure size 640x480 with 1 Axes>"
            ],
            "image/png": "[encoded data removed]"
          },
          "metadata": {}
        }
      ],
      "source": [
        "# Dados de exemplo\n",
        "categorias = [\"A\", \"B\", \"C\", \"D\"]\n",
        "valores = [3, 7, 2, 5]\n",
        "\n",
        "# Criando o gráfico de barras\n",
        "plt.bar(categorias, valores)\n",
        "\n",
        "# Adicionando título e rótulos\n",
        "plt.title(\"Gráfico de Barras\")\n",
        "plt.xlabel(\"Categorias\")\n",
        "plt.ylabel(\"Valores\")\n",
        "\n",
        "# Exibindo o gráfico\n",
        "plt.show()\n"
      ]
    },
    {
      "cell_type": "markdown",
      "source": [
        "---\n",
        "\n",
        "## **Histogramas**\n",
        "\n",
        "Os histogramas mostram a distribuição de uma variável.\n",
        "\n",
        "**Exemplo**\n"
      ],
      "metadata": {
        "id": "dryCbfvtwknJ"
      }
    },
    {
      "cell_type": "code",
      "execution_count": 47,
      "metadata": {
        "id": "0krgAeVCwknJ",
        "colab": {
          "base_uri": "https://localhost:8080/",
          "height": 472
        },
        "outputId": "dd979b9e-3697-4b02-fce8-a4cbb1b3474d"
      },
      "outputs": [
        {
          "output_type": "display_data",
          "data": {
            "text/plain": [
              "<Figure size 640x480 with 1 Axes>"
            ],
            "image/png": "[encoded data removed]"
          },
          "metadata": {}
        }
      ],
      "source": [
        "# Dados de exemplo\n",
        "dados = np.random.randn(1000)  # 1000 números aleatórios\n",
        "\n",
        "# Criando o histograma\n",
        "plt.hist(dados, color=\"blue\", edgecolor=\"black\")\n",
        "\n",
        "# Adicionando título e rótulos\n",
        "plt.title(\"Histograma\")\n",
        "plt.xlabel(\"Valores\")\n",
        "plt.ylabel(\"Frequência\")\n",
        "\n",
        "# Exibindo o gráfico\n",
        "plt.show()\n"
      ]
    },
    {
      "cell_type": "markdown",
      "source": [
        "---\n",
        "\n",
        "## **Gráficos de Pizza**\n",
        "\n",
        "Gráficos de pizza mostram proporções entre categorias.\n",
        "\n",
        "**Exemplo**\n"
      ],
      "metadata": {
        "id": "Iw6MrIr2w34I"
      }
    },
    {
      "cell_type": "code",
      "execution_count": 48,
      "metadata": {
        "id": "HoPoTMREw34I",
        "colab": {
          "base_uri": "https://localhost:8080/",
          "height": 428
        },
        "outputId": "f4906fd6-36b0-4076-9558-9468a2336628"
      },
      "outputs": [
        {
          "output_type": "display_data",
          "data": {
            "text/plain": [
              "<Figure size 640x480 with 1 Axes>"
            ],
            "image/png": "[encoded data removed]"
          },
          "metadata": {}
        }
      ],
      "source": [
        "# Dados de exemplo\n",
        "labels = [\"A\", \"B\", \"C\", \"D\"]\n",
        "sizes = [20, 30, 25, 25]\n",
        "\n",
        "# Criando o gráfico de pizza\n",
        "plt.pie(sizes, labels=labels)\n",
        "\n",
        "# Adicionando título\n",
        "plt.title(\"Gráfico de Pizza\")\n",
        "\n",
        "# Exibindo o gráfico\n",
        "plt.show()\n"
      ]
    },
    {
      "cell_type": "markdown",
      "source": [
        "---\n",
        "\n",
        "## **Gráfico Boxplot**\n",
        "\n",
        "Boxplots são úteis para visualizar a distribuição de dados e identificar valores atípicos. Vamos analisar um conjunto de dados fictício sobre notas de alunos em diferentes disciplinas.\n",
        "\n",
        "**Exemplo:** Utilize o boxplot da biblioteca Matplotlib para comparar as distribuições das notas em diferentes disciplinas."
      ],
      "metadata": {
        "id": "DTjsc6Am0F5q"
      }
    },
    {
      "cell_type": "code",
      "source": [
        "import pandas as pd\n",
        "import numpy as np\n",
        "import matplotlib.pyplot as plt\n",
        "\n",
        "# Gerando dados fictícios\n",
        "np.random.seed(42)\n",
        "dados_notas = {\n",
        "    \"Matemática\": np.random.normal(5.1, 0.9, 50).clip(0, 10),\n",
        "    \"Português\": np.random.normal(5.2, 1.7, 50).clip(0, 10),\n",
        "    \"História\": np.random.normal(6.5, 1.3, 50).clip(0, 10),\n",
        "    \"Ciências\": np.random.normal(8.5, 1.4, 50).clip(0, 10),\n",
        "}\n",
        "\n",
        "df_notas = pd.DataFrame(dados_notas)\n",
        "\n",
        "df_notas.loc[0:2,\"Matemática\"] = [9.7, 10, 8.9]\n",
        "\n",
        "print(\"Conjunto de Dados (primeiras 10 linhas):\")\n",
        "print(df_notas.head(10))\n",
        "print(\"\\n\")\n",
        "\n",
        "\n",
        "# Configurando o Boxplot\n",
        "plt.figure(figsize=(10, 6))\n",
        "plt.boxplot(df_notas.values, labels=df_notas.columns, patch_artist=True)\n",
        "plt.title(\"Distribuição das Notas por Disciplina\")\n",
        "plt.xlabel(\"Disciplinas\")\n",
        "plt.ylabel(\"Notas\")\n",
        "plt.ylim(-0.5,10.5)\n",
        "plt.grid(axis=\"y\", linestyle=\"--\", alpha=0.7)\n",
        "plt.show()\n"
      ],
      "metadata": {
        "id": "D4jMb4gz0bn_",
        "colab": {
          "base_uri": "https://localhost:8080/",
          "height": 821
        },
        "outputId": "4d767b60-23e3-4def-8305-8e5a0de5da1d"
      },
      "execution_count": 49,
      "outputs": [
        {
          "output_type": "stream",
          "name": "stdout",
          "text": [
            "Conjunto de Dados (primeiras 10 linhas):\n",
            "   Matemática  Português  História   Ciências\n",
            "0    9.700000   5.750943  4.660018   8.850690\n",
            "1   10.000000   4.545360  5.953161   8.985027\n",
            "2    8.900000   4.049233  6.054471   7.547965\n",
            "3    6.470727   6.239850  5.457040   8.825155\n",
            "4    4.889262   6.952699  6.290329   8.910301\n",
            "5    4.889277   6.783176  7.025266   7.499908\n",
            "6    6.521292   3.773330  8.952042  10.000000\n",
            "7    5.790691   4.674339  6.726951   9.163366\n",
            "8    4.677473   5.763148  6.834816   6.832175\n",
            "9    5.588304   6.858427  6.403220   9.419175\n",
            "\n",
            "\n"
          ]
        },
        {
          "output_type": "display_data",
          "data": {
            "text/plain": [
              "<Figure size 1000x600 with 1 Axes>"
            ],
            "image/png": "[encoded data removed]"
          },
          "metadata": {}
        }
      ]
    },
    {
      "cell_type": "markdown",
      "source": [
        "---\n",
        "\n",
        "## **Personalização de Gráficos**\n",
        "\n",
        "Você pode personalizar os gráficos adicionando:\n",
        "\n",
        "* Cores\n",
        "* Linhas tracejadas\n",
        "* Marcadores\n",
        "\n",
        "**Exemplo**\n"
      ],
      "metadata": {
        "id": "lM6x9k8jxMuX"
      }
    },
    {
      "cell_type": "code",
      "execution_count": 50,
      "metadata": {
        "id": "7rULxwnexMuY",
        "colab": {
          "base_uri": "https://localhost:8080/",
          "height": 472
        },
        "outputId": "e2a30502-294e-4135-d500-0cba8f3938e8"
      },
      "outputs": [
        {
          "output_type": "display_data",
          "data": {
            "text/plain": [
              "<Figure size 640x480 with 1 Axes>"
            ],
            "image/png": "[encoded data removed]"
          },
          "metadata": {}
        }
      ],
      "source": [
        "x = np.linspace(0, 10, 100)\n",
        "y1 = np.sin(x)\n",
        "y2 = np.cos(x)\n",
        "\n",
        "# Criando os gráficos\n",
        "plt.plot(x, y1, label=\"Seno\", linestyle=\"--\", color=\"red\")\n",
        "plt.plot(x, y2, label=\"Cosseno\", linestyle=\"-.\", color=\"blue\")\n",
        "\n",
        "# Adicionando título, legenda e grade\n",
        "plt.title(\"Gráfico de Funções Trigonométricas\")\n",
        "plt.xlabel(\"Eixo X\")\n",
        "plt.ylabel(\"Eixo Y\")\n",
        "plt.legend()  # Adiciona a legenda\n",
        "plt.grid()  # Adiciona grade\n",
        "\n",
        "# Exibindo o gráfico\n",
        "plt.show()\n"
      ]
    },
    {
      "cell_type": "markdown",
      "source": [
        "---\n",
        "\n",
        "## **Subplots (Múltiplos Gráficos em Uma Figura)**\n",
        "\n",
        "Você pode criar vários gráficos na mesma figura usando plt.subplot.\n",
        "\n",
        "**Exemplo**\n"
      ],
      "metadata": {
        "id": "lc6rGk3Gxh54"
      }
    },
    {
      "cell_type": "code",
      "execution_count": 51,
      "metadata": {
        "id": "V4f6EpJoxh54",
        "colab": {
          "base_uri": "https://localhost:8080/",
          "height": 486
        },
        "outputId": "5a7880ba-94bb-4196-c9ad-3cb9884d505d"
      },
      "outputs": [
        {
          "output_type": "display_data",
          "data": {
            "text/plain": [
              "<Figure size 640x480 with 3 Axes>"
            ],
            "image/png": "[encoded data removed]"
          },
          "metadata": {}
        }
      ],
      "source": [
        "x = np.linspace(0,10,100)\n",
        "sen_x = np.sin(x)\n",
        "cos_x = np.cos(x)\n",
        "\n",
        "# Criando os subplots\n",
        "plt.subplot(2, 2, 1)  # 2 linhas, 2 colunas, posição 1\n",
        "plt.plot(x, sen_x)\n",
        "plt.title(\"Subplot 1: Seno\")\n",
        "\n",
        "plt.subplot(2, 2, 2)  # 2 linhas, 2 colunas, posição 2\n",
        "plt.plot(x, cos_x)\n",
        "plt.title(\"Subplot 2: Cosseno\")\n",
        "\n",
        "plt.subplot(2, 2, 3)  # 2 linhas, 2 colunas, posição 3\n",
        "plt.plot(sen_x, cos_x)\n",
        "plt.title(\"Subplot 3: Seno vs Cosseno\")\n",
        "\n",
        "# Ajustando o layout\n",
        "plt.tight_layout() ## evita que as figuras fiquem sobrepostas\n",
        "\n",
        "# Exibindo os gráficos\n",
        "plt.show()\n"
      ]
    },
    {
      "cell_type": "markdown",
      "source": [
        "## Exemplo\n",
        "\n",
        "Considere o seguinte dataframe:"
      ],
      "metadata": {
        "id": "yCO6iWuBGB2a"
      }
    },
    {
      "cell_type": "code",
      "source": [
        "import pandas as pd\n",
        "import matplotlib.pyplot as plt\n",
        "\n",
        "# Dados fornecidos\n",
        "dados = {\n",
        "    \"Nome\": [\"Ana\", \"Bruno\", \"Carlos\", \"Diana\", \"Eduardo\", \"Fernanda\", \"Guilherme\", \"Heloísa\", \"Igor\", \"Julia\"],\n",
        "    \"Gênero\": [\"Feminino\", \"Masculino\", \"Masculino\", \"Feminino\", \"Masculino\", \"Feminino\", \"Masculino\", \"Feminino\", \"Masculino\", \"Feminino\"],\n",
        "    \"Notas\": [9.5, 5.3, 0.1, 6.1, 7.7, 8.4, 3.2, 5.8, 2.1, 9.2],\n",
        "    \"Menção\": [\"SS\", \"MM\", \"II\", \"MM\", \"MS\", \"MS\", \"MI\", \"MM\", \"II\", \"SS\"]\n",
        "}\n",
        "\n",
        "# Criação do DataFrame\n",
        "df = pd.DataFrame(dados)\n",
        "\n",
        "# Exibição do DataFrame\n",
        "print(df)\n"
      ],
      "metadata": {
        "id": "8OL0KD8aGTYV",
        "colab": {
          "base_uri": "https://localhost:8080/"
        },
        "outputId": "190e5138-3013-42b6-a533-940907dfcf2d"
      },
      "execution_count": 52,
      "outputs": [
        {
          "output_type": "stream",
          "name": "stdout",
          "text": [
            "        Nome     Gênero  Notas Menção\n",
            "0        Ana   Feminino    9.5     SS\n",
            "1      Bruno  Masculino    5.3     MM\n",
            "2     Carlos  Masculino    0.1     II\n",
            "3      Diana   Feminino    6.1     MM\n",
            "4    Eduardo  Masculino    7.7     MS\n",
            "5   Fernanda   Feminino    8.4     MS\n",
            "6  Guilherme  Masculino    3.2     MI\n",
            "7    Heloísa   Feminino    5.8     MM\n",
            "8       Igor  Masculino    2.1     II\n",
            "9      Julia   Feminino    9.2     SS\n"
          ]
        }
      ]
    },
    {
      "cell_type": "markdown",
      "source": [
        "Vamos fazer algumas figuras para descrever esses dados."
      ],
      "metadata": {
        "id": "sZoo5O04GlK_"
      }
    },
    {
      "cell_type": "code",
      "source": [
        "# Histograma das Notas\n",
        "plt.figure(figsize=(8, 6))\n",
        "df['Notas'].plot(kind='hist', bins=5, color='skyblue', edgecolor='black', alpha=0.7)\n",
        "plt.title('Distribuição das Notas')\n",
        "plt.xlabel('Notas')\n",
        "plt.ylabel('Frequência')\n",
        "plt.xlim(0,10)\n",
        "#plt.grid()\n",
        "plt.show()"
      ],
      "metadata": {
        "id": "99dPepX0Gw86",
        "colab": {
          "base_uri": "https://localhost:8080/",
          "height": 564
        },
        "outputId": "fa401dbe-f0df-49f3-fbbb-ee9818eba6ed"
      },
      "execution_count": 53,
      "outputs": [
        {
          "output_type": "display_data",
          "data": {
            "text/plain": [
              "<Figure size 800x600 with 1 Axes>"
            ],
            "image/png": "[encoded data removed]"
          },
          "metadata": {}
        }
      ]
    },
    {
      "cell_type": "code",
      "source": [
        "# Boxplot das Notas por Gênero\n",
        "plt.figure(figsize=(8, 6))\n",
        "df.boxplot(column='Notas', by='Gênero', grid=False)\n",
        "plt.title('Boxplot das Notas por Gênero')\n",
        "plt.suptitle('')  # Remove o título automático do pandas\n",
        "plt.xlabel('Gênero')\n",
        "plt.ylabel('Notas')\n",
        "plt.show()\n"
      ],
      "metadata": {
        "id": "DtBzDO8GHaT6",
        "colab": {
          "base_uri": "https://localhost:8080/",
          "height": 481
        },
        "outputId": "bc70be8d-408b-4110-e31c-5be45968c650"
      },
      "execution_count": 54,
      "outputs": [
        {
          "output_type": "display_data",
          "data": {
            "text/plain": [
              "<Figure size 800x600 with 0 Axes>"
            ]
          },
          "metadata": {}
        },
        {
          "output_type": "display_data",
          "data": {
            "text/plain": [
              "<Figure size 640x480 with 1 Axes>"
            ],
            "image/png": "[encoded data removed]"
          },
          "metadata": {}
        }
      ]
    },
    {
      "cell_type": "code",
      "source": [
        "# Gráfico de pizza para as menções\n",
        "\n",
        "contagens = df[\"Menção\"].value_counts()  # Contagem dos valores únicos em 'Menção'\n",
        "size = list(contagens.values)  # Tamanhos das fatias\n",
        "labels = list(contagens.index)  # Rótulos das fatias\n",
        "\n",
        "# Exibindo informações de controle\n",
        "print(\"Tamanhos (size):\", size)\n",
        "print(\"Rótulos (labels):\", labels)\n",
        "print(\"\\n\")\n",
        "\n",
        "# construcao do gráfico\n",
        "plt.figure(figsize=(5, 5))\n",
        "plt.pie( size, labels=labels,\n",
        "        autopct='%1.1f%%', # Mostra as porcentagens\n",
        "         startangle=90     # Ajusta o ângulo inicial\n",
        "         )\n",
        "plt.title(\"Distribuição das Menções\", fontsize=12)\n",
        "plt.show()"
      ],
      "metadata": {
        "id": "A4LJQzojHArX",
        "colab": {
          "base_uri": "https://localhost:8080/",
          "height": 517
        },
        "outputId": "45fa5495-ae7f-43c1-b69d-aa9a174f45e9"
      },
      "execution_count": 55,
      "outputs": [
        {
          "output_type": "stream",
          "name": "stdout",
          "text": [
            "Tamanhos (size): [3, 2, 2, 2, 1]\n",
            "Rótulos (labels): ['MM', 'SS', 'II', 'MS', 'MI']\n",
            "\n",
            "\n"
          ]
        },
        {
          "output_type": "display_data",
          "data": {
            "text/plain": [
              "<Figure size 500x500 with 1 Axes>"
            ],
            "image/png": "[encoded data removed]"
          },
          "metadata": {}
        }
      ]
    },
    {
      "cell_type": "markdown",
      "source": [
        "### Exercício 3\n",
        "\n",
        "\n",
        "Considere o seguinte conjunto de dados:\n",
        "\n",
        "```python\n",
        "import pandas as pd\n",
        "import numpy as np\n",
        "\n",
        "np.random.seed(42)\n",
        "\n",
        "# Criando o DataFrame\n",
        "dados_vendas = {\n",
        "    \"Loja\": np.random.choice([\"Loja A\", \"Loja B\", \"Loja C\"], 100),\n",
        "    \"Produto\": np.random.choice([\"Notebook\", \"Tablet\", \"Smartphone\", \"Fone de Ouvido\"], 100),\n",
        "    \"Mês\": np.random.choice([\"Jan\", \"Fev\", \"Mar\", \"Abr\", \"Mai\", \"Jun\"], 100),\n",
        "    \"Quantidade\": np.random.randint(1, 20, 100),\n",
        "    \"Valor Total (R$)\": np.random.randint(100, 5000, 100),\n",
        "}\n",
        "\n",
        "df = pd.DataFrame(dados_vendas)\n",
        "\n",
        "print(df.head())\n",
        "\n",
        "```\n",
        "Então:\n",
        "\n",
        "1. Faça um gráfico de pizza mostrando a participação de cada loja no valor total das vendas.\n",
        "  \n",
        "  * Dica: Utilize `.groupby(\"Loja\")[\"Valor Total (R$)\"].sum()` e `plt.pie()`.\n",
        "\n",
        "2. Faça um gráfico de Boxplot da quantidade vendida por produto.\n",
        "  \n",
        "  * Dica: Utilize `.groupby(\"Produto\")[\"Quantidade\"].agg(list)` e `plt.boxplot()`.\n",
        "\n"
      ],
      "metadata": {
        "id": "HXvMmCmr75TU"
      }
    },
    {
      "cell_type": "code",
      "source": [
        "import pandas as pd\n",
        "import numpy as np\n",
        "\n",
        "np.random.seed(42)\n",
        "\n",
        "# Criando o DataFrame\n",
        "dados_vendas = {\n",
        "    \"Loja\": np.random.choice([\"Loja A\", \"Loja B\", \"Loja C\"], 100),\n",
        "    \"Produto\": np.random.choice([\"Notebook\", \"Tablet\", \"Smartphone\", \"Fone de Ouvido\"], 100),\n",
        "    \"Mês\": np.random.choice([\"Jan\", \"Fev\", \"Mar\", \"Abr\", \"Mai\", \"Jun\"], 100),\n",
        "    \"Quantidade\": np.random.randint(1, 20, 100),\n",
        "    \"Valor Total (R$)\": np.random.randint(100, 5000, 100),\n",
        "}\n",
        "\n",
        "df = pd.DataFrame(dados_vendas)\n",
        "print(df.head())\n",
        "\n",
        "#1#\n",
        "\n",
        "agrupado=df.groupby(\"Loja\")[\"Valor Total (R$)\"].sum()\n",
        "print(agrupado)\n",
        "labels = list(agrupado.index)\n",
        "sizes = list(agrupado.values)\n",
        "plt.pie(sizes, labels=labels,autopct='%1.1f%%',startangle=90 )\n",
        "plt.title(\"Gráfico de Pizza da Renda por Loja\")\n",
        "plt.show()\n",
        "\n",
        "#2#\n",
        "\n",
        "agrupado2=df.groupby(\"Produto\")[\"Quantidade\"].agg(list)\n",
        "indexo=list(agrupado2.index)\n",
        "plt.figure(figsize=(8, 6))\n",
        "plt.boxplot(agrupado2, labels=indexo)\n",
        "plt.title('Boxplot da quantidade por Produto')\n",
        "plt.xlabel('Produto')\n",
        "plt.ylabel('Quantidade')\n",
        "plt.show()\n"
      ],
      "metadata": {
        "id": "NOZ45DO4wx68",
        "outputId": "60990b1b-ba5c-4773-edcc-241b0724081a",
        "colab": {
          "base_uri": "https://localhost:8080/",
          "height": 1000
        }
      },
      "execution_count": 76,
      "outputs": [
        {
          "output_type": "stream",
          "name": "stdout",
          "text": [
            "     Loja         Produto  Mês  Quantidade  Valor Total (R$)\n",
            "0  Loja C  Fone de Ouvido  Abr          17              4595\n",
            "1  Loja A  Fone de Ouvido  Jan           2              2801\n",
            "2  Loja C  Fone de Ouvido  Jun           1              1071\n",
            "3  Loja C      Smartphone  Jan          16              1266\n",
            "4  Loja A      Smartphone  Jan          12              2874\n",
            "Loja\n",
            "Loja A    94986\n",
            "Loja B    97448\n",
            "Loja C    73763\n",
            "Name: Valor Total (R$), dtype: int64\n"
          ]
        },
        {
          "output_type": "display_data",
          "data": {
            "text/plain": [
              "<Figure size 640x480 with 1 Axes>"
            ],
            "image/png": "[encoded data removed]"
          },
          "metadata": {}
        },
        {
          "output_type": "display_data",
          "data": {
            "text/plain": [
              "<Figure size 800x600 with 1 Axes>"
            ],
            "image/png": "[encoded data removed]"
          },
          "metadata": {}
        }
      ]
    }
  ]
}